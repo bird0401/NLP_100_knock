{
  "nbformat": 4,
  "nbformat_minor": 0,
  "metadata": {
    "colab": {
      "name": "chap7_vector.ipynb",
      "provenance": [],
      "collapsed_sections": [],
      "authorship_tag": "ABX9TyN/lFqpuzd0JOuD0O9wcqFZ",
      "include_colab_link": true
    },
    "kernelspec": {
      "name": "python3",
      "display_name": "Python 3"
    },
    "language_info": {
      "name": "python"
    },
    "accelerator": "GPU"
  },
  "cells": [
    {
      "cell_type": "markdown",
      "metadata": {
        "id": "view-in-github",
        "colab_type": "text"
      },
      "source": [
        "<a href=\"https://colab.research.google.com/github/mot1122/NLP_100_knock/blob/main/chap7_vector.ipynb\" target=\"_parent\"><img src=\"https://colab.research.google.com/assets/colab-badge.svg\" alt=\"Open In Colab\"/></a>"
      ]
    },
    {
      "cell_type": "markdown",
      "source": [
        "# 第7章: 単語ベクトル\n",
        "### 60 単語ベクトルの読み込みと表示\n",
        ">>\n",
        "Google Newsデータセット（約1,000億単語）での学習済み単語ベクトル（300万単語・フレーズ，300次元）をダウンロードし，”United States”の単語ベクトルを表示せよ．"
      ],
      "metadata": {
        "id": "UrvORtvvuahV"
      }
    },
    {
      "cell_type": "code",
      "source": [
        "!wget \"https://s3.amazonaws.com/dl4j-distribution/GoogleNews-vectors-negative300.bin.gz\""
      ],
      "metadata": {
        "colab": {
          "base_uri": "https://localhost:8080/"
        },
        "id": "0FBjj4ey1A8A",
        "outputId": "cf0f3b1b-dcca-4b0e-b115-419ac47ac91b"
      },
      "execution_count": 1,
      "outputs": [
        {
          "output_type": "stream",
          "name": "stdout",
          "text": [
            "--2022-01-30 09:15:22--  https://s3.amazonaws.com/dl4j-distribution/GoogleNews-vectors-negative300.bin.gz\n",
            "Resolving s3.amazonaws.com (s3.amazonaws.com)... 52.216.92.37\n",
            "Connecting to s3.amazonaws.com (s3.amazonaws.com)|52.216.92.37|:443... connected.\n",
            "HTTP request sent, awaiting response... 200 OK\n",
            "Length: 1647046227 (1.5G) [application/x-gzip]\n",
            "Saving to: ‘GoogleNews-vectors-negative300.bin.gz’\n",
            "\n",
            "GoogleNews-vectors- 100%[===================>]   1.53G  46.8MB/s    in 34s     \n",
            "\n",
            "2022-01-30 09:15:57 (46.0 MB/s) - ‘GoogleNews-vectors-negative300.bin.gz’ saved [1647046227/1647046227]\n",
            "\n"
          ]
        }
      ]
    },
    {
      "cell_type": "code",
      "source": [
        "from gensim.models import KeyedVectors\n",
        "model = KeyedVectors.load_word2vec_format('./GoogleNews-vectors-negative300.bin.gz', binary=True)"
      ],
      "metadata": {
        "id": "th-Oc_4u1DrL"
      },
      "execution_count": 2,
      "outputs": []
    },
    {
      "cell_type": "code",
      "source": [
        "model['United_States'][:5]"
      ],
      "metadata": {
        "colab": {
          "base_uri": "https://localhost:8080/"
        },
        "id": "f6vq4pcO1E7u",
        "outputId": "4c91d5e8-4231-46fb-ee8d-b348817eb3f8"
      },
      "execution_count": 3,
      "outputs": [
        {
          "output_type": "execute_result",
          "data": {
            "text/plain": [
              "array([-0.03613281, -0.04833984,  0.23535156,  0.17480469, -0.14648438],\n",
              "      dtype=float32)"
            ]
          },
          "metadata": {},
          "execution_count": 3
        }
      ]
    },
    {
      "cell_type": "markdown",
      "source": [
        "### 61 単語の類似度\n",
        ">>\n",
        "“United States”と”U.S.”のコサイン類似度を計算せよ．"
      ],
      "metadata": {
        "id": "I5CapbAx1L4r"
      }
    },
    {
      "cell_type": "code",
      "source": [
        "model.similarity('United_States', 'U.S.')"
      ],
      "metadata": {
        "colab": {
          "base_uri": "https://localhost:8080/"
        },
        "id": "NaZ3mGRn1Std",
        "outputId": "70e2ef4f-fcd4-4411-8d2c-41cd4ba0381b"
      },
      "execution_count": 4,
      "outputs": [
        {
          "output_type": "execute_result",
          "data": {
            "text/plain": [
              "0.73107743"
            ]
          },
          "metadata": {},
          "execution_count": 4
        }
      ]
    },
    {
      "cell_type": "markdown",
      "source": [
        "### 62 類似度の高い単語10件\n",
        ">>\n",
        "“United States”とコサイン類似度が高い10語と，その類似度を出力せよ．"
      ],
      "metadata": {
        "id": "Mxsj9jax1VLr"
      }
    },
    {
      "cell_type": "code",
      "source": [
        "model.most_similar(\"United_States\",topn=5)"
      ],
      "metadata": {
        "id": "SnmHDvMe1nmE",
        "colab": {
          "base_uri": "https://localhost:8080/"
        },
        "outputId": "eea6dbaa-e310-428b-c5b2-9c1bb4221a63"
      },
      "execution_count": 5,
      "outputs": [
        {
          "output_type": "execute_result",
          "data": {
            "text/plain": [
              "[('Unites_States', 0.7877248525619507),\n",
              " ('Untied_States', 0.7541370391845703),\n",
              " ('United_Sates', 0.74007248878479),\n",
              " ('U.S.', 0.7310774326324463),\n",
              " ('theUnited_States', 0.6404393911361694)]"
            ]
          },
          "metadata": {},
          "execution_count": 5
        }
      ]
    },
    {
      "cell_type": "markdown",
      "source": [
        "### 63 加法構成性によるアナロジー\n",
        ">>\n",
        "“Spain”の単語ベクトルから”Madrid”のベクトルを引き，”Athens”のベクトルを足したベクトルを計算し，そのベクトルと類似度の高い10語とその類似度を出力せよ．"
      ],
      "metadata": {
        "id": "5vG6Tt0Q106q"
      }
    },
    {
      "cell_type": "code",
      "source": [
        "vec=model[\"Spain\"]-model[\"Madrid\"]+model[\"Athens\"]\n",
        "model.most_similar(positive=[\"Spain\",\"Athens\"],negative=[\"Madrid\"],topn=5)"
      ],
      "metadata": {
        "colab": {
          "base_uri": "https://localhost:8080/"
        },
        "id": "dTpK7cY62Ah5",
        "outputId": "8040a988-c3d4-43c6-bb8a-d03a1ef6581c"
      },
      "execution_count": 6,
      "outputs": [
        {
          "output_type": "execute_result",
          "data": {
            "text/plain": [
              "[('Greece', 0.6898481249809265),\n",
              " ('Aristeidis_Grigoriadis', 0.5606848001480103),\n",
              " ('Ioannis_Drymonakos', 0.5552908778190613),\n",
              " ('Greeks', 0.545068621635437),\n",
              " ('Ioannis_Christou', 0.5400862693786621)]"
            ]
          },
          "metadata": {},
          "execution_count": 6
        }
      ]
    },
    {
      "cell_type": "markdown",
      "source": [
        "### 64 アナロジーデータでの実験\n",
        ">>\n",
        "単語アナロジーの評価データをダウンロードし，vec(2列目の単語) - vec(1列目の単語) + vec(3列目の単語)を計算し，そのベクトルと類似度が最も高い単語と，その類似度を求めよ．求めた単語と類似度は，各事例の末尾に追記せよ．"
      ],
      "metadata": {
        "id": "DKCM8-eM2DqD"
      }
    },
    {
      "cell_type": "code",
      "source": [
        "!wget http://download.tensorflow.org/data/questions-words.txt"
      ],
      "metadata": {
        "colab": {
          "base_uri": "https://localhost:8080/"
        },
        "id": "nQKa_3iu4oGb",
        "outputId": "c9ab30cb-aea3-4c04-8404-145e9f13e03d"
      },
      "execution_count": 7,
      "outputs": [
        {
          "output_type": "stream",
          "name": "stdout",
          "text": [
            "--2022-01-30 09:18:29--  http://download.tensorflow.org/data/questions-words.txt\n",
            "Resolving download.tensorflow.org (download.tensorflow.org)... 142.251.107.128, 2607:f8b0:400c:c32::80\n",
            "Connecting to download.tensorflow.org (download.tensorflow.org)|142.251.107.128|:80... connected.\n",
            "HTTP request sent, awaiting response... 200 OK\n",
            "Length: 603955 (590K) [text/plain]\n",
            "Saving to: ‘questions-words.txt’\n",
            "\n",
            "questions-words.txt 100%[===================>] 589.80K  --.-KB/s    in 0.003s  \n",
            "\n",
            "2022-01-30 09:18:29 (230 MB/s) - ‘questions-words.txt’ saved [603955/603955]\n",
            "\n"
          ]
        }
      ]
    },
    {
      "cell_type": "code",
      "source": [
        "!wc -l questions-words.txt"
      ],
      "metadata": {
        "colab": {
          "base_uri": "https://localhost:8080/"
        },
        "id": "L5SURAd6p13B",
        "outputId": "0b59c3a4-7fe2-44c2-bd6a-b385927c9579"
      },
      "execution_count": 8,
      "outputs": [
        {
          "output_type": "stream",
          "name": "stdout",
          "text": [
            "19558 questions-words.txt\n"
          ]
        }
      ]
    },
    {
      "cell_type": "code",
      "source": [
        "!head -5 questions-words.txt"
      ],
      "metadata": {
        "colab": {
          "base_uri": "https://localhost:8080/"
        },
        "id": "9QaOHMcc4plo",
        "outputId": "78578b56-0492-4217-8195-8f3b9d98183d"
      },
      "execution_count": 9,
      "outputs": [
        {
          "output_type": "stream",
          "name": "stdout",
          "text": [
            ": capital-common-countries\n",
            "Athens Greece Baghdad Iraq\n",
            "Athens Greece Bangkok Thailand\n",
            "Athens Greece Beijing China\n",
            "Athens Greece Berlin Germany\n"
          ]
        }
      ]
    },
    {
      "cell_type": "code",
      "source": [
        "with open(\"questions-words.txt\",\"r\") as fr, open(\"questions-words-added.txt\",\"w\") as fw:\n",
        "  for line in fr:\n",
        "    words=line.split()\n",
        "    if words[0]== \":\":fw.write(line);cnt=0\n",
        "    elif cnt<=20:\n",
        "      ans,cos=model.most_similar(positive=[words[1],words[2]],negative=[words[0]],topn=1)[0]\n",
        "      fw.write(\" \".join(words+[ans,str(cos),\"\\n\"]))\n",
        "      cnt+=1"
      ],
      "metadata": {
        "id": "5sHMPAfT4r9t"
      },
      "execution_count": 12,
      "outputs": []
    },
    {
      "cell_type": "code",
      "source": [
        "!wc -l questions-words-added.txt"
      ],
      "metadata": {
        "colab": {
          "base_uri": "https://localhost:8080/"
        },
        "id": "c6vRpiV0vhxl",
        "outputId": "3b3ea033-42fa-4b4b-d0f1-3c5c93181b28"
      },
      "execution_count": 13,
      "outputs": [
        {
          "output_type": "stream",
          "name": "stdout",
          "text": [
            "308 questions-words-added.txt\n"
          ]
        }
      ]
    },
    {
      "cell_type": "code",
      "source": [
        " !head -5 questions-words-added.txt"
      ],
      "metadata": {
        "colab": {
          "base_uri": "https://localhost:8080/"
        },
        "id": "WFIrNuE77_MJ",
        "outputId": "d4544aea-5ff3-4d44-fc42-c68300895f59"
      },
      "execution_count": 14,
      "outputs": [
        {
          "output_type": "stream",
          "name": "stdout",
          "text": [
            ": capital-common-countries\n",
            "Athens Greece Baghdad Iraq Iraqi 0.6351870894432068 \n",
            "Athens Greece Bangkok Thailand Thailand 0.7137669324874878 \n",
            "Athens Greece Beijing China China 0.7235777974128723 \n",
            "Athens Greece Berlin Germany Germany 0.6734622120857239 \n"
          ]
        }
      ]
    },
    {
      "cell_type": "markdown",
      "source": [
        "### 65 アナロジータスクでの正解率\n",
        ">>\n",
        "64の実行結果を用い，意味的アナロジー（semantic analogy）と文法的アナロジー（syntactic analogy）の正解率を測定せよ．"
      ],
      "metadata": {
        "id": "jGCOa7yX8Zah"
      }
    },
    {
      "cell_type": "code",
      "source": [
        "flag=True\n",
        "sem_cnt,sem_corr,syn_cnt,syn_corr=0,0,0,0\n",
        "with open(\"questions-words-added.txt\",\"r\") as f:\n",
        "  for line in f:\n",
        "    words=line.split()\n",
        "    if words[0]==\":\":\n",
        "      if words[1].startswith(\"gram\") :flag=False\n",
        "      else:flag=True\n",
        "    else:\n",
        "      if flag:\n",
        "        sem_cnt+=1\n",
        "        if words[3]==words[4]:sem_corr+=1\n",
        "      else:\n",
        "        syn_cnt+=1\n",
        "        if words[3]==words[4]:syn_corr+=1\n",
        "print(f\"semantic accuracy;{sem_corr/sem_cnt}\")\n",
        "print(f\"syntactic accuracy:{syn_corr/syn_cnt}\")"
      ],
      "metadata": {
        "id": "2UOlwArz8hKV",
        "colab": {
          "base_uri": "https://localhost:8080/"
        },
        "outputId": "55239f8d-c968-490c-de27-52b8e33d7158"
      },
      "execution_count": 22,
      "outputs": [
        {
          "output_type": "stream",
          "name": "stdout",
          "text": [
            "semantic accuracy;0.7619047619047619\n",
            "syntactic accuracy:0.6878306878306878\n"
          ]
        }
      ]
    },
    {
      "cell_type": "markdown",
      "source": [
        "### 66 WordSimilarity-353での評価\n",
        ">>\n",
        "The WordSimilarity-353 Test Collectionの評価データをダウンロードし，単語ベクトルにより計算される類似度のランキングと，人間の類似度判定のランキングの間のスピアマン相関係数を計算せよ． "
      ],
      "metadata": {
        "id": "JBQY01fC-C65"
      }
    },
    {
      "cell_type": "code",
      "source": [
        "!wget http://www.gabrilovich.com/resources/data/wordsim353/wordsim353.zip\n",
        "!unzip wordsim353.zip"
      ],
      "metadata": {
        "id": "w95PtZMzLNNK",
        "colab": {
          "base_uri": "https://localhost:8080/"
        },
        "outputId": "b01822d9-018b-48c5-e830-c818951df85f"
      },
      "execution_count": 23,
      "outputs": [
        {
          "output_type": "stream",
          "name": "stdout",
          "text": [
            "--2022-01-30 09:30:03--  http://www.gabrilovich.com/resources/data/wordsim353/wordsim353.zip\n",
            "Resolving www.gabrilovich.com (www.gabrilovich.com)... 208.97.177.37\n",
            "Connecting to www.gabrilovich.com (www.gabrilovich.com)|208.97.177.37|:80... connected.\n",
            "HTTP request sent, awaiting response... 301 Moved Permanently\n",
            "Location: https://gabrilovich.com/resources/data/wordsim353/wordsim353.zip [following]\n",
            "--2022-01-30 09:30:03--  https://gabrilovich.com/resources/data/wordsim353/wordsim353.zip\n",
            "Resolving gabrilovich.com (gabrilovich.com)... 208.97.177.37\n",
            "Connecting to gabrilovich.com (gabrilovich.com)|208.97.177.37|:443... connected.\n",
            "HTTP request sent, awaiting response... 200 OK\n",
            "Length: 23257 (23K) [application/zip]\n",
            "Saving to: ‘wordsim353.zip’\n",
            "\n",
            "wordsim353.zip      100%[===================>]  22.71K  --.-KB/s    in 0.02s   \n",
            "\n",
            "2022-01-30 09:30:03 (982 KB/s) - ‘wordsim353.zip’ saved [23257/23257]\n",
            "\n",
            "Archive:  wordsim353.zip\n",
            "  inflating: combined.csv            \n",
            "  inflating: set1.csv                \n",
            "  inflating: set2.csv                \n",
            "  inflating: combined.tab            \n",
            "  inflating: set1.tab                \n",
            "  inflating: set2.tab                \n",
            "  inflating: instructions.txt        \n"
          ]
        }
      ]
    },
    {
      "cell_type": "code",
      "source": [
        "!head -5 './combined.csv'"
      ],
      "metadata": {
        "id": "_k9axXXiLka3",
        "colab": {
          "base_uri": "https://localhost:8080/"
        },
        "outputId": "3c1b7ae2-fd1d-4e29-9632-3d890df84c8c"
      },
      "execution_count": 24,
      "outputs": [
        {
          "output_type": "stream",
          "name": "stdout",
          "text": [
            "Word 1,Word 2,Human (mean)\r\n",
            "love,sex,6.77\r\n",
            "tiger,cat,7.35\r\n",
            "tiger,tiger,10.00\r\n",
            "book,paper,7.46\r\n"
          ]
        }
      ]
    },
    {
      "cell_type": "code",
      "source": [
        "human,w2v=[],[]\n",
        "with open(\"combined.csv\",\"r\") as f:\n",
        "  next(f)\n",
        "  for line in f:\n",
        "    w1,w2,v=line.split(\",\")\n",
        "    human.append(v)\n",
        "    w2v.append(model.similarity(w1,w2))"
      ],
      "metadata": {
        "id": "CJSGTjj5LngT"
      },
      "execution_count": 25,
      "outputs": []
    },
    {
      "cell_type": "code",
      "source": [
        "import numpy as np\n",
        "from scipy.stats import spearmanr"
      ],
      "metadata": {
        "id": "Fe8ql8tbNs-3"
      },
      "execution_count": 26,
      "outputs": []
    },
    {
      "cell_type": "code",
      "source": [
        "correlation,_=spearmanr(human,w2v)"
      ],
      "metadata": {
        "id": "JL_1vptnO8R-"
      },
      "execution_count": 27,
      "outputs": []
    },
    {
      "cell_type": "code",
      "source": [
        "print(f\"correlation:{correlation:.3f}\")"
      ],
      "metadata": {
        "id": "Mxxw834kPwml",
        "colab": {
          "base_uri": "https://localhost:8080/"
        },
        "outputId": "c890e776-6a33-472a-cd7f-0869784741ea"
      },
      "execution_count": 28,
      "outputs": [
        {
          "output_type": "stream",
          "name": "stdout",
          "text": [
            "correlation:0.685\n"
          ]
        }
      ]
    },
    {
      "cell_type": "markdown",
      "source": [
        "### 67 k-meansクラスタリング\n",
        ">>\n",
        "国名に関する単語ベクトルを抽出し，k-meansクラスタリングをクラスタ数k=5として実行せよ．"
      ],
      "metadata": {
        "id": "6IrlLe-CPd1A"
      }
    },
    {
      "cell_type": "code",
      "source": [
        "countries=set()\n",
        "flag=0\n",
        "with open(\"questions-words.txt\") as f:\n",
        "  for line in f:\n",
        "    words=line.split()\n",
        "    if words[0]== \":\":\n",
        "      if words[1] in ['capital-common-countries', 'capital-world']:flag=1\n",
        "      elif words[1] in ['currency', 'gram6-nationality-adjective']:flag=2\n",
        "      else:flag=0\n",
        "    else:\n",
        "      if flag==1:countries.add(words[1])\n",
        "      elif flag==2:countries.add(words[0])\n",
        "  countries=list(countries)\n",
        "  countries_vec=[model[country] for country in countries]"
      ],
      "metadata": {
        "id": "fgb2MaXIPlfA"
      },
      "execution_count": 29,
      "outputs": []
    },
    {
      "cell_type": "code",
      "source": [
        "from sklearn.cluster import KMeans"
      ],
      "metadata": {
        "id": "aHSTktS0S73f"
      },
      "execution_count": 30,
      "outputs": []
    },
    {
      "cell_type": "code",
      "source": [
        "kmeans=KMeans(n_clusters=5)\n",
        "kmeans.fit(countries_vec)"
      ],
      "metadata": {
        "id": "RDxyPbV6TAAa",
        "colab": {
          "base_uri": "https://localhost:8080/"
        },
        "outputId": "5268f844-0a2f-49e5-c001-7e3e219ee120"
      },
      "execution_count": 31,
      "outputs": [
        {
          "output_type": "execute_result",
          "data": {
            "text/plain": [
              "KMeans(n_clusters=5)"
            ]
          },
          "metadata": {},
          "execution_count": 31
        }
      ]
    },
    {
      "cell_type": "code",
      "source": [
        "for i in range(5):\n",
        "  cluster=np.where(kmeans.labels_==i)[0]\n",
        "  print(f\"cluster:{i}\")\n",
        "  print(\" \".join([countries[j] for j in cluster]))"
      ],
      "metadata": {
        "id": "gQUgXQqQTK2u",
        "colab": {
          "base_uri": "https://localhost:8080/"
        },
        "outputId": "18e0d65b-a193-4e24-a766-a0af1a47c622"
      },
      "execution_count": 32,
      "outputs": [
        {
          "output_type": "stream",
          "name": "stdout",
          "text": [
            "cluster:0\n",
            "Netherlands Switzerland Europe Spain Sweden Liechtenstein Ireland USA England Austria Finland Portugal Greenland Norway Malta Denmark Italy Germany Belgium France Cyprus Greece Canada Iceland\n",
            "cluster:1\n",
            "Poland Montenegro Lithuania Turkmenistan Kyrgyzstan Turkey Bulgaria Uzbekistan Croatia Serbia Tajikistan Belarus Estonia Macedonia Ukraine Albania Moldova Slovakia Armenia Kazakhstan Georgia Hungary Slovenia Latvia Romania Russia Azerbaijan\n",
            "cluster:2\n",
            "Brazil Jamaica Suriname Venezuela Dominica Mexico Tuvalu Belize Samoa Nicaragua Peru Bahamas Chile Argentina Cuba Colombia Ecuador Honduras Uruguay Guyana\n",
            "cluster:3\n",
            "Libya Mozambique Tunisia Namibia Zambia Botswana Niger Burundi Sudan Mali Kenya Rwanda Madagascar Guinea Nigeria Gambia Algeria Zimbabwe Malawi Eritrea Gabon Liberia Ghana Angola Senegal Uganda Mauritania Somalia\n",
            "cluster:4\n",
            "Morocco Cambodia Vietnam China Pakistan Malaysia Philippines Thailand Iraq Taiwan Israel Iran Bhutan Korea Laos Jordan Afghanistan Oman India Indonesia Bahrain Qatar Lebanon Bangladesh Nepal Egypt Fiji Syria Japan Australia\n"
          ]
        }
      ]
    },
    {
      "cell_type": "markdown",
      "source": [
        "### 68 Ward法によるクラスタリング\n",
        ">>\n",
        "国名に関する単語ベクトルに対し，Ward法による階層型クラスタリングを実行せよ．さらに，クラスタリング結果をデンドログラムとして可視化せよ．"
      ],
      "metadata": {
        "id": "JyQoAponTZGt"
      }
    },
    {
      "cell_type": "code",
      "source": [
        "from matplotlib import pyplot as plt\n",
        "from scipy.cluster.hierarchy import dendrogram,linkage"
      ],
      "metadata": {
        "id": "kknHxr8iYGc_"
      },
      "execution_count": 33,
      "outputs": []
    },
    {
      "cell_type": "code",
      "source": [
        "plt.figure(figsize=(15,5))\n",
        "Z=linkage(countries_vec,method=\"ward\")\n",
        "dendrogram(Z)\n",
        "plt.show()"
      ],
      "metadata": {
        "id": "kcXBco6eaqr6",
        "colab": {
          "base_uri": "https://localhost:8080/",
          "height": 319
        },
        "outputId": "a2ffff3e-aedc-4dfb-9528-11ca94eeaec7"
      },
      "execution_count": 34,
      "outputs": [
        {
          "output_type": "display_data",
          "data": {
            "image/png": "[encoded data removed]",
            "text/plain": [
              "<Figure size 1080x360 with 1 Axes>"
            ]
          },
          "metadata": {
            "needs_background": "light"
          }
        }
      ]
    },
    {
      "cell_type": "markdown",
      "source": [
        "### 69 t-SNEによる可視化\n",
        ">>\n",
        "国名に関する単語ベクトルのベクトル空間をt-SNEで可視化せよ．"
      ],
      "metadata": {
        "id": "wC8osOnca3KB"
      }
    },
    {
      "cell_type": "code",
      "source": [
        "!pip install bhtsne"
      ],
      "metadata": {
        "id": "fFcM-pauboz6",
        "colab": {
          "base_uri": "https://localhost:8080/"
        },
        "outputId": "be7ca861-e962-4edd-8ab2-1f0752666d94"
      },
      "execution_count": 35,
      "outputs": [
        {
          "output_type": "stream",
          "name": "stdout",
          "text": [
            "Collecting bhtsne\n",
            "  Downloading bhtsne-0.1.9.tar.gz (86 kB)\n",
            "\u001b[?25l\r\u001b[K     |███▉                            | 10 kB 18.7 MB/s eta 0:00:01\r\u001b[K     |███████▋                        | 20 kB 23.9 MB/s eta 0:00:01\r\u001b[K     |███████████▍                    | 30 kB 12.3 MB/s eta 0:00:01\r\u001b[K     |███████████████▏                | 40 kB 10.2 MB/s eta 0:00:01\r\u001b[K     |███████████████████             | 51 kB 5.4 MB/s eta 0:00:01\r\u001b[K     |██████████████████████▉         | 61 kB 5.6 MB/s eta 0:00:01\r\u001b[K     |██████████████████████████▋     | 71 kB 5.8 MB/s eta 0:00:01\r\u001b[K     |██████████████████████████████▍ | 81 kB 6.5 MB/s eta 0:00:01\r\u001b[K     |████████████████████████████████| 86 kB 2.9 MB/s \n",
            "\u001b[?25hRequirement already satisfied: numpy in /usr/local/lib/python3.7/dist-packages (from bhtsne) (1.19.5)\n",
            "Requirement already satisfied: cython in /usr/local/lib/python3.7/dist-packages (from bhtsne) (0.29.26)\n",
            "Building wheels for collected packages: bhtsne\n",
            "  Building wheel for bhtsne (setup.py) ... \u001b[?25l\u001b[?25hdone\n",
            "  Created wheel for bhtsne: filename=bhtsne-0.1.9-cp37-cp37m-linux_x86_64.whl size=214506 sha256=75ddc6f3236ffe96e3484a70edb3939b78c4c384bce59243324e777f39c9c4cf\n",
            "  Stored in directory: /root/.cache/pip/wheels/e4/4c/71/26b7b0736d179d6bfe9d753629955515bf7ba7c1c8a8d98cb4\n",
            "Successfully built bhtsne\n",
            "Installing collected packages: bhtsne\n",
            "Successfully installed bhtsne-0.1.9\n"
          ]
        }
      ]
    },
    {
      "cell_type": "code",
      "source": [
        "import bhtsne"
      ],
      "metadata": {
        "id": "eIEZGy3GeDta"
      },
      "execution_count": 36,
      "outputs": []
    },
    {
      "cell_type": "code",
      "source": [
        "embedded=bhtsne.tsne(np.array(countries_vec).astype(np.float64),dimensions=2,rand_seed=123)\n",
        "plt.figure(figsize=(10,10))\n",
        "plt.scatter(np.array(embedded).T[0],np.array(embedded).T[1])\n",
        "for (x,y),name in zip(embedded,countries):\n",
        "  plt.annotate(name,(x,y))\n",
        "plt.show()"
      ],
      "metadata": {
        "id": "HoE4z116eE_d",
        "colab": {
          "base_uri": "https://localhost:8080/",
          "height": 592
        },
        "outputId": "1481001a-71b1-4a91-8203-71aaae54cc43"
      },
      "execution_count": 37,
      "outputs": [
        {
          "output_type": "display_data",
          "data": {
            "image/png": "[encoded data removed]",
            "text/plain": [
              "<Figure size 720x720 with 1 Axes>"
            ]
          },
          "metadata": {
            "needs_background": "light"
          }
        }
      ]
    }
  ]
}