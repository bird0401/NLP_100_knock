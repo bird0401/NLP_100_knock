{
  "nbformat": 4,
  "nbformat_minor": 0,
  "metadata": {
    "colab": {
      "name": "chap8_nn.ipynb",
      "provenance": [],
      "authorship_tag": "ABX9TyMABJ/EWz3HZ9b+ucp1UVpw",
      "include_colab_link": true
    },
    "kernelspec": {
      "name": "python3",
      "display_name": "Python 3"
    },
    "language_info": {
      "name": "python"
    },
    "accelerator": "GPU"
  },
  "cells": [
    {
      "cell_type": "markdown",
      "metadata": {
        "id": "view-in-github",
        "colab_type": "text"
      },
      "source": [
        "<a href=\"https://colab.research.google.com/github/mot1122/NLP_100_knock/blob/main/chap8_nn.ipynb\" target=\"_parent\"><img src=\"https://colab.research.google.com/assets/colab-badge.svg\" alt=\"Open In Colab\"/></a>"
      ]
    },
    {
      "cell_type": "markdown",
      "source": [
        "# 第8章: ニューラルネット"
      ],
      "metadata": {
        "id": "CZTryaXshhET"
      }
    },
    {
      "cell_type": "markdown",
      "source": [
        "第6章で取り組んだニュース記事のカテゴリ分類を題材として，ニューラルネットワークでカテゴリ分類モデルを実装する．なお，この章ではPyTorch, TensorFlow, Chainerなどの機械学習プラットフォームを活用せよ．"
      ],
      "metadata": {
        "id": "cV20YBdQobgi"
      }
    },
    {
      "cell_type": "markdown",
      "source": [
        "### 70 単語ベクトルの和による特徴量"
      ],
      "metadata": {
        "id": "ghUPPy1BnHgo"
      }
    },
    {
      "cell_type": "markdown",
      "source": [
        "問題50で構築した学習データ，検証データ，評価データを行列・ベクトルに変換したい．"
      ],
      "metadata": {
        "id": "xUcNEn8Jo0NP"
      }
    },
    {
      "cell_type": "code",
      "source": [
        "!wget https://archive.ics.uci.edu/ml/machine-learning-databases/00359/NewsAggregatorDataset.zip"
      ],
      "metadata": {
        "colab": {
          "base_uri": "https://localhost:8080/"
        },
        "id": "ZJgXW9yJoIsj",
        "outputId": "56a657ff-014d-468e-f4d0-4babbe24e3d9"
      },
      "execution_count": 121,
      "outputs": [
        {
          "output_type": "stream",
          "name": "stdout",
          "text": [
            "--2022-01-25 02:52:06--  https://archive.ics.uci.edu/ml/machine-learning-databases/00359/NewsAggregatorDataset.zip\n",
            "Resolving archive.ics.uci.edu (archive.ics.uci.edu)... 128.195.10.252\n",
            "Connecting to archive.ics.uci.edu (archive.ics.uci.edu)|128.195.10.252|:443... connected.\n",
            "HTTP request sent, awaiting response... 200 OK\n",
            "Length: 29224203 (28M) [application/x-httpd-php]\n",
            "Saving to: ‘NewsAggregatorDataset.zip.1’\n",
            "\n",
            "NewsAggregatorDatas 100%[===================>]  27.87M  25.2MB/s    in 1.1s    \n",
            "\n",
            "2022-01-25 02:52:07 (25.2 MB/s) - ‘NewsAggregatorDataset.zip.1’ saved [29224203/29224203]\n",
            "\n"
          ]
        }
      ]
    },
    {
      "cell_type": "code",
      "source": [
        "!unzip NewsAggregatorDataset.zip"
      ],
      "metadata": {
        "id": "vnur7DFum_SH",
        "colab": {
          "base_uri": "https://localhost:8080/"
        },
        "outputId": "d56cb563-a38f-4ed5-a895-1381a8acd373"
      },
      "execution_count": 122,
      "outputs": [
        {
          "output_type": "stream",
          "name": "stdout",
          "text": [
            "Archive:  NewsAggregatorDataset.zip\n",
            "replace 2pageSessions.csv? [y]es, [n]o, [A]ll, [N]one, [r]ename: y\n",
            "  inflating: 2pageSessions.csv       \n",
            "replace __MACOSX/._2pageSessions.csv? [y]es, [n]o, [A]ll, [N]one, [r]ename: y\n",
            "  inflating: __MACOSX/._2pageSessions.csv  \n",
            "replace newsCorpora.csv? [y]es, [n]o, [A]ll, [N]one, [r]ename: y\n",
            "  inflating: newsCorpora.csv         \n",
            "replace __MACOSX/._newsCorpora.csv? [y]es, [n]o, [A]ll, [N]one, [r]ename: y\n",
            "  inflating: __MACOSX/._newsCorpora.csv  \n",
            "replace readme.txt? [y]es, [n]o, [A]ll, [N]one, [r]ename: y\n",
            "  inflating: readme.txt              \n",
            "replace __MACOSX/._readme.txt? [y]es, [n]o, [A]ll, [N]one, [r]ename: y\n",
            "  inflating: __MACOSX/._readme.txt   \n"
          ]
        }
      ]
    },
    {
      "cell_type": "code",
      "source": [
        "!sed -e \"s/\"\\\"\"/'/g\" ./newsCorpora.csv > ./newsCorpora_re.csv"
      ],
      "metadata": {
        "id": "oBVl2TplmQU5"
      },
      "execution_count": 123,
      "outputs": []
    },
    {
      "cell_type": "code",
      "source": [
        "import pandas as pd\n",
        "from sklearn.model_selection import train_test_split"
      ],
      "metadata": {
        "id": "mMcbn-2ArZMq"
      },
      "execution_count": 124,
      "outputs": []
    },
    {
      "cell_type": "code",
      "source": [
        "!head -n 3 newsCorpora_re.csv"
      ],
      "metadata": {
        "colab": {
          "base_uri": "https://localhost:8080/"
        },
        "id": "bKWEMefYsAF2",
        "outputId": "91fb81db-cc05-411e-9558-cce82daf20ef"
      },
      "execution_count": 125,
      "outputs": [
        {
          "output_type": "stream",
          "name": "stdout",
          "text": [
            "1\tFed official says weak data caused by weather, should not slow taper\thttp://www.latimes.com/business/money/la-fi-mo-federal-reserve-plosser-stimulus-economy-20140310,0,1312750.story\\?track=rss\tLos Angeles Times\tb\tddUyU0VZz0BRneMioxUPQVP6sIxvM\twww.latimes.com\t1394470370698\n",
            "2\tFed's Charles Plosser sees high bar for change in pace of tapering\thttp://www.livemint.com/Politics/H2EvwJSK2VE6OF7iK1g3PP/Feds-Charles-Plosser-sees-high-bar-for-change-in-pace-of-ta.html\tLivemint\tb\tddUyU0VZz0BRneMioxUPQVP6sIxvM\twww.livemint.com\t1394470371207\n",
            "3\tUS open: Stocks fall after Fed official hints at accelerated tapering\thttp://www.ifamagazine.com/news/us-open-stocks-fall-after-fed-official-hints-at-accelerated-tapering-294436\tIFA Magazine\tb\tddUyU0VZz0BRneMioxUPQVP6sIxvM\twww.ifamagazine.com\t1394470371550\n"
          ]
        }
      ]
    },
    {
      "cell_type": "code",
      "source": [
        "df=pd.read_csv(\"./newsCorpora_re.csv\",sep=\"\\t\",header=None,names=[\"ID\",\"TITLE\",\"URL\",\"PUBLISHER\",\"CATEGORY\",\"STORY\",\"HOSTNAME\",\"TIMESTAMP\"])"
      ],
      "metadata": {
        "id": "miZWB8Bitowa"
      },
      "execution_count": 126,
      "outputs": []
    },
    {
      "cell_type": "code",
      "source": [
        "df.head(3)"
      ],
      "metadata": {
        "colab": {
          "base_uri": "https://localhost:8080/",
          "height": 503
        },
        "id": "cIW4zaK2uZX5",
        "outputId": "e20b5ead-21f2-4493-9936-b8bcd3b2e85b"
      },
      "execution_count": 127,
      "outputs": [
        {
          "output_type": "execute_result",
          "data": {
            "text/html": [
              "\n",
              "  <div id=\"df-71a238e0-94d0-46ab-a63e-ad280dbadd38\">\n",
              "    <div class=\"colab-df-container\">\n",
              "      <div>\n",
              "<style scoped>\n",
              "    .dataframe tbody tr th:only-of-type {\n",
              "        vertical-align: middle;\n",
              "    }\n",
              "\n",
              "    .dataframe tbody tr th {\n",
              "        vertical-align: top;\n",
              "    }\n",
              "\n",
              "    .dataframe thead th {\n",
              "        text-align: right;\n",
              "    }\n",
              "</style>\n",
              "<table border=\"1\" class=\"dataframe\">\n",
              "  <thead>\n",
              "    <tr style=\"text-align: right;\">\n",
              "      <th></th>\n",
              "      <th>ID</th>\n",
              "      <th>TITLE</th>\n",
              "      <th>URL</th>\n",
              "      <th>PUBLISHER</th>\n",
              "      <th>CATEGORY</th>\n",
              "      <th>STORY</th>\n",
              "      <th>HOSTNAME</th>\n",
              "      <th>TIMESTAMP</th>\n",
              "    </tr>\n",
              "  </thead>\n",
              "  <tbody>\n",
              "    <tr>\n",
              "      <th>0</th>\n",
              "      <td>1</td>\n",
              "      <td>Fed official says weak data caused by weather,...</td>\n",
              "      <td>http://www.latimes.com/business/money/la-fi-mo...</td>\n",
              "      <td>Los Angeles Times</td>\n",
              "      <td>b</td>\n",
              "      <td>ddUyU0VZz0BRneMioxUPQVP6sIxvM</td>\n",
              "      <td>www.latimes.com</td>\n",
              "      <td>1394470370698</td>\n",
              "    </tr>\n",
              "    <tr>\n",
              "      <th>1</th>\n",
              "      <td>2</td>\n",
              "      <td>Fed's Charles Plosser sees high bar for change...</td>\n",
              "      <td>http://www.livemint.com/Politics/H2EvwJSK2VE6O...</td>\n",
              "      <td>Livemint</td>\n",
              "      <td>b</td>\n",
              "      <td>ddUyU0VZz0BRneMioxUPQVP6sIxvM</td>\n",
              "      <td>www.livemint.com</td>\n",
              "      <td>1394470371207</td>\n",
              "    </tr>\n",
              "    <tr>\n",
              "      <th>2</th>\n",
              "      <td>3</td>\n",
              "      <td>US open: Stocks fall after Fed official hints ...</td>\n",
              "      <td>http://www.ifamagazine.com/news/us-open-stocks...</td>\n",
              "      <td>IFA Magazine</td>\n",
              "      <td>b</td>\n",
              "      <td>ddUyU0VZz0BRneMioxUPQVP6sIxvM</td>\n",
              "      <td>www.ifamagazine.com</td>\n",
              "      <td>1394470371550</td>\n",
              "    </tr>\n",
              "  </tbody>\n",
              "</table>\n",
              "</div>\n",
              "      <button class=\"colab-df-convert\" onclick=\"convertToInteractive('df-71a238e0-94d0-46ab-a63e-ad280dbadd38')\"\n",
              "              title=\"Convert this dataframe to an interactive table.\"\n",
              "              style=\"display:none;\">\n",
              "        \n",
              "  <svg xmlns=\"http://www.w3.org/2000/svg\" height=\"24px\"viewBox=\"0 0 24 24\"\n",
              "       width=\"24px\">\n",
              "    <path d=\"M0 0h24v24H0V0z\" fill=\"none\"/>\n",
              "    <path d=\"M18.56 5.44l.94 2.06.94-2.06 2.06-.94-2.06-.94-.94-2.06-.94 2.06-2.06.94zm-11 1L8.5 8.5l.94-2.06 2.06-.94-2.06-.94L8.5 2.5l-.94 2.06-2.06.94zm10 10l.94 2.06.94-2.06 2.06-.94-2.06-.94-.94-2.06-.94 2.06-2.06.94z\"/><path d=\"M17.41 7.96l-1.37-1.37c-.4-.4-.92-.59-1.43-.59-.52 0-1.04.2-1.43.59L10.3 9.45l-7.72 7.72c-.78.78-.78 2.05 0 2.83L4 21.41c.39.39.9.59 1.41.59.51 0 1.02-.2 1.41-.59l7.78-7.78 2.81-2.81c.8-.78.8-2.07 0-2.86zM5.41 20L4 18.59l7.72-7.72 1.47 1.35L5.41 20z\"/>\n",
              "  </svg>\n",
              "      </button>\n",
              "      \n",
              "  <style>\n",
              "    .colab-df-container {\n",
              "      display:flex;\n",
              "      flex-wrap:wrap;\n",
              "      gap: 12px;\n",
              "    }\n",
              "\n",
              "    .colab-df-convert {\n",
              "      background-color: #E8F0FE;\n",
              "      border: none;\n",
              "      border-radius: 50%;\n",
              "      cursor: pointer;\n",
              "      display: none;\n",
              "      fill: #1967D2;\n",
              "      height: 32px;\n",
              "      padding: 0 0 0 0;\n",
              "      width: 32px;\n",
              "    }\n",
              "\n",
              "    .colab-df-convert:hover {\n",
              "      background-color: #E2EBFA;\n",
              "      box-shadow: 0px 1px 2px rgba(60, 64, 67, 0.3), 0px 1px 3px 1px rgba(60, 64, 67, 0.15);\n",
              "      fill: #174EA6;\n",
              "    }\n",
              "\n",
              "    [theme=dark] .colab-df-convert {\n",
              "      background-color: #3B4455;\n",
              "      fill: #D2E3FC;\n",
              "    }\n",
              "\n",
              "    [theme=dark] .colab-df-convert:hover {\n",
              "      background-color: #434B5C;\n",
              "      box-shadow: 0px 1px 3px 1px rgba(0, 0, 0, 0.15);\n",
              "      filter: drop-shadow(0px 1px 2px rgba(0, 0, 0, 0.3));\n",
              "      fill: #FFFFFF;\n",
              "    }\n",
              "  </style>\n",
              "\n",
              "      <script>\n",
              "        const buttonEl =\n",
              "          document.querySelector('#df-71a238e0-94d0-46ab-a63e-ad280dbadd38 button.colab-df-convert');\n",
              "        buttonEl.style.display =\n",
              "          google.colab.kernel.accessAllowed ? 'block' : 'none';\n",
              "\n",
              "        async function convertToInteractive(key) {\n",
              "          const element = document.querySelector('#df-71a238e0-94d0-46ab-a63e-ad280dbadd38');\n",
              "          const dataTable =\n",
              "            await google.colab.kernel.invokeFunction('convertToInteractive',\n",
              "                                                     [key], {});\n",
              "          if (!dataTable) return;\n",
              "\n",
              "          const docLinkHtml = 'Like what you see? Visit the ' +\n",
              "            '<a target=\"_blank\" href=https://colab.research.google.com/notebooks/data_table.ipynb>data table notebook</a>'\n",
              "            + ' to learn more about interactive tables.';\n",
              "          element.innerHTML = '';\n",
              "          dataTable['output_type'] = 'display_data';\n",
              "          await google.colab.output.renderOutput(dataTable, element);\n",
              "          const docLink = document.createElement('div');\n",
              "          docLink.innerHTML = docLinkHtml;\n",
              "          element.appendChild(docLink);\n",
              "        }\n",
              "      </script>\n",
              "    </div>\n",
              "  </div>\n",
              "  "
            ],
            "text/plain": [
              "   ID  ...      TIMESTAMP\n",
              "0   1  ...  1394470370698\n",
              "1   2  ...  1394470371207\n",
              "2   3  ...  1394470371550\n",
              "\n",
              "[3 rows x 8 columns]"
            ]
          },
          "metadata": {},
          "execution_count": 127
        }
      ]
    },
    {
      "cell_type": "code",
      "source": [
        "df=df.loc[df[\"PUBLISHER\"].isin(['Reuters', 'Huffington Post', 'Businessweek', 'Contactmusic.com', 'Daily Mail']),[\"TITLE\",\"CATEGORY\"]]"
      ],
      "metadata": {
        "id": "QC0_0NiEuolQ"
      },
      "execution_count": 128,
      "outputs": []
    },
    {
      "cell_type": "code",
      "source": [
        "df.head(3)"
      ],
      "metadata": {
        "colab": {
          "base_uri": "https://localhost:8080/",
          "height": 143
        },
        "id": "nhjhDj6UwxL7",
        "outputId": "b1d3cd2a-d7ba-4376-f650-11e1500a5336"
      },
      "execution_count": 129,
      "outputs": [
        {
          "output_type": "execute_result",
          "data": {
            "text/html": [
              "\n",
              "  <div id=\"df-a2a013be-d322-403f-a9b3-5e9d33003ea1\">\n",
              "    <div class=\"colab-df-container\">\n",
              "      <div>\n",
              "<style scoped>\n",
              "    .dataframe tbody tr th:only-of-type {\n",
              "        vertical-align: middle;\n",
              "    }\n",
              "\n",
              "    .dataframe tbody tr th {\n",
              "        vertical-align: top;\n",
              "    }\n",
              "\n",
              "    .dataframe thead th {\n",
              "        text-align: right;\n",
              "    }\n",
              "</style>\n",
              "<table border=\"1\" class=\"dataframe\">\n",
              "  <thead>\n",
              "    <tr style=\"text-align: right;\">\n",
              "      <th></th>\n",
              "      <th>TITLE</th>\n",
              "      <th>CATEGORY</th>\n",
              "    </tr>\n",
              "  </thead>\n",
              "  <tbody>\n",
              "    <tr>\n",
              "      <th>12</th>\n",
              "      <td>Europe reaches crunch point on banking union</td>\n",
              "      <td>b</td>\n",
              "    </tr>\n",
              "    <tr>\n",
              "      <th>13</th>\n",
              "      <td>ECB FOCUS-Stronger euro drowns out ECB's messa...</td>\n",
              "      <td>b</td>\n",
              "    </tr>\n",
              "    <tr>\n",
              "      <th>19</th>\n",
              "      <td>Euro Anxieties Wane as Bunds Top Treasuries, S...</td>\n",
              "      <td>b</td>\n",
              "    </tr>\n",
              "  </tbody>\n",
              "</table>\n",
              "</div>\n",
              "      <button class=\"colab-df-convert\" onclick=\"convertToInteractive('df-a2a013be-d322-403f-a9b3-5e9d33003ea1')\"\n",
              "              title=\"Convert this dataframe to an interactive table.\"\n",
              "              style=\"display:none;\">\n",
              "        \n",
              "  <svg xmlns=\"http://www.w3.org/2000/svg\" height=\"24px\"viewBox=\"0 0 24 24\"\n",
              "       width=\"24px\">\n",
              "    <path d=\"M0 0h24v24H0V0z\" fill=\"none\"/>\n",
              "    <path d=\"M18.56 5.44l.94 2.06.94-2.06 2.06-.94-2.06-.94-.94-2.06-.94 2.06-2.06.94zm-11 1L8.5 8.5l.94-2.06 2.06-.94-2.06-.94L8.5 2.5l-.94 2.06-2.06.94zm10 10l.94 2.06.94-2.06 2.06-.94-2.06-.94-.94-2.06-.94 2.06-2.06.94z\"/><path d=\"M17.41 7.96l-1.37-1.37c-.4-.4-.92-.59-1.43-.59-.52 0-1.04.2-1.43.59L10.3 9.45l-7.72 7.72c-.78.78-.78 2.05 0 2.83L4 21.41c.39.39.9.59 1.41.59.51 0 1.02-.2 1.41-.59l7.78-7.78 2.81-2.81c.8-.78.8-2.07 0-2.86zM5.41 20L4 18.59l7.72-7.72 1.47 1.35L5.41 20z\"/>\n",
              "  </svg>\n",
              "      </button>\n",
              "      \n",
              "  <style>\n",
              "    .colab-df-container {\n",
              "      display:flex;\n",
              "      flex-wrap:wrap;\n",
              "      gap: 12px;\n",
              "    }\n",
              "\n",
              "    .colab-df-convert {\n",
              "      background-color: #E8F0FE;\n",
              "      border: none;\n",
              "      border-radius: 50%;\n",
              "      cursor: pointer;\n",
              "      display: none;\n",
              "      fill: #1967D2;\n",
              "      height: 32px;\n",
              "      padding: 0 0 0 0;\n",
              "      width: 32px;\n",
              "    }\n",
              "\n",
              "    .colab-df-convert:hover {\n",
              "      background-color: #E2EBFA;\n",
              "      box-shadow: 0px 1px 2px rgba(60, 64, 67, 0.3), 0px 1px 3px 1px rgba(60, 64, 67, 0.15);\n",
              "      fill: #174EA6;\n",
              "    }\n",
              "\n",
              "    [theme=dark] .colab-df-convert {\n",
              "      background-color: #3B4455;\n",
              "      fill: #D2E3FC;\n",
              "    }\n",
              "\n",
              "    [theme=dark] .colab-df-convert:hover {\n",
              "      background-color: #434B5C;\n",
              "      box-shadow: 0px 1px 3px 1px rgba(0, 0, 0, 0.15);\n",
              "      filter: drop-shadow(0px 1px 2px rgba(0, 0, 0, 0.3));\n",
              "      fill: #FFFFFF;\n",
              "    }\n",
              "  </style>\n",
              "\n",
              "      <script>\n",
              "        const buttonEl =\n",
              "          document.querySelector('#df-a2a013be-d322-403f-a9b3-5e9d33003ea1 button.colab-df-convert');\n",
              "        buttonEl.style.display =\n",
              "          google.colab.kernel.accessAllowed ? 'block' : 'none';\n",
              "\n",
              "        async function convertToInteractive(key) {\n",
              "          const element = document.querySelector('#df-a2a013be-d322-403f-a9b3-5e9d33003ea1');\n",
              "          const dataTable =\n",
              "            await google.colab.kernel.invokeFunction('convertToInteractive',\n",
              "                                                     [key], {});\n",
              "          if (!dataTable) return;\n",
              "\n",
              "          const docLinkHtml = 'Like what you see? Visit the ' +\n",
              "            '<a target=\"_blank\" href=https://colab.research.google.com/notebooks/data_table.ipynb>data table notebook</a>'\n",
              "            + ' to learn more about interactive tables.';\n",
              "          element.innerHTML = '';\n",
              "          dataTable['output_type'] = 'display_data';\n",
              "          await google.colab.output.renderOutput(dataTable, element);\n",
              "          const docLink = document.createElement('div');\n",
              "          docLink.innerHTML = docLinkHtml;\n",
              "          element.appendChild(docLink);\n",
              "        }\n",
              "      </script>\n",
              "    </div>\n",
              "  </div>\n",
              "  "
            ],
            "text/plain": [
              "                                                TITLE CATEGORY\n",
              "12       Europe reaches crunch point on banking union        b\n",
              "13  ECB FOCUS-Stronger euro drowns out ECB's messa...        b\n",
              "19  Euro Anxieties Wane as Bunds Top Treasuries, S...        b"
            ]
          },
          "metadata": {},
          "execution_count": 129
        }
      ]
    },
    {
      "cell_type": "code",
      "source": [
        "train,valid_test=train_test_split(df,test_size=0.2,shuffle=True,stratify=df[\"CATEGORY\"],random_state=123)\n",
        "valid,test=train_test_split(valid_test,test_size=0.5,shuffle=True,stratify=valid_test[\"CATEGORY\"],random_state=123)"
      ],
      "metadata": {
        "id": "roDI_nQfwysr"
      },
      "execution_count": 130,
      "outputs": []
    },
    {
      "cell_type": "code",
      "source": [
        "print(\"[train]\")\n",
        "print(train[\"CATEGORY\"].value_counts())\n",
        "print()\n",
        "print(\"[valid]\")\n",
        "print(valid[\"CATEGORY\"].value_counts())\n",
        "print()\n",
        "print(\"[test]\")\n",
        "print(test[\"CATEGORY\"].value_counts())\n"
      ],
      "metadata": {
        "colab": {
          "base_uri": "https://localhost:8080/"
        },
        "id": "qt0CkucGxVoR",
        "outputId": "aa3a4ece-f01d-4741-b3ab-5b2f70a29765"
      },
      "execution_count": 131,
      "outputs": [
        {
          "output_type": "stream",
          "name": "stdout",
          "text": [
            "[train]\n",
            "b    4501\n",
            "e    4235\n",
            "t    1220\n",
            "m     728\n",
            "Name: CATEGORY, dtype: int64\n",
            "\n",
            "[valid]\n",
            "b    563\n",
            "e    529\n",
            "t    153\n",
            "m     91\n",
            "Name: CATEGORY, dtype: int64\n",
            "\n",
            "[test]\n",
            "b    563\n",
            "e    530\n",
            "t    152\n",
            "m     91\n",
            "Name: CATEGORY, dtype: int64\n"
          ]
        }
      ]
    },
    {
      "cell_type": "code",
      "source": [
        "import gdown\n",
        "from gensim.models import KeyedVectors"
      ],
      "metadata": {
        "id": "XkEc3qJdx2vw"
      },
      "execution_count": 132,
      "outputs": []
    },
    {
      "cell_type": "code",
      "source": [
        "url=\"https://drive.google.com/uc?id=0B7XkCwpI5KDYNlNUTTlSS21pQmM\"\n",
        "output='GoogleNews-vectors-negative300.bin.gz'\n",
        "gdown.download(url,output,quiet=False)"
      ],
      "metadata": {
        "colab": {
          "base_uri": "https://localhost:8080/"
        },
        "id": "kdKMiV-yb6W1",
        "outputId": "0eccfae7-6242-4be6-a65e-538535d27e58"
      },
      "execution_count": 133,
      "outputs": [
        {
          "output_type": "stream",
          "name": "stderr",
          "text": [
            "Permission denied: https://drive.google.com/uc?id=0B7XkCwpI5KDYNlNUTTlSS21pQmM\n",
            "Maybe you need to change permission over 'Anyone with the link'?\n"
          ]
        }
      ]
    },
    {
      "cell_type": "code",
      "source": [
        "model=KeyedVectors.load_word2vec_format('GoogleNews-vectors-negative300.bin.gz',binary=True)"
      ],
      "metadata": {
        "id": "HWpJz9VNcEQ_"
      },
      "execution_count": 134,
      "outputs": []
    },
    {
      "cell_type": "code",
      "source": [
        "import string\n",
        "import torch"
      ],
      "metadata": {
        "id": "9lY1AD9NcxRU"
      },
      "execution_count": 135,
      "outputs": []
    },
    {
      "cell_type": "code",
      "source": [
        "def transform_w2v(text):\n",
        "  table=str.maketrans(string.punctuation,\" \"*len(string.punctuation))\n",
        "  words=text.translate(table).split()\n",
        "  vec=[model[word] for word in words if word in model]\n",
        "  return torch.tensor(sum(vec)/len(vec))"
      ],
      "metadata": {
        "id": "H4nTNEv7fqRG"
      },
      "execution_count": 136,
      "outputs": []
    },
    {
      "cell_type": "code",
      "source": [
        " X_train=torch.stack([transform_w2v(text) for text in train[\"TITLE\"]])\n",
        " X_valid=torch.stack([transform_w2v(text) for text in valid[\"TITLE\"]])\n",
        " X_test=torch.stack([transform_w2v(text) for text in test[\"TITLE\"]])"
      ],
      "metadata": {
        "id": "Px2tu23Lga0R"
      },
      "execution_count": 137,
      "outputs": []
    },
    {
      "cell_type": "code",
      "source": [
        "print(X_train.size())"
      ],
      "metadata": {
        "colab": {
          "base_uri": "https://localhost:8080/"
        },
        "id": "pHqeyQvaX1GH",
        "outputId": "3503c78f-c010-4575-b502-6bb6c6eb7f2f"
      },
      "execution_count": 138,
      "outputs": [
        {
          "output_type": "stream",
          "name": "stdout",
          "text": [
            "torch.Size([10684, 300])\n"
          ]
        }
      ]
    },
    {
      "cell_type": "code",
      "source": [
        "category_dic={\"b\":0,\"t\":1,\"e\":2,\"m\":3}\n",
        "y_train=torch.tensor(train[\"CATEGORY\"].map(lambda x:category_dic[x]).values)\n",
        "y_valid=torch.tensor(valid[\"CATEGORY\"].map(lambda x:category_dic[x]).values)\n",
        "y_test=torch.tensor(test[\"CATEGORY\"].map(lambda x:category_dic[x]).values)"
      ],
      "metadata": {
        "id": "p1TQTKv3YEP8"
      },
      "execution_count": 139,
      "outputs": []
    },
    {
      "cell_type": "code",
      "source": [
        "print(y_train.size())"
      ],
      "metadata": {
        "colab": {
          "base_uri": "https://localhost:8080/"
        },
        "id": "vwPMKtcuacGv",
        "outputId": "d83cd7d8-a99b-4d7c-b2db-a6738570143d"
      },
      "execution_count": 140,
      "outputs": [
        {
          "output_type": "stream",
          "name": "stdout",
          "text": [
            "torch.Size([10684])\n"
          ]
        }
      ]
    },
    {
      "cell_type": "code",
      "source": [
        "torch.save(X_train,\"X_train.pt\")\n",
        "torch.save(X_valid,\"X_valid.pt\")\n",
        "torch.save(X_test,\"X_test.pt\")\n",
        "torch.save(y_train,\"y_train.pt\")\n",
        "torch.save(y_valid,\"y_valid.pt\")\n",
        "torch.save(y_test,\"y_test.pt\")"
      ],
      "metadata": {
        "id": "6dX67Fv4afVQ"
      },
      "execution_count": 141,
      "outputs": []
    },
    {
      "cell_type": "markdown",
      "source": [
        "### 71 単層ニューラルネットワークによる予測\n",
        "\n",
        ">>\n",
        "問題70で保存した行列を読み込み，学習データについて以下の計算を実行せよ．\n",
        "$$\\hat{y}=softmax(x_1W),$$\n",
        "$$\\hat{Y}=softmax(X_{[1:4]}W)$$\n",
        "ただし，$softmax$はソフトマックス関数，$X_{[1:4]}∈ℝ^{4×d}$は特徴ベクトル$x1, x2, x3, x4$を縦に並べた行列である。\n",
        "$$\n",
        "X_{[1:4]}=\n",
        "\\begin{pmatrix}\n",
        "x_1 \\\\\n",
        "x_2 \\\\\n",
        "x_3 \\\\\n",
        "x_4 \\\\\n",
        "\\end{pmatrix}\n",
        "$$\n",
        "行列$W∈ℝ^{d×L}$は単層ニューラルネットワークの重み行列で，ここではランダムな値で初期化すればよい（問題73以降で学習して求める）．"
      ],
      "metadata": {
        "id": "NUQSNfLtaq_T"
      }
    },
    {
      "cell_type": "code",
      "source": [
        "from torch import nn"
      ],
      "metadata": {
        "id": "A9loASA_krFe"
      },
      "execution_count": 142,
      "outputs": []
    },
    {
      "cell_type": "code",
      "source": [
        "class SLPNet(nn.Module):\n",
        "  def __init__(self,input_size,output_size):\n",
        "    super().__init__()\n",
        "    self.func=nn.Linear(input_size,output_size,bias=False)\n",
        "    nn.init.normal_(self.func.weight,0.0,1.0)\n",
        "  def forward(self,x):\n",
        "    x=self.func(x)\n",
        "    return x"
      ],
      "metadata": {
        "id": "iYWDB2ZBzt9g"
      },
      "execution_count": 143,
      "outputs": []
    },
    {
      "cell_type": "code",
      "source": [
        "model=SLPNet(300,4)\n",
        "y_hat_1=torch.softmax(model(X_train[:1]),dim=-1)"
      ],
      "metadata": {
        "id": "Z6KOo37W2cUC"
      },
      "execution_count": 144,
      "outputs": []
    },
    {
      "cell_type": "code",
      "source": [
        "print(y_hat_1)"
      ],
      "metadata": {
        "colab": {
          "base_uri": "https://localhost:8080/"
        },
        "id": "5jt_6P_J3WuM",
        "outputId": "902aa32b-e60e-4131-faed-5858fdbd6064"
      },
      "execution_count": 145,
      "outputs": [
        {
          "output_type": "stream",
          "name": "stdout",
          "text": [
            "tensor([[0.3196, 0.6506, 0.0067, 0.0232]], grad_fn=<SoftmaxBackward0>)\n"
          ]
        }
      ]
    },
    {
      "cell_type": "code",
      "source": [
        "Y_hat=torch.softmax(model(X_train[:4]),dim=-1)"
      ],
      "metadata": {
        "id": "Yg1rRuV53h6I"
      },
      "execution_count": 146,
      "outputs": []
    },
    {
      "cell_type": "code",
      "source": [
        "print(Y_hat)"
      ],
      "metadata": {
        "colab": {
          "base_uri": "https://localhost:8080/"
        },
        "id": "OdT-FN9X3izT",
        "outputId": "2c6f9b02-bb94-4d0a-c5d6-2c6e1808b736"
      },
      "execution_count": 147,
      "outputs": [
        {
          "output_type": "stream",
          "name": "stdout",
          "text": [
            "tensor([[0.3196, 0.6506, 0.0067, 0.0232],\n",
            "        [0.6202, 0.2726, 0.0462, 0.0610],\n",
            "        [0.8946, 0.0682, 0.0132, 0.0240],\n",
            "        [0.4108, 0.3855, 0.1692, 0.0345]], grad_fn=<SoftmaxBackward0>)\n"
          ]
        }
      ]
    },
    {
      "cell_type": "markdown",
      "source": [
        "### 72 損失と勾配の計算\n",
        ">>\n",
        "学習データの事例$x1$と事例集合$x1,x2,x3,x4$に対して，クロスエントロピー損失と，行列$W$に対する勾配を計算せよ。"
      ],
      "metadata": {
        "id": "tOElOMSA4EEw"
      }
    },
    {
      "cell_type": "code",
      "source": [
        "criterion=nn.CrossEntropyLoss()"
      ],
      "metadata": {
        "id": "hDlmjdzD5A9Q"
      },
      "execution_count": 148,
      "outputs": []
    },
    {
      "cell_type": "code",
      "source": [
        "l_1=criterion(model(X_train[:1]),y_train[:1])"
      ],
      "metadata": {
        "id": "6xkdA_h56xgD"
      },
      "execution_count": 149,
      "outputs": []
    },
    {
      "cell_type": "code",
      "source": [
        "model.zero_grad()"
      ],
      "metadata": {
        "id": "khmGDCkQ69M7"
      },
      "execution_count": 150,
      "outputs": []
    },
    {
      "cell_type": "code",
      "source": [
        "l_1.backward()"
      ],
      "metadata": {
        "id": "RZbZBYRw7zMp"
      },
      "execution_count": 151,
      "outputs": []
    },
    {
      "cell_type": "code",
      "source": [
        "print(f\"Loss:{l_1:.4f}\")\n",
        "print(f\"Grad:\\n{model.func.weight.grad}\")"
      ],
      "metadata": {
        "colab": {
          "base_uri": "https://localhost:8080/"
        },
        "id": "Wn6Kv6LP6-Yr",
        "outputId": "49353f21-3566-402d-d922-df90baccb9dd"
      },
      "execution_count": 152,
      "outputs": [
        {
          "output_type": "stream",
          "name": "stdout",
          "text": [
            "Loss:1.1408\n",
            "Grad:\n",
            "tensor([[-5.6926e-02, -3.8336e-03, -4.6371e-03,  ..., -5.1118e-02,\n",
            "         -2.9468e-02,  5.9060e-02],\n",
            "        [ 5.4432e-02,  3.6657e-03,  4.4339e-03,  ...,  4.8879e-02,\n",
            "          2.8177e-02, -5.6473e-02],\n",
            "        [ 5.5697e-04,  3.7509e-05,  4.5370e-05,  ...,  5.0015e-04,\n",
            "          2.8832e-04, -5.7785e-04],\n",
            "        [ 1.9368e-03,  1.3043e-04,  1.5776e-04,  ...,  1.7392e-03,\n",
            "          1.0026e-03, -2.0094e-03]])\n"
          ]
        }
      ]
    },
    {
      "cell_type": "code",
      "source": [
        "l=criterion(model(X_train[:4]),y_train[:4])\n",
        "model.zero_grad()\n",
        "l.backward()"
      ],
      "metadata": {
        "id": "IzWSKtAt7xWv"
      },
      "execution_count": 153,
      "outputs": []
    },
    {
      "cell_type": "code",
      "source": [
        "print(f\"Loss:{l:.4f}\")\n",
        "print(f\"Grad:\\n{model.func.weight.grad}\")"
      ],
      "metadata": {
        "colab": {
          "base_uri": "https://localhost:8080/"
        },
        "id": "LUIAJoLM81O2",
        "outputId": "971b155d-1693-48aa-bee7-31732e0cd3d3"
      },
      "execution_count": 154,
      "outputs": [
        {
          "output_type": "stream",
          "name": "stdout",
          "text": [
            "Loss:1.9865\n",
            "Grad:\n",
            "tensor([[-0.0028,  0.0047, -0.0269,  ..., -0.0398,  0.0165,  0.0308],\n",
            "        [ 0.0043,  0.0006,  0.0230,  ...,  0.0292,  0.0218, -0.0129],\n",
            "        [ 0.0122, -0.0100, -0.0142,  ...,  0.0016, -0.0082,  0.0043],\n",
            "        [-0.0137,  0.0047,  0.0182,  ...,  0.0090, -0.0301, -0.0222]])\n"
          ]
        }
      ]
    },
    {
      "cell_type": "markdown",
      "source": [
        "### 73 確率的勾配降下法による学習\n",
        ">>\n",
        "確率的勾配降下法（SGD: Stochastic Gradient Descent）を用いて，行列WWを学習せよ．なお，学習は適当な基準で終了させればよい（例えば「100エポックで終了」など）．"
      ],
      "metadata": {
        "id": "84gtzDrn9EbY"
      }
    },
    {
      "cell_type": "code",
      "source": [
        "from torch.utils.data import Dataset"
      ],
      "metadata": {
        "id": "2YcRtd46-D8b"
      },
      "execution_count": 155,
      "outputs": []
    },
    {
      "cell_type": "code",
      "source": [
        "class NewDataset(Dataset):\n",
        "  def __init__(self,X,y):\n",
        "    self.X=X\n",
        "    self.y=y\n",
        "  def __len__(self):\n",
        "    return len(self.y)\n",
        "  def __getitem__(self,idx):\n",
        "    return [self.X[idx],self.y[idx]]"
      ],
      "metadata": {
        "id": "CBG7sBdp-phm"
      },
      "execution_count": 156,
      "outputs": []
    },
    {
      "cell_type": "code",
      "source": [
        "from torch.utils.data import DataLoader"
      ],
      "metadata": {
        "id": "pk9q2Zbu_E3C"
      },
      "execution_count": 157,
      "outputs": []
    },
    {
      "cell_type": "code",
      "source": [
        "dataset_train=NewDataset(X_train,y_train)\n",
        "dataset_valid=NewDataset(X_valid,y_valid)\n",
        "dataset_test=NewDataset(X_test,y_test)\n",
        "\n",
        "dataloader_train=DataLoader(dataset_train,batch_size=1,shuffle=True)\n",
        "dataloader_valid=DataLoader(dataset_valid,batch_size=len(dataset_valid),shuffle=False)\n",
        "dataloader_test=DataLoader(dataset_test,batch_size=len(dataset_test),shuffle=False)"
      ],
      "metadata": {
        "id": "6UbXcGyi_WU3"
      },
      "execution_count": 158,
      "outputs": []
    },
    {
      "cell_type": "code",
      "source": [
        "model=SLPNet(300,4)\n",
        "criterion=nn.CrossEntropyLoss()\n",
        "optimizer=torch.optim.SGD(model.parameters(),lr=1e-1)\n",
        "num_epochs=10\n",
        "for epoch in range(num_epochs):\n",
        "  model.train()\n",
        "  loss_train=0.0\n",
        "  for i,(inputs,labels) in enumerate(dataloader_train):\n",
        "    optimizer.zero_grad()\n",
        "    outputs=model(inputs)\n",
        "    loss=criterion(outputs,labels)\n",
        "    loss.backward()\n",
        "    optimizer.step()\n",
        "    loss_train+=loss.item()\n",
        "  loss_train=loss_train/i\n",
        "  model.eval()\n",
        "  with torch.no_grad():\n",
        "    inputs,labels=next(iter(dataloader_valid))\n",
        "    outputs=model(inputs)\n",
        "    loss_valid=criterion(outputs,labels)\n",
        "  print(f\"epoch:{epoch}, loss_train:{loss_train:.4f}, loss_valid:{loss_valid:.4f}\")\n"
      ],
      "metadata": {
        "colab": {
          "base_uri": "https://localhost:8080/"
        },
        "id": "bmLjXd75AHkD",
        "outputId": "c1824158-e4ca-423f-c41f-e62b93a02ee4"
      },
      "execution_count": 159,
      "outputs": [
        {
          "output_type": "stream",
          "name": "stdout",
          "text": [
            "epoch:0, loss_train:0.4814, loss_valid:0.3695\n",
            "epoch:1, loss_train:0.3154, loss_valid:0.3357\n",
            "epoch:2, loss_train:0.2856, loss_valid:0.3293\n",
            "epoch:3, loss_train:0.2689, loss_valid:0.3226\n",
            "epoch:4, loss_train:0.2588, loss_valid:0.3114\n",
            "epoch:5, loss_train:0.2511, loss_valid:0.3221\n",
            "epoch:6, loss_train:0.2458, loss_valid:0.3098\n",
            "epoch:7, loss_train:0.2412, loss_valid:0.3094\n",
            "epoch:8, loss_train:0.2370, loss_valid:0.3095\n",
            "epoch:9, loss_train:0.2343, loss_valid:0.3097\n"
          ]
        }
      ]
    },
    {
      "cell_type": "markdown",
      "source": [
        "### 74 正解率の計測\n",
        ">>\n",
        "問題73で求めた行列を用いて学習データおよび評価データの事例を分類したとき，その正解率をそれぞれ求めよ．"
      ],
      "metadata": {
        "id": "ZbIzaqnMFndk"
      }
    },
    {
      "cell_type": "code",
      "source": [
        "def calculate_accuracy(model,loader):\n",
        "  model.eval()\n",
        "  counts,total=0,0\n",
        "  with torch.no_grad():\n",
        "    for inputs,labels in loader:\n",
        "      outputs=model(inputs)\n",
        "      pred=torch.argmax(outputs,dim=-1)\n",
        "      total+=len(labels)\n",
        "      counts+=(pred==labels).sum().item()\n",
        "  return counts/total"
      ],
      "metadata": {
        "id": "PV2X1-kbGaMI"
      },
      "execution_count": 160,
      "outputs": []
    },
    {
      "cell_type": "code",
      "source": [
        "acc_train=calculate_accuracy(model,dataloader_train)\n",
        "acc_test=calculate_accuracy(model, dataloader_test)\n",
        "print(f\"accuracy train:{acc_train:.4f}\")\n",
        "print(f\"accuracy test:{acc_test:.4f}\")"
      ],
      "metadata": {
        "id": "kUn0UOtdfXgB",
        "outputId": "65250394-8ea5-407d-a936-b2fadf3734ee",
        "colab": {
          "base_uri": "https://localhost:8080/"
        }
      },
      "execution_count": 161,
      "outputs": [
        {
          "output_type": "stream",
          "name": "stdout",
          "text": [
            "accuracy train:0.9256\n",
            "accuracy test:0.8990\n"
          ]
        }
      ]
    },
    {
      "cell_type": "markdown",
      "source": [
        "### 75 損失と正解率のプロット\n",
        ">>\n",
        "問題73のコードを改変し，各エポックのパラメータ更新が完了するたびに，訓練データでの損失，正解率，検証データでの損失，正解率をグラフにプロットし，学習の進捗状況を確認できるようにせよ．"
      ],
      "metadata": {
        "id": "1wqfahVKh2jQ"
      }
    },
    {
      "cell_type": "code",
      "source": [
        "def calculate_accuracy_loss(model,loader,criterion):\n",
        "  loss,counts,total=0.0,0,0\n",
        "  model.eval()\n",
        "  with torch.no_grad():\n",
        "    for inputs,labels in loader:\n",
        "      outputs=model(inputs)\n",
        "      loss+=criterion(outputs,labels).item()\n",
        "      pred=torch.argmax(outputs,dim=-1)\n",
        "      total+=len(inputs)\n",
        "      counts+=(pred==labels).sum().item()\n",
        "    return loss/len(loader),counts/total"
      ],
      "metadata": {
        "id": "2fCQvuH8iQ5q"
      },
      "execution_count": 162,
      "outputs": []
    },
    {
      "cell_type": "code",
      "source": [
        "model=SLPNet(300,4)\n",
        "criterion=nn.CrossEntropyLoss()\n",
        "optimizer=torch.optim.SGD(model.parameters(),lr=1e-1)\n",
        "epochs=10\n",
        "log_train,log_valid=[],[]\n",
        "for epoch in range(epochs):\n",
        "  epoch+=1\n",
        "  model.train()\n",
        "  for inputs,labels in dataloader_train:\n",
        "    optimizer.zero_grad()\n",
        "    outputs=model(inputs)\n",
        "    loss=criterion(outputs,labels)\n",
        "    loss.backward()\n",
        "    optimizer.step()\n",
        "  loss_train,acc_train=calculate_accuracy_loss(model,dataloader_train,criterion)\n",
        "  loss_valid,acc_valid=calculate_accuracy_loss(model,dataloader_valid,criterion)\n",
        "  log_train.append([loss_train,acc_train])\n",
        "  log_valid.append([loss_valid,acc_valid])\n",
        "  print(f\"epoch:{epoch},loss_train:{loss_train:.4f},acc_train:{acc_train:.4f},loss_valid:{loss_valid:.4f},acc_valid:{acc_valid:.4f}\")"
      ],
      "metadata": {
        "id": "tbviGXD8oRFy",
        "outputId": "5209948c-131d-4f3f-8eea-6f1b8904cd4d",
        "colab": {
          "base_uri": "https://localhost:8080/"
        }
      },
      "execution_count": 163,
      "outputs": [
        {
          "output_type": "stream",
          "name": "stdout",
          "text": [
            "epoch:1,loss_train:0.3241,acc_train:0.8863,loss_valid:0.3519,acc_valid:0.8772\n",
            "epoch:2,loss_train:0.2835,acc_train:0.9013,loss_valid:0.3267,acc_valid:0.8900\n",
            "epoch:3,loss_train:0.2633,acc_train:0.9107,loss_valid:0.3122,acc_valid:0.8922\n",
            "epoch:4,loss_train:0.2524,acc_train:0.9159,loss_valid:0.3087,acc_valid:0.8937\n",
            "epoch:5,loss_train:0.2444,acc_train:0.9180,loss_valid:0.3080,acc_valid:0.8915\n",
            "epoch:6,loss_train:0.2412,acc_train:0.9190,loss_valid:0.3086,acc_valid:0.8952\n",
            "epoch:7,loss_train:0.2344,acc_train:0.9218,loss_valid:0.3060,acc_valid:0.8937\n",
            "epoch:8,loss_train:0.2329,acc_train:0.9204,loss_valid:0.3116,acc_valid:0.8907\n",
            "epoch:9,loss_train:0.2312,acc_train:0.9212,loss_valid:0.3106,acc_valid:0.8930\n",
            "epoch:10,loss_train:0.2256,acc_train:0.9232,loss_valid:0.3078,acc_valid:0.8900\n"
          ]
        }
      ]
    },
    {
      "cell_type": "code",
      "source": [
        "from matplotlib import pyplot as plt\n",
        "import numpy as np"
      ],
      "metadata": {
        "id": "DXC6dbIirS09"
      },
      "execution_count": 164,
      "outputs": []
    },
    {
      "cell_type": "code",
      "source": [
        "fig,ax=plt.subplots(1,2,figsize=(15,5))\n",
        "ax[0].plot(np.array(log_train).T[0],label=\"train\")\n",
        "ax[0].plot(np.array(log_valid).T[0],label=\"valid\")\n",
        "ax[0].set_xlabel(\"epoch\")\n",
        "ax[0].set_ylabel(\"loss\")\n",
        "ax[0].legend()\n",
        "ax[1].plot(np.array(log_train).T[1],label=\"train\")\n",
        "ax[1].plot(np.array(log_valid).T[1],label=\"valid\")\n",
        "ax[1].set_xlabel(\"epoch\")\n",
        "ax[1].set_ylabel(\"accuracy\")\n",
        "ax[1].legend()\n",
        "plt.show()"
      ],
      "metadata": {
        "id": "bJHbYlidxP_z",
        "outputId": "4d54f5da-358e-416d-b292-118a00e53df2",
        "colab": {
          "base_uri": "https://localhost:8080/",
          "height": 334
        }
      },
      "execution_count": 165,
      "outputs": [
        {
          "output_type": "display_data",
          "data": {
            "image/png": "[encoded data removed]",
            "text/plain": [
              "<Figure size 1080x360 with 2 Axes>"
            ]
          },
          "metadata": {
            "needs_background": "light"
          }
        }
      ]
    },
    {
      "cell_type": "markdown",
      "source": [
        "### 76 チェックポイント\n",
        ">>\n",
        "問題75のコードを改変し，各エポックのパラメータ更新が完了するたびに，チェックポイント（学習途中のパラメータ（重み行列など）の値や最適化アルゴリズムの内部状態）をファイルに書き出せ．"
      ],
      "metadata": {
        "id": "KpKDTS1yy7Ta"
      }
    },
    {
      "cell_type": "code",
      "source": [
        "model=SLPNet(300,4)\n",
        "criterion=nn.CrossEntropyLoss()\n",
        "optimizer=torch.optim.SGD(model.parameters(),lr=1e-1)\n",
        "epochs=10\n",
        "log_train,log_valid=[],[]\n",
        "for epoch in range(1,epochs+1):\n",
        "  model.train()\n",
        "  for train,labels in dataloader_train:\n",
        "    optimizer.zero_grad()\n",
        "    outputs=model(inputs)\n",
        "    loss=criterion(outputs,labels)\n",
        "    loss.backward()\n",
        "    optimizer.step()\n",
        "  loss_train,acc_train=calculate_accuracy_loss(model,dataloader_train,criterion)\n",
        "  loss_valid,acc_valid=calculate_accuracy_loss(model,dataloader_valid,criterion)\n",
        "  log_train.append([loss_train,acc_train])\n",
        "  log_valid.append([loss_valid,acc_valid])\n",
        "  torch.save({\"epoch\":epoch,\"model_state_dict\":model.state_dict,\"optimizer_state_dict\":optimizer.state_dict},f\"checkpoint{epoch}.pt\")\n",
        "  print(f\"epoch:{epoch},loss_train:{loss_train:.4f},acc_train:{acc_train:.4f},loss_valid:{loss_valid:.4f},acc_valid:{acc_valid:.4f}\")\n"
      ],
      "metadata": {
        "id": "bAvuxk0c6fyT",
        "outputId": "c144286b-f73f-4837-a75e-179ba634cca4",
        "colab": {
          "base_uri": "https://localhost:8080/"
        }
      },
      "execution_count": 166,
      "outputs": [
        {
          "output_type": "stream",
          "name": "stdout",
          "text": [
            "epoch:1,loss_train:1.8365,acc_train:0.2387,loss_valid:1.8346,acc_valid:0.2418\n",
            "epoch:2,loss_train:1.9128,acc_train:0.2412,loss_valid:1.9099,acc_valid:0.2470\n",
            "epoch:3,loss_train:1.8225,acc_train:0.2572,loss_valid:1.8200,acc_valid:0.2642\n",
            "epoch:4,loss_train:1.8993,acc_train:0.2390,loss_valid:1.8969,acc_valid:0.2440\n",
            "epoch:5,loss_train:1.8716,acc_train:0.2501,loss_valid:1.8688,acc_valid:0.2590\n",
            "epoch:6,loss_train:1.7852,acc_train:0.2454,loss_valid:1.7837,acc_valid:0.2463\n",
            "epoch:7,loss_train:1.8563,acc_train:0.2503,loss_valid:1.8534,acc_valid:0.2530\n",
            "epoch:8,loss_train:1.7927,acc_train:0.2613,loss_valid:1.7901,acc_valid:0.2665\n",
            "epoch:9,loss_train:1.8764,acc_train:0.2478,loss_valid:1.8737,acc_valid:0.2567\n",
            "epoch:10,loss_train:1.8420,acc_train:0.2422,loss_valid:1.8397,acc_valid:0.2455\n"
          ]
        }
      ]
    },
    {
      "cell_type": "markdown",
      "source": [
        "### 77 ミニバッチ化\n",
        ">>\n",
        "問題76のコードを改変し，B事例ごとに損失・勾配を計算し，行列Wの値を更新せよ（ミニバッチ化）．Bの値を1,2,4,8,…1,2,4,8,…と変化させながら，1エポックの学習に要する時間を比較せよ．"
      ],
      "metadata": {
        "id": "40Wq3QJu_r3C"
      }
    },
    {
      "cell_type": "code",
      "source": [
        "import time"
      ],
      "metadata": {
        "id": "C6lkLJfNBBnY"
      },
      "execution_count": 167,
      "outputs": []
    },
    {
      "cell_type": "code",
      "source": [
        "def train_model_batch(dataset_train,dataset_valid,model,criterion,optimizer,batch_size):\n",
        "  dataloader_train=DataLoader(dataset_train,batch_size=batch_size,shuffle=True)\n",
        "  dataloader_valid=DataLoader(dataset_valid,batch_size=batch_size,shuffle=False)\n",
        "  log_train,log_valid=[],[]\n",
        "  epochs=1\n",
        "  s_time=time.time()\n",
        "  for epoch in range(1,epochs+1):\n",
        "    model.train()\n",
        "    for inputs,labels in dataloader_train:\n",
        "      optimizer.zero_grad()\n",
        "      outputs=model(inputs)\n",
        "      loss=criterion(outputs,labels)\n",
        "      loss.backward()\n",
        "      optimizer.step()\n",
        "    loss_train,acc_train=calculate_accuracy_loss(model,dataloader_train,criterion)\n",
        "    loss_valid,acc_valid=calculate_accuracy_loss(model,dataloader_valid,criterion)\n",
        "    log_train.append([loss_train,acc_train])\n",
        "    log_valid.append([loss_valid,acc_valid])\n",
        "    torch.save({\"epoch\":epoch,\"model_state_dict\":model.state_dict,\"optimizer_state_dict\":optimizer.state_dict},f\"checkpoint{epoch}.pt\")\n",
        "    e_time=time.time()\n",
        "    print(f\"epoch:{epoch},loss_train:{loss_train:.4f},acc_train:{acc_train:.4f},loss_valid:{loss_valid:.4f},acc_valid:{acc_valid:.4f},{e_time-s_time:.4f}sec\")\n",
        "  return {\"train\":log_train,\"valid\":log_valid}\n",
        "\n",
        "  "
      ],
      "metadata": {
        "id": "qyzYz3PABiRB"
      },
      "execution_count": 168,
      "outputs": []
    },
    {
      "cell_type": "code",
      "source": [
        "dataset_train=NewDataset(X_train,y_train)\n",
        "dataset_valid=NewDataset(X_valid,y_valid)\n",
        "mdel=SLPNet(300,4)\n",
        "criterion=nn.CrossEntropyLoss()\n",
        "optimizer=torch.optim.SGD(model.parameters(),lr=1e-1)\n",
        "for batch_size in [2**i for i in range(6)]:\n",
        "  print(f\"batch size:{batch_size}\")\n",
        "  log=train_model_batch(dataset_train,dataset_valid,model,criterion,optimizer,batch_size)"
      ],
      "metadata": {
        "id": "Ax2StfY4Jig0",
        "outputId": "2fd2bbe6-fe44-4acd-8115-a283bb658195",
        "colab": {
          "base_uri": "https://localhost:8080/"
        }
      },
      "execution_count": 169,
      "outputs": [
        {
          "output_type": "stream",
          "name": "stdout",
          "text": [
            "batch size:1\n",
            "epoch:1,loss_train:0.3298,acc_train:0.8863,loss_valid:0.3470,acc_valid:0.8802,3.5385sec\n",
            "batch size:2\n",
            "epoch:1,loss_train:0.2988,acc_train:0.8986,loss_valid:0.3243,acc_valid:0.8892,1.9521sec\n",
            "batch size:4\n",
            "epoch:1,loss_train:0.2887,acc_train:0.9033,loss_valid:0.3186,acc_valid:0.8892,1.0140sec\n",
            "batch size:8\n",
            "epoch:1,loss_train:0.2855,acc_train:0.9047,loss_valid:0.3173,acc_valid:0.8892,0.5809sec\n",
            "batch size:16\n",
            "epoch:1,loss_train:0.2831,acc_train:0.9062,loss_valid:0.3203,acc_valid:0.8885,0.3423sec\n",
            "batch size:32\n",
            "epoch:1,loss_train:0.2822,acc_train:0.9062,loss_valid:0.3171,acc_valid:0.8892,0.2302sec\n"
          ]
        }
      ]
    },
    {
      "cell_type": "markdown",
      "source": [
        "### 78 GPU上での学習\n",
        ">>\n",
        "問題77のコードを改変し，GPU上で学習を実行せよ．"
      ],
      "metadata": {
        "id": "Cp4SpQ_3LUEP"
      }
    },
    {
      "cell_type": "code",
      "source": [
        "def calculate_accuracy_loss_device(model,loader,criterion,device):\n",
        "  loss,counts,total=0.0,0,0\n",
        "  model.eval()\n",
        "  with torch.no_grad():\n",
        "    for inputs,labels in loader:\n",
        "      inputs=inputs.to(device)\n",
        "      labels=labels.to(device)\n",
        "      outputs=model(inputs)\n",
        "      loss+=criterion(outputs,labels).item()\n",
        "      pred=torch.argmax(outputs,dim=-1)\n",
        "      total+=len(inputs)\n",
        "      counts+=(pred==labels).sum().item()\n",
        "  return loss/len(loader),counts/total"
      ],
      "metadata": {
        "id": "rzLRo3nBLNXc"
      },
      "execution_count": 170,
      "outputs": []
    },
    {
      "cell_type": "code",
      "source": [
        "def train_model_batch_device(dataset_train,dataset_valid,model,criterion,optimizer,batch_size,device=None):\n",
        "  model.to(device)\n",
        "  dataloader_train=DataLoader(dataset_train,batch_size=batch_size,shuffle=True)\n",
        "  dataloader_valid=DataLoader(dataset_valid,batch_size=batch_size,shuffle=False)\n",
        "  log_train,log_valid=[],[]\n",
        "  epochs=1\n",
        "  for epoch in range(1,epochs+1):\n",
        "    s_time=time.time()\n",
        "    model.train()\n",
        "    for inputs,labels in dataloader_train:\n",
        "      optimizer.zero_grad()\n",
        "      inputs=inputs.to(device)\n",
        "      labels=labels.to(device)\n",
        "      optimizer.zero_grad()\n",
        "      outputs=model.forward(inputs)\n",
        "      loss=criterion(outputs,labels)\n",
        "      loss.backward()\n",
        "      optimizer.step()\n",
        "    loss_train,acc_train=calculate_accuracy_loss_device(model,dataloader_train,criterion,device)\n",
        "    loss_valid,acc_valid=calculate_accuracy_loss_device(model,dataloader_valid,criterion,device)\n",
        "    log_train.append([loss_train,acc_train])\n",
        "    log_valid.append([loss_valid,acc_valid])\n",
        "    torch.save({\"epoch\":epoch,\"model_state_dict\":model.state_dict,\"optimizer_state_dict\":optimizer.state_dict},f\"checkpoint{epoch}.pt\")    \n",
        "    e_time=time.time()\n",
        "    print(f\"epoch:{epoch},loss_train:{loss_train:.4f},acc_train:{acc_train:.4f},loss_valid:{loss_valid:.4f},acc_valid:{acc_valid:.4f},time:{e_time-s_time:.4f}sec\")\n",
        "  return {\"train\":log_train,\"valid\":log_valid}\n",
        "\n",
        "  "
      ],
      "metadata": {
        "id": "ydHI3J83L7n9"
      },
      "execution_count": 171,
      "outputs": []
    },
    {
      "cell_type": "code",
      "source": [
        "dataset_train=NewDataset(X_train,y_train)\n",
        "dataset_valid=NewDataset(X_valid,y_valid)\n",
        "mdel=SLPNet(300,4)\n",
        "criterion=nn.CrossEntropyLoss()\n",
        "optimizer=torch.optim.SGD(model.parameters(),lr=1e-1)\n",
        "device=torch.device(\"cuda\")\n",
        "for batch_size in [2**i for i in range(6)]:\n",
        "  print(f\"batch size:{batch_size}\")\n",
        "  log=train_model_batch_device(dataset_train,dataset_valid,model,criterion,optimizer,batch_size,device=device)"
      ],
      "metadata": {
        "id": "tbQ1l6skNCUw",
        "outputId": "a09cf765-104a-4f4a-f42c-bb30579e8759",
        "colab": {
          "base_uri": "https://localhost:8080/"
        }
      },
      "execution_count": 172,
      "outputs": [
        {
          "output_type": "stream",
          "name": "stdout",
          "text": [
            "batch size:1\n",
            "epoch:1,loss_train:0.2655,acc_train:0.9096,loss_valid:0.3116,acc_valid:0.8945,time:9.8141sec\n",
            "batch size:2\n",
            "epoch:1,loss_train:0.2592,acc_train:0.9174,loss_valid:0.3051,acc_valid:0.8967,time:4.8534sec\n",
            "batch size:4\n",
            "epoch:1,loss_train:0.2535,acc_train:0.9158,loss_valid:0.3027,acc_valid:0.8960,time:2.4562sec\n",
            "batch size:8\n",
            "epoch:1,loss_train:0.2520,acc_train:0.9164,loss_valid:0.3017,acc_valid:0.8930,time:1.2917sec\n",
            "batch size:16\n",
            "epoch:1,loss_train:0.2516,acc_train:0.9170,loss_valid:0.3062,acc_valid:0.8945,time:0.7113sec\n",
            "batch size:32\n",
            "epoch:1,loss_train:0.2512,acc_train:0.9171,loss_valid:0.3032,acc_valid:0.8937,time:0.3957sec\n"
          ]
        }
      ]
    },
    {
      "cell_type": "markdown",
      "source": [
        "### 79 多層ニューラルネットワーク\n",
        ">>\n",
        "問題78のコードを改変し，バイアス項の導入や多層化など，ニューラルネットワークの形状を変更しながら，高性能なカテゴリ分類器を構築せよ．"
      ],
      "metadata": {
        "id": "WhJmwHTRNXhs"
      }
    },
    {
      "cell_type": "code",
      "source": [
        "from torch.nn import functional as F"
      ],
      "metadata": {
        "id": "jAP4WgXfXg5l"
      },
      "execution_count": 173,
      "outputs": []
    },
    {
      "cell_type": "code",
      "source": [
        "class MLPNet(nn.Module):\n",
        "  def __init__(self,input_size,mid_size,output_size,mid_layers):\n",
        "    super().__init__()\n",
        "    self.mid_layers=mid_layers\n",
        "    self.func_in=nn.Linear(input_size,mid_size)\n",
        "    self.func_mid=nn.Linear(mid_size,mid_size)\n",
        "    self.func_out=nn.Linear(mid_size,output_size)\n",
        "    self.bn=nn.BatchNorm1d(mid_size)\n",
        "  def forward(self,x):\n",
        "    x=F.relu(self.func_in(x))\n",
        "    for _ in range(self.mid_layers):\n",
        "      x=F.relu(self.bn(self.func_mid(x)))\n",
        "    x=F.relu(self.func_out(x))\n",
        "    return x"
      ],
      "metadata": {
        "id": "8mhRgI-tNuhP"
      },
      "execution_count": 174,
      "outputs": []
    },
    {
      "cell_type": "code",
      "source": [
        "def train_model_multi(dataset_train,dataset_valid,model,criterion,optimizer,batch_size,device):\n",
        "  model.to(device)\n",
        "  dataloader_train=DataLoader(dataset_train,batch_size=batch_size,shuffle=True)\n",
        "  dataloader_valid=DataLoader(dataset_valid,batch_size=batch_size,shuffle=False)\n",
        "  log_train,log_valid=[],[]\n",
        "  epochs=30\n",
        "  scheduler=torch.optim.lr_scheduler.CosineAnnealingLR(optimizer,epochs,eta_min=1e-5,last_epoch=-1)\n",
        "  for epoch in range(1,epochs+1):\n",
        "    s_time=time.time()\n",
        "    model.train()\n",
        "    for inputs,labels in dataloader_train:\n",
        "      optimizer.zero_grad()\n",
        "      inputs=inputs.to(device)\n",
        "      labels=labels.to(device)\n",
        "      outputs=model.forward(inputs)\n",
        "      loss=criterion(outputs,labels)\n",
        "      loss.backward()\n",
        "      optimizer.step()\n",
        "    loss_train,acc_train=calculate_accuracy_loss_device(model,dataloader_train,criterion,device)\n",
        "    loss_valid,acc_valid=calculate_accuracy_loss_device(model,dataloader_valid,criterion,device)\n",
        "    log_train.append([loss_train,acc_train])\n",
        "    log_valid.append([loss_valid,acc_valid])\n",
        "    torch.save({\"epoch\":epoch,\"model_state_dict\":model.state_dict,\"optimizer_state_dict\":optimizer.state_dict},f\"checkpoint{epoch}.pt\")\n",
        "    e_time=time.time()\n",
        "    print(f\"epoch:{epoch},loss_train:{loss_train:.4f},acc_train:{acc_train:.4f},loss_valid:{loss_valid:.4f},acc_valid:{acc_valid:.4f},time:{e_time-s_time:.4f}sec\")\n",
        "    scheduler.step()\n",
        "  return {\"train\":log_train,\"valid\":log_valid}\n",
        "\n",
        "  "
      ],
      "metadata": {
        "id": "zNtxZKmvU9bG"
      },
      "execution_count": 175,
      "outputs": []
    },
    {
      "cell_type": "code",
      "source": [
        "dataset_train=NewDataset(X_train,y_train)\n",
        "dataset_valid=NewDataset(X_valid,y_valid)\n",
        "model=MLPNet(300,200,4,1)\n",
        "criterion=nn.CrossEntropyLoss()\n",
        "optimizer=torch.optim.SGD(model.parameters(),lr=1e-3)\n",
        "device=torch.device(\"cuda\")\n",
        "log=train_model_multi(dataset_train,dataset_valid,model,criterion,optimizer,32,device)"
      ],
      "metadata": {
        "id": "hsSMOkrmVTiU",
        "outputId": "11f716bf-ef4c-4347-c5e5-aa2c7a70c568",
        "colab": {
          "base_uri": "https://localhost:8080/"
        }
      },
      "execution_count": 176,
      "outputs": [
        {
          "output_type": "stream",
          "name": "stdout",
          "text": [
            "epoch:1,loss_train:0.7402,acc_train:0.7722,loss_valid:0.7339,acc_valid:0.7717,time:0.6899sec\n",
            "epoch:2,loss_train:0.5993,acc_train:0.7907,loss_valid:0.5968,acc_valid:0.7897,time:0.6824sec\n",
            "epoch:3,loss_train:0.5213,acc_train:0.8192,loss_valid:0.5217,acc_valid:0.8159,time:0.6760sec\n",
            "epoch:4,loss_train:0.4689,acc_train:0.8471,loss_valid:0.4727,acc_valid:0.8496,time:0.6649sec\n",
            "epoch:5,loss_train:0.4297,acc_train:0.8668,loss_valid:0.4356,acc_valid:0.8675,time:0.6669sec\n",
            "epoch:6,loss_train:0.3986,acc_train:0.8744,loss_valid:0.4076,acc_valid:0.8757,time:0.6799sec\n",
            "epoch:7,loss_train:0.3748,acc_train:0.8852,loss_valid:0.3855,acc_valid:0.8847,time:0.6824sec\n",
            "epoch:8,loss_train:0.3556,acc_train:0.8883,loss_valid:0.3693,acc_valid:0.8877,time:0.6718sec\n",
            "epoch:9,loss_train:0.3431,acc_train:0.8932,loss_valid:0.3587,acc_valid:0.8915,time:0.7095sec\n",
            "epoch:10,loss_train:0.3286,acc_train:0.8967,loss_valid:0.3463,acc_valid:0.8945,time:0.6792sec\n",
            "epoch:11,loss_train:0.3206,acc_train:0.8990,loss_valid:0.3405,acc_valid:0.8967,time:0.6755sec\n",
            "epoch:12,loss_train:0.3126,acc_train:0.9028,loss_valid:0.3344,acc_valid:0.8997,time:0.6887sec\n",
            "epoch:13,loss_train:0.3091,acc_train:0.9026,loss_valid:0.3330,acc_valid:0.9049,time:0.6884sec\n",
            "epoch:14,loss_train:0.3024,acc_train:0.9029,loss_valid:0.3266,acc_valid:0.9027,time:0.6723sec\n",
            "epoch:15,loss_train:0.2932,acc_train:0.9063,loss_valid:0.3200,acc_valid:0.9012,time:0.6736sec\n",
            "epoch:16,loss_train:0.2896,acc_train:0.9062,loss_valid:0.3182,acc_valid:0.9034,time:0.6739sec\n",
            "epoch:17,loss_train:0.2868,acc_train:0.9085,loss_valid:0.3160,acc_valid:0.9019,time:0.6670sec\n",
            "epoch:18,loss_train:0.2862,acc_train:0.9104,loss_valid:0.3159,acc_valid:0.9004,time:0.6734sec\n",
            "epoch:19,loss_train:0.2818,acc_train:0.9076,loss_valid:0.3128,acc_valid:0.9027,time:0.6627sec\n",
            "epoch:20,loss_train:0.2816,acc_train:0.9110,loss_valid:0.3142,acc_valid:0.9012,time:0.6519sec\n",
            "epoch:21,loss_train:0.2760,acc_train:0.9104,loss_valid:0.3092,acc_valid:0.9034,time:0.6667sec\n",
            "epoch:22,loss_train:0.2765,acc_train:0.9115,loss_valid:0.3099,acc_valid:0.9027,time:0.6765sec\n",
            "epoch:23,loss_train:0.2740,acc_train:0.9112,loss_valid:0.3074,acc_valid:0.9042,time:0.6672sec\n",
            "epoch:24,loss_train:0.2733,acc_train:0.9117,loss_valid:0.3076,acc_valid:0.9034,time:0.6780sec\n",
            "epoch:25,loss_train:0.2740,acc_train:0.9123,loss_valid:0.3083,acc_valid:0.9072,time:0.6854sec\n",
            "epoch:26,loss_train:0.2703,acc_train:0.9114,loss_valid:0.3054,acc_valid:0.9042,time:0.6634sec\n",
            "epoch:27,loss_train:0.2747,acc_train:0.9115,loss_valid:0.3091,acc_valid:0.9049,time:0.6816sec\n",
            "epoch:28,loss_train:0.2736,acc_train:0.9116,loss_valid:0.3083,acc_valid:0.9034,time:0.7044sec\n",
            "epoch:29,loss_train:0.2729,acc_train:0.9111,loss_valid:0.3080,acc_valid:0.9064,time:0.6759sec\n",
            "epoch:30,loss_train:0.2724,acc_train:0.9100,loss_valid:0.3073,acc_valid:0.9042,time:0.6855sec\n"
          ]
        }
      ]
    },
    {
      "cell_type": "code",
      "source": [
        "fig,ax=plt.subplots(1,2,figsize=(15,5))\n",
        "ax[0].plot(np.array(log[\"train\"]).T[0],label=\"train\")\n",
        "ax[0].plot(np.array(log[\"valid\"]).T[0],label=\"valid\")\n",
        "ax[0].set_xlabel(\"epoch\")\n",
        "ax[0].set_ylabel(\"loss\")\n",
        "ax[0].legend()\n",
        "ax[1].plot(np.array(log[\"train\"]).T[1],label=\"train\")\n",
        "ax[1].plot(np.array(log[\"valid\"]).T[1],label=\"valid\")\n",
        "ax[1].set_xlabel(\"epoch\")\n",
        "ax[1].set_ylabel(\"accuracy\")\n",
        "ax[1].legend()\n",
        "plt.show()"
      ],
      "metadata": {
        "id": "Ek3xjgMcXMOl",
        "outputId": "6df4fe11-93d9-4d24-aedb-425ec0b7161e",
        "colab": {
          "base_uri": "https://localhost:8080/",
          "height": 334
        }
      },
      "execution_count": 177,
      "outputs": [
        {
          "output_type": "display_data",
          "data": {
            "image/png": "[encoded data removed]",
            "text/plain": [
              "<Figure size 1080x360 with 2 Axes>"
            ]
          },
          "metadata": {
            "needs_background": "light"
          }
        }
      ]
    },
    {
      "cell_type": "code",
      "source": [
        "def calculate_accuracy_device(model,loader,device):\n",
        "  model.eval()\n",
        "  total,counts=0,0\n",
        "  with torch.no_grad():\n",
        "    for inputs,labels in loader:\n",
        "      inputs=inputs.to(device)\n",
        "      labels=labels.to(device)\n",
        "      outputs=model(inputs)\n",
        "      pred=torch.argmax(outputs,dim=-1)\n",
        "      total+=len(inputs)\n",
        "      counts+=(pred==labels).sum().item()\n",
        "  return counts/total"
      ],
      "metadata": {
        "id": "7ojX0-kgZSyo"
      },
      "execution_count": 178,
      "outputs": []
    },
    {
      "cell_type": "code",
      "source": [
        "acc_train=calculate_accuracy_device(model,dataloader_train,device)\n",
        "acc_test=calculate_accuracy_device(model,dataloader_test,device)\n",
        "print(f\"train accuracy:{acc_train:.3f}\")\n",
        "print(f\"test accuracy:{acc_test:.3f}\")"
      ],
      "metadata": {
        "id": "5YFOHMnY7yDP",
        "outputId": "1012aa25-3cb4-4346-8005-0d376714b7bb",
        "colab": {
          "base_uri": "https://localhost:8080/"
        }
      },
      "execution_count": 179,
      "outputs": [
        {
          "output_type": "stream",
          "name": "stdout",
          "text": [
            "train accuracy:0.910\n",
            "test accuracy:0.891\n"
          ]
        }
      ]
    }
  ]
}