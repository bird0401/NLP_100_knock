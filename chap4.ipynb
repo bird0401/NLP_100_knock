{
  "nbformat": 4,
  "nbformat_minor": 0,
  "metadata": {
    "colab": {
      "name": "chap4.ipynb",
      "provenance": [],
      "authorship_tag": "ABX9TyPy7+zGQxVjAqVUMfC4g+EK",
      "include_colab_link": true
    },
    "kernelspec": {
      "name": "python3",
      "display_name": "Python 3"
    },
    "language_info": {
      "name": "python"
    }
  },
  "cells": [
    {
      "cell_type": "markdown",
      "metadata": {
        "id": "view-in-github",
        "colab_type": "text"
      },
      "source": [
        "<a href=\"https://colab.research.google.com/github/mot1122/NLP_100_knock/blob/main/chap4.ipynb\" target=\"_parent\"><img src=\"https://colab.research.google.com/assets/colab-badge.svg\" alt=\"Open In Colab\"/></a>"
      ]
    },
    {
      "cell_type": "markdown",
      "source": [
        "29. 夏目漱石の小説『吾輩は猫である』の文章（neko.txt）をMeCabを使って形態素解析し，その結果をneko.txt.mecabというファイルに保存せよ．このファイルを用いて，以下の問に対応するプログラムを実装せよ．"
      ],
      "metadata": {
        "id": "Xb2DAESDRez2"
      }
    },
    {
      "cell_type": "code",
      "execution_count": null,
      "metadata": {
        "colab": {
          "base_uri": "https://localhost:8080/"
        },
        "id": "iMsx3Pj_PjMz",
        "outputId": "52bb8872-53c8-41b6-83ff-96a7f5888142"
      },
      "outputs": [
        {
          "output_type": "stream",
          "name": "stdout",
          "text": [
            "--2022-01-12 18:32:22--  https://nlp100.github.io/data/neko.txt\n",
            "Resolving nlp100.github.io (nlp100.github.io)... 185.199.111.153, 185.199.110.153, 185.199.108.153, ...\n",
            "Connecting to nlp100.github.io (nlp100.github.io)|185.199.111.153|:443... connected.\n",
            "HTTP request sent, awaiting response... 200 OK\n",
            "Length: 975789 (953K) [text/plain]\n",
            "Saving to: ‘neko.txt’\n",
            "\n",
            "\rneko.txt              0%[                    ]       0  --.-KB/s               \rneko.txt            100%[===================>] 952.92K  --.-KB/s    in 0.02s   \n",
            "\n",
            "2022-01-12 18:32:22 (39.7 MB/s) - ‘neko.txt’ saved [975789/975789]\n",
            "\n"
          ]
        }
      ],
      "source": [
        "!wget https://nlp100.github.io/data/neko.txt"
      ]
    },
    {
      "cell_type": "code",
      "source": [
        " !apt install mecab libmecab-dev mecab-ipadic-utf8"
      ],
      "metadata": {
        "colab": {
          "base_uri": "https://localhost:8080/"
        },
        "id": "kZHtUsBAQlLn",
        "outputId": "7cda0f3c-0fc2-413f-c030-6299c43e67a0"
      },
      "execution_count": null,
      "outputs": [
        {
          "output_type": "stream",
          "name": "stdout",
          "text": [
            "Reading package lists... Done\n",
            "Building dependency tree       \n",
            "Reading state information... Done\n",
            "The following additional packages will be installed:\n",
            "  libmecab2 mecab-ipadic mecab-jumandic mecab-jumandic-utf8 mecab-utils\n",
            "The following NEW packages will be installed:\n",
            "  libmecab-dev libmecab2 mecab mecab-ipadic mecab-ipadic-utf8 mecab-jumandic\n",
            "  mecab-jumandic-utf8 mecab-utils\n",
            "0 upgraded, 8 newly installed, 0 to remove and 37 not upgraded.\n",
            "Need to get 29.0 MB of archives.\n",
            "After this operation, 277 MB of additional disk space will be used.\n",
            "Get:1 http://archive.ubuntu.com/ubuntu bionic/universe amd64 libmecab2 amd64 0.996-5 [257 kB]\n",
            "Get:2 http://archive.ubuntu.com/ubuntu bionic/universe amd64 libmecab-dev amd64 0.996-5 [308 kB]\n",
            "Get:3 http://archive.ubuntu.com/ubuntu bionic/universe amd64 mecab-utils amd64 0.996-5 [4,856 B]\n",
            "Get:4 http://archive.ubuntu.com/ubuntu bionic/universe amd64 mecab-jumandic-utf8 all 7.0-20130310-4 [16.2 MB]\n",
            "Get:5 http://archive.ubuntu.com/ubuntu bionic/universe amd64 mecab-jumandic all 7.0-20130310-4 [2,212 B]\n",
            "Get:6 http://archive.ubuntu.com/ubuntu bionic/universe amd64 mecab-ipadic all 2.7.0-20070801+main-1 [12.1 MB]\n",
            "Get:7 http://archive.ubuntu.com/ubuntu bionic/universe amd64 mecab amd64 0.996-5 [132 kB]\n",
            "Get:8 http://archive.ubuntu.com/ubuntu bionic/universe amd64 mecab-ipadic-utf8 all 2.7.0-20070801+main-1 [3,522 B]\n",
            "Fetched 29.0 MB in 0s (74.7 MB/s)\n",
            "Selecting previously unselected package libmecab2:amd64.\n",
            "(Reading database ... 155229 files and directories currently installed.)\n",
            "Preparing to unpack .../0-libmecab2_0.996-5_amd64.deb ...\n",
            "Unpacking libmecab2:amd64 (0.996-5) ...\n",
            "Selecting previously unselected package libmecab-dev.\n",
            "Preparing to unpack .../1-libmecab-dev_0.996-5_amd64.deb ...\n",
            "Unpacking libmecab-dev (0.996-5) ...\n",
            "Selecting previously unselected package mecab-utils.\n",
            "Preparing to unpack .../2-mecab-utils_0.996-5_amd64.deb ...\n",
            "Unpacking mecab-utils (0.996-5) ...\n",
            "Selecting previously unselected package mecab-jumandic-utf8.\n",
            "Preparing to unpack .../3-mecab-jumandic-utf8_7.0-20130310-4_all.deb ...\n",
            "Unpacking mecab-jumandic-utf8 (7.0-20130310-4) ...\n",
            "Selecting previously unselected package mecab-jumandic.\n",
            "Preparing to unpack .../4-mecab-jumandic_7.0-20130310-4_all.deb ...\n",
            "Unpacking mecab-jumandic (7.0-20130310-4) ...\n",
            "Selecting previously unselected package mecab-ipadic.\n",
            "Preparing to unpack .../5-mecab-ipadic_2.7.0-20070801+main-1_all.deb ...\n",
            "Unpacking mecab-ipadic (2.7.0-20070801+main-1) ...\n",
            "Selecting previously unselected package mecab.\n",
            "Preparing to unpack .../6-mecab_0.996-5_amd64.deb ...\n",
            "Unpacking mecab (0.996-5) ...\n",
            "Selecting previously unselected package mecab-ipadic-utf8.\n",
            "Preparing to unpack .../7-mecab-ipadic-utf8_2.7.0-20070801+main-1_all.deb ...\n",
            "Unpacking mecab-ipadic-utf8 (2.7.0-20070801+main-1) ...\n",
            "Setting up libmecab2:amd64 (0.996-5) ...\n",
            "Setting up mecab-utils (0.996-5) ...\n",
            "Setting up mecab-ipadic (2.7.0-20070801+main-1) ...\n",
            "Compiling IPA dictionary for Mecab.  This takes long time...\n",
            "reading /usr/share/mecab/dic/ipadic/unk.def ... 40\n",
            "emitting double-array: 100% |###########################################| \n",
            "/usr/share/mecab/dic/ipadic/model.def is not found. skipped.\n",
            "reading /usr/share/mecab/dic/ipadic/Postp.csv ... 146\n",
            "reading /usr/share/mecab/dic/ipadic/Noun.verbal.csv ... 12146\n",
            "reading /usr/share/mecab/dic/ipadic/Noun.proper.csv ... 27327\n",
            "reading /usr/share/mecab/dic/ipadic/Noun.number.csv ... 42\n",
            "reading /usr/share/mecab/dic/ipadic/Noun.nai.csv ... 42\n",
            "reading /usr/share/mecab/dic/ipadic/Symbol.csv ... 208\n",
            "reading /usr/share/mecab/dic/ipadic/Noun.others.csv ... 151\n",
            "reading /usr/share/mecab/dic/ipadic/Prefix.csv ... 221\n",
            "reading /usr/share/mecab/dic/ipadic/Verb.csv ... 130750\n",
            "reading /usr/share/mecab/dic/ipadic/Noun.csv ... 60477\n",
            "reading /usr/share/mecab/dic/ipadic/Auxil.csv ... 199\n",
            "reading /usr/share/mecab/dic/ipadic/Noun.place.csv ... 72999\n",
            "reading /usr/share/mecab/dic/ipadic/Filler.csv ... 19\n",
            "reading /usr/share/mecab/dic/ipadic/Others.csv ... 2\n",
            "reading /usr/share/mecab/dic/ipadic/Noun.name.csv ... 34202\n",
            "reading /usr/share/mecab/dic/ipadic/Postp-col.csv ... 91\n",
            "reading /usr/share/mecab/dic/ipadic/Adj.csv ... 27210\n",
            "reading /usr/share/mecab/dic/ipadic/Conjunction.csv ... 171\n",
            "reading /usr/share/mecab/dic/ipadic/Noun.adjv.csv ... 3328\n",
            "reading /usr/share/mecab/dic/ipadic/Interjection.csv ... 252\n",
            "reading /usr/share/mecab/dic/ipadic/Suffix.csv ... 1393\n",
            "reading /usr/share/mecab/dic/ipadic/Adverb.csv ... 3032\n",
            "reading /usr/share/mecab/dic/ipadic/Noun.adverbal.csv ... 795\n",
            "reading /usr/share/mecab/dic/ipadic/Noun.org.csv ... 16668\n",
            "reading /usr/share/mecab/dic/ipadic/Adnominal.csv ... 135\n",
            "reading /usr/share/mecab/dic/ipadic/Noun.demonst.csv ... 120\n",
            "emitting double-array: 100% |###########################################| \n",
            "reading /usr/share/mecab/dic/ipadic/matrix.def ... 1316x1316\n",
            "emitting matrix      : 100% |###########################################| \n",
            "\n",
            "done!\n",
            "update-alternatives: using /var/lib/mecab/dic/ipadic to provide /var/lib/mecab/dic/debian (mecab-dictionary) in auto mode\n",
            "Setting up libmecab-dev (0.996-5) ...\n",
            "Setting up mecab-jumandic-utf8 (7.0-20130310-4) ...\n",
            "Compiling Juman dictionary for Mecab.\n",
            "reading /usr/share/mecab/dic/juman/unk.def ... 37\n",
            "emitting double-array: 100% |###########################################| \n",
            "reading /usr/share/mecab/dic/juman/Postp.csv ... 108\n",
            "reading /usr/share/mecab/dic/juman/Demonstrative.csv ... 97\n",
            "reading /usr/share/mecab/dic/juman/AuxV.csv ... 593\n",
            "reading /usr/share/mecab/dic/juman/Emoticon.csv ... 972\n",
            "reading /usr/share/mecab/dic/juman/Prefix.csv ... 90\n",
            "reading /usr/share/mecab/dic/juman/Assert.csv ... 34\n",
            "reading /usr/share/mecab/dic/juman/Auto.csv ... 18931\n",
            "reading /usr/share/mecab/dic/juman/Rengo.csv ... 1118\n",
            "reading /usr/share/mecab/dic/juman/Noun.suusi.csv ... 49\n",
            "reading /usr/share/mecab/dic/juman/Noun.hukusi.csv ... 81\n",
            "reading /usr/share/mecab/dic/juman/Wikipedia.csv ... 167709\n",
            "reading /usr/share/mecab/dic/juman/Suffix.csv ... 2128\n",
            "reading /usr/share/mecab/dic/juman/Noun.keishiki.csv ... 8\n",
            "reading /usr/share/mecab/dic/juman/ContentW.csv ... 551145\n",
            "reading /usr/share/mecab/dic/juman/Noun.koyuu.csv ... 7964\n",
            "reading /usr/share/mecab/dic/juman/Special.csv ... 158\n",
            "emitting double-array: 100% |###########################################| \n",
            "reading /usr/share/mecab/dic/juman/matrix.def ... 1876x1876\n",
            "emitting matrix      : 100% |###########################################| \n",
            "\n",
            "done!\n",
            "Setting up mecab-ipadic-utf8 (2.7.0-20070801+main-1) ...\n",
            "Compiling IPA dictionary for Mecab.  This takes long time...\n",
            "reading /usr/share/mecab/dic/ipadic/unk.def ... 40\n",
            "emitting double-array: 100% |###########################################| \n",
            "/usr/share/mecab/dic/ipadic/model.def is not found. skipped.\n",
            "reading /usr/share/mecab/dic/ipadic/Postp.csv ... 146\n",
            "reading /usr/share/mecab/dic/ipadic/Noun.verbal.csv ... 12146\n",
            "reading /usr/share/mecab/dic/ipadic/Noun.proper.csv ... 27327\n",
            "reading /usr/share/mecab/dic/ipadic/Noun.number.csv ... 42\n",
            "reading /usr/share/mecab/dic/ipadic/Noun.nai.csv ... 42\n",
            "reading /usr/share/mecab/dic/ipadic/Symbol.csv ... 208\n",
            "reading /usr/share/mecab/dic/ipadic/Noun.others.csv ... 151\n",
            "reading /usr/share/mecab/dic/ipadic/Prefix.csv ... 221\n",
            "reading /usr/share/mecab/dic/ipadic/Verb.csv ... 130750\n",
            "reading /usr/share/mecab/dic/ipadic/Noun.csv ... 60477\n",
            "reading /usr/share/mecab/dic/ipadic/Auxil.csv ... 199\n",
            "reading /usr/share/mecab/dic/ipadic/Noun.place.csv ... 72999\n",
            "reading /usr/share/mecab/dic/ipadic/Filler.csv ... 19\n",
            "reading /usr/share/mecab/dic/ipadic/Others.csv ... 2\n",
            "reading /usr/share/mecab/dic/ipadic/Noun.name.csv ... 34202\n",
            "reading /usr/share/mecab/dic/ipadic/Postp-col.csv ... 91\n",
            "reading /usr/share/mecab/dic/ipadic/Adj.csv ... 27210\n",
            "reading /usr/share/mecab/dic/ipadic/Conjunction.csv ... 171\n",
            "reading /usr/share/mecab/dic/ipadic/Noun.adjv.csv ... 3328\n",
            "reading /usr/share/mecab/dic/ipadic/Interjection.csv ... 252\n",
            "reading /usr/share/mecab/dic/ipadic/Suffix.csv ... 1393\n",
            "reading /usr/share/mecab/dic/ipadic/Adverb.csv ... 3032\n",
            "reading /usr/share/mecab/dic/ipadic/Noun.adverbal.csv ... 795\n",
            "reading /usr/share/mecab/dic/ipadic/Noun.org.csv ... 16668\n",
            "reading /usr/share/mecab/dic/ipadic/Adnominal.csv ... 135\n",
            "reading /usr/share/mecab/dic/ipadic/Noun.demonst.csv ... 120\n",
            "emitting double-array: 100% |###########################################| \n",
            "reading /usr/share/mecab/dic/ipadic/matrix.def ... 1316x1316\n",
            "emitting matrix      : 100% |###########################################| \n",
            "\n",
            "done!\n",
            "update-alternatives: using /var/lib/mecab/dic/ipadic-utf8 to provide /var/lib/mecab/dic/debian (mecab-dictionary) in auto mode\n",
            "Setting up mecab (0.996-5) ...\n",
            "Compiling IPA dictionary for Mecab.  This takes long time...\n",
            "reading /usr/share/mecab/dic/ipadic/unk.def ... 40\n",
            "emitting double-array: 100% |###########################################| \n",
            "/usr/share/mecab/dic/ipadic/model.def is not found. skipped.\n",
            "reading /usr/share/mecab/dic/ipadic/Postp.csv ... 146\n",
            "reading /usr/share/mecab/dic/ipadic/Noun.verbal.csv ... 12146\n",
            "reading /usr/share/mecab/dic/ipadic/Noun.proper.csv ... 27327\n",
            "reading /usr/share/mecab/dic/ipadic/Noun.number.csv ... 42\n",
            "reading /usr/share/mecab/dic/ipadic/Noun.nai.csv ... 42\n",
            "reading /usr/share/mecab/dic/ipadic/Symbol.csv ... 208\n",
            "reading /usr/share/mecab/dic/ipadic/Noun.others.csv ... 151\n",
            "reading /usr/share/mecab/dic/ipadic/Prefix.csv ... 221\n",
            "reading /usr/share/mecab/dic/ipadic/Verb.csv ... 130750\n",
            "reading /usr/share/mecab/dic/ipadic/Noun.csv ... 60477\n",
            "reading /usr/share/mecab/dic/ipadic/Auxil.csv ... 199\n",
            "reading /usr/share/mecab/dic/ipadic/Noun.place.csv ... 72999\n",
            "reading /usr/share/mecab/dic/ipadic/Filler.csv ... 19\n",
            "reading /usr/share/mecab/dic/ipadic/Others.csv ... 2\n",
            "reading /usr/share/mecab/dic/ipadic/Noun.name.csv ... 34202\n",
            "reading /usr/share/mecab/dic/ipadic/Postp-col.csv ... 91\n",
            "reading /usr/share/mecab/dic/ipadic/Adj.csv ... 27210\n",
            "reading /usr/share/mecab/dic/ipadic/Conjunction.csv ... 171\n",
            "reading /usr/share/mecab/dic/ipadic/Noun.adjv.csv ... 3328\n",
            "reading /usr/share/mecab/dic/ipadic/Interjection.csv ... 252\n",
            "reading /usr/share/mecab/dic/ipadic/Suffix.csv ... 1393\n",
            "reading /usr/share/mecab/dic/ipadic/Adverb.csv ... 3032\n",
            "reading /usr/share/mecab/dic/ipadic/Noun.adverbal.csv ... 795\n",
            "reading /usr/share/mecab/dic/ipadic/Noun.org.csv ... 16668\n",
            "reading /usr/share/mecab/dic/ipadic/Adnominal.csv ... 135\n",
            "reading /usr/share/mecab/dic/ipadic/Noun.demonst.csv ... 120\n",
            "emitting double-array: 100% |###########################################| \n",
            "reading /usr/share/mecab/dic/ipadic/matrix.def ... 1316x1316\n",
            "emitting matrix      : 100% |###########################################| \n",
            "\n",
            "done!\n",
            "Setting up mecab-jumandic (7.0-20130310-4) ...\n",
            "Processing triggers for man-db (2.8.3-2ubuntu0.1) ...\n",
            "Processing triggers for libc-bin (2.27-3ubuntu1.3) ...\n",
            "/sbin/ldconfig.real: /usr/local/lib/python3.7/dist-packages/ideep4py/lib/libmkldnn.so.0 is not a symbolic link\n",
            "\n"
          ]
        }
      ]
    },
    {
      "cell_type": "code",
      "source": [
        "!mecab -o ./neko.txt.mecab ./neko.txt"
      ],
      "metadata": {
        "id": "pkDz36NbQ1Jm"
      },
      "execution_count": null,
      "outputs": []
    },
    {
      "cell_type": "code",
      "source": [
        "!wc -l ./neko.txt.mecab"
      ],
      "metadata": {
        "colab": {
          "base_uri": "https://localhost:8080/"
        },
        "id": "_sEYhqe2Q_lA",
        "outputId": "30988c73-4319-4f68-c62c-a720a525b2aa"
      },
      "execution_count": null,
      "outputs": [
        {
          "output_type": "stream",
          "name": "stdout",
          "text": [
            "226266 ./neko.txt.mecab\n"
          ]
        }
      ]
    },
    {
      "cell_type": "code",
      "source": [
        "!head -15 ./neko.txt.mecab"
      ],
      "metadata": {
        "colab": {
          "base_uri": "https://localhost:8080/"
        },
        "id": "fKq895V0RDIw",
        "outputId": "0076b95f-0e40-4da7-979e-116d36e30153"
      },
      "execution_count": null,
      "outputs": [
        {
          "output_type": "stream",
          "name": "stdout",
          "text": [
            "一\t名詞,数,*,*,*,*,一,イチ,イチ\n",
            "\r\t記号,一般,*,*,*,*,*\n",
            "EOS\n",
            "\r\t記号,一般,*,*,*,*,*\n",
            "EOS\n",
            "　\t記号,空白,*,*,*,*,　,　,　\n",
            "吾輩\t名詞,代名詞,一般,*,*,*,吾輩,ワガハイ,ワガハイ\n",
            "は\t助詞,係助詞,*,*,*,*,は,ハ,ワ\n",
            "猫\t名詞,一般,*,*,*,*,猫,ネコ,ネコ\n",
            "で\t助動詞,*,*,*,特殊・ダ,連用形,だ,デ,デ\n",
            "ある\t助動詞,*,*,*,五段・ラ行アル,基本形,ある,アル,アル\n",
            "。\t記号,句点,*,*,*,*,。,。,。\n",
            "\r\t記号,一般,*,*,*,*,*\n",
            "EOS\n",
            "名前\t名詞,一般,*,*,*,*,名前,ナマエ,ナマエ\n"
          ]
        }
      ]
    },
    {
      "cell_type": "markdown",
      "source": [
        "30. 形態素解析結果（neko.txt.mecab）を読み込むプログラムを実装せよ．ただし，各形態素は表層形（surface），基本形（base），品詞（pos），品詞細分類1（pos1）をキーとするマッピング型に格納し，1文を形態素（マッピング型）のリストとして表現せよ．第4章の残りの問題では，ここで作ったプログラムを活用せよ．"
      ],
      "metadata": {
        "id": "65WsiDDpRktj"
      }
    },
    {
      "cell_type": "code",
      "source": [
        "filename=\"./neko.txt.mecab\"\n",
        "sentenses,morphs=[],[]\n",
        "with open(filename,mode=\"r\") as f:\n",
        "  for line in f:\n",
        "    if line!=\"EOS\\n\":\n",
        "      fields=line.split(\"\\t\")\n",
        "      if len(fields)!=2 or fields[0]==' ':continue\n",
        "      attr=fields[1].split(\",\")\n",
        "      morph={\"surface\":fields[0], \"base\":attr[6], \"pos\":attr[0], \"pos1\":attr[1]}\n",
        "      morphs.append(morph)\n",
        "      \n",
        "    else:\n",
        "      sentenses.append(morphs)\n",
        "      morphs=[]\n"
      ],
      "metadata": {
        "id": "1rYGEIKGRH5k"
      },
      "execution_count": null,
      "outputs": []
    },
    {
      "cell_type": "code",
      "source": [
        "for morph in sentenses[2]:\n",
        "  print(morph)"
      ],
      "metadata": {
        "colab": {
          "base_uri": "https://localhost:8080/"
        },
        "id": "NetDAU93LbEM",
        "outputId": "094cc715-bcfe-45fd-bcc2-9c8f3314d17a"
      },
      "execution_count": null,
      "outputs": [
        {
          "output_type": "stream",
          "name": "stdout",
          "text": [
            "{'surface': '\\u3000', 'base': '\\u3000', 'pos': '記号', 'pos1': '空白'}\n",
            "{'surface': '吾輩', 'base': '吾輩', 'pos': '名詞', 'pos1': '代名詞'}\n",
            "{'surface': 'は', 'base': 'は', 'pos': '助詞', 'pos1': '係助詞'}\n",
            "{'surface': '猫', 'base': '猫', 'pos': '名詞', 'pos1': '一般'}\n",
            "{'surface': 'で', 'base': 'だ', 'pos': '助動詞', 'pos1': '*'}\n",
            "{'surface': 'ある', 'base': 'ある', 'pos': '助動詞', 'pos1': '*'}\n",
            "{'surface': '。', 'base': '。', 'pos': '記号', 'pos1': '句点'}\n",
            "{'surface': '', 'base': '*\\n', 'pos': '記号', 'pos1': '一般'}\n"
          ]
        }
      ]
    },
    {
      "cell_type": "markdown",
      "source": [
        "31. 動詞の表層形をすべて抽出せよ．"
      ],
      "metadata": {
        "id": "RxkJVdRAP-v9"
      }
    },
    {
      "cell_type": "code",
      "source": [
        "verbs=set()\n",
        "for sentense in sentenses:\n",
        "  for morphs in sentense:\n",
        "    if morphs[\"pos\"]==\"動詞\":\n",
        "      verbs.add(morphs[\"surface\"])"
      ],
      "metadata": {
        "id": "X2TmytyVQCSI"
      },
      "execution_count": null,
      "outputs": []
    },
    {
      "cell_type": "markdown",
      "source": [
        ""
      ],
      "metadata": {
        "id": "U61ZNJI2RR_6"
      }
    },
    {
      "cell_type": "code",
      "source": [
        "print(f\"動詞の表層形の種類：{len(verbs)}\\n\")\n",
        "print(\"---サンプル---\")\n",
        "for verb in list(verbs)[:5]:\n",
        "  print(verb)\n"
      ],
      "metadata": {
        "colab": {
          "base_uri": "https://localhost:8080/"
        },
        "id": "EZVVnC9vQ0DM",
        "outputId": "19ba73a2-cf85-4073-80bd-f5cc33f74560"
      },
      "execution_count": null,
      "outputs": [
        {
          "output_type": "stream",
          "name": "stdout",
          "text": [
            "動詞の表層形の種類：3893\n",
            "\n",
            "---サンプル---\n",
            "卸す\n",
            "せしめ\n",
            "まえ\n",
            "恐れ入り\n",
            "申し込ん\n"
          ]
        }
      ]
    },
    {
      "cell_type": "markdown",
      "source": [
        "32. 動詞の原形をすべて抽出せよ．"
      ],
      "metadata": {
        "id": "brdpqDQbW9Xy"
      }
    },
    {
      "cell_type": "code",
      "source": [
        "bases=set()\n",
        "for sentense in sentenses:\n",
        "  for morph in sentense:\n",
        "    if morph[\"pos\"]==\"動詞\":\n",
        "      bases.add(morph[\"base\"])"
      ],
      "metadata": {
        "id": "Wo5B7MioXkWd"
      },
      "execution_count": null,
      "outputs": []
    },
    {
      "cell_type": "code",
      "source": [
        ""
      ],
      "metadata": {
        "id": "QIBY2KeSXyf1"
      },
      "execution_count": null,
      "outputs": []
    },
    {
      "cell_type": "code",
      "source": [
        "print(f\"動詞の原型の種類: {len(bases)}\\n\")\n",
        "print(\"---サンプル---\")\n",
        "for base in list(bases)[:5]:\n",
        "  print(base)"
      ],
      "metadata": {
        "colab": {
          "base_uri": "https://localhost:8080/"
        },
        "id": "G4wzumDDW-VL",
        "outputId": "a9bf0f7b-a4e7-4a95-ee5b-63c844c04092"
      },
      "execution_count": null,
      "outputs": [
        {
          "output_type": "stream",
          "name": "stdout",
          "text": [
            "動詞の原型の種類: 2300\n",
            "\n",
            "---サンプル---\n",
            "卸す\n",
            "坐る\n",
            "におう\n",
            "輝く\n",
            "覚る\n"
          ]
        }
      ]
    },
    {
      "cell_type": "markdown",
      "source": [
        "33. 2つの名詞が「の」で連結されている名詞句を抽出せよ．"
      ],
      "metadata": {
        "id": "RcgP8F_EX624"
      }
    },
    {
      "cell_type": "code",
      "source": [
        "nps=set()\n",
        "for sentense in sentenses:\n",
        "  for i in range(1,len(sentense)-1):\n",
        "    front,middle,back=sentense[i-1],sentense[i],sentense[i+1]\n",
        "    if front[\"pos\"]==\"名詞\" and middle[\"surface\"]==\"の\" and back[\"pos\"]==\"名詞\":\n",
        "      nps.add(front[\"surface\"]+middle[\"surface\"]+back[\"surface\"])"
      ],
      "metadata": {
        "id": "EvuHYAp9X_VY"
      },
      "execution_count": null,
      "outputs": []
    },
    {
      "cell_type": "code",
      "source": [
        "print(\"f「の」で連結されている名詞句の種類:{len(nps)}\\n\")\n",
        "print(\"----サンプル----\")\n",
        "for np in list(nps)[:5]:\n",
        "  print(np)"
      ],
      "metadata": {
        "colab": {
          "base_uri": "https://localhost:8080/"
        },
        "id": "n62-4n9WagTc",
        "outputId": "f681fb40-9e57-4252-cb16-c79824548839"
      },
      "execution_count": null,
      "outputs": [
        {
          "output_type": "stream",
          "name": "stdout",
          "text": [
            "f「の」で連結されている名詞句の種類:{len(nps)}\n",
            "\n",
            "----サンプル----\n",
            "疋の怪物\n",
            "顔の前\n",
            "軽蔑の極\n",
            "君の座敷\n",
            "脱兎の勢\n"
          ]
        }
      ]
    },
    {
      "cell_type": "markdown",
      "source": [
        "34. 名詞の連接（連続して出現する名詞）を最長一致で抽出せよ．"
      ],
      "metadata": {
        "id": "aG8dS34NclaU"
      }
    },
    {
      "cell_type": "code",
      "source": [
        "ncs=set()\n",
        "nc=\"\"\n",
        "n=0\n",
        "for sentense in sentenses:\n",
        "  for morph in sentense:\n",
        "    if morph[\"pos\"]==\"名詞\":\n",
        "      nc+=morph[\"surface\"]\n",
        "      n+=1\n",
        "    else:\n",
        "      if n>2:\n",
        "        ncs.add(nc)\n",
        "      nc=\"\"\n",
        "      n=0\n",
        "      "
      ],
      "metadata": {
        "id": "P8gb5qB7cnXb"
      },
      "execution_count": null,
      "outputs": []
    },
    {
      "cell_type": "code",
      "source": [
        "print(f\"連結名詞の種類: {len(ncs)}\\n\")\n",
        "print(\"----サンプル----\")\n",
        "for nc in list(ncs)[:5]:\n",
        "  print(nc)"
      ],
      "metadata": {
        "colab": {
          "base_uri": "https://localhost:8080/"
        },
        "id": "2YnOP5YOeDy6",
        "outputId": "c1e19f7c-386c-4d0c-fdcb-f8360e5ec0e7"
      },
      "execution_count": null,
      "outputs": [
        {
          "output_type": "stream",
          "name": "stdout",
          "text": [
            "連結名詞の種類: 1189\n",
            "\n",
            "----サンプル----\n",
            "寒厨何\n",
            "蒲原郡筍谷\n",
            "時蟷螂君\n",
            "どれ一つ拝見\n",
            "御苦労千万\n"
          ]
        }
      ]
    },
    {
      "cell_type": "markdown",
      "source": [
        "35. 文章中に出現する単語とその出現頻度を求め，出現頻度の高い順に並べよ．"
      ],
      "metadata": {
        "id": "BKABtck9hvxt"
      }
    },
    {
      "cell_type": "code",
      "source": [
        "from collections import defaultdict\n",
        "\n",
        "freq=defaultdict(int)\n",
        "for sentense in sentenses:\n",
        "  for morph in sentense:\n",
        "    if morph[\"pos\"]!=\"記号\":\n",
        "      freq[morph[\"base\"]]+=1\n"
      ],
      "metadata": {
        "id": "SyfsvmQ7hsJd"
      },
      "execution_count": null,
      "outputs": []
    },
    {
      "cell_type": "code",
      "source": [
        "freq=sorted(freq.items(),key=lambda t:t[1],reverse=True)"
      ],
      "metadata": {
        "id": "4AkKi9ESh_31"
      },
      "execution_count": null,
      "outputs": []
    },
    {
      "cell_type": "code",
      "source": [
        "for w in freq[:10]:\n",
        "  print(w)"
      ],
      "metadata": {
        "colab": {
          "base_uri": "https://localhost:8080/"
        },
        "id": "s3k3Fmitl_WM",
        "outputId": "bf530de0-5a44-428d-f8d3-9d329d1b5ef8"
      },
      "execution_count": null,
      "outputs": [
        {
          "output_type": "stream",
          "name": "stdout",
          "text": [
            "('の', 9194)\n",
            "('て', 6848)\n",
            "('は', 6420)\n",
            "('に', 6243)\n",
            "('を', 6071)\n",
            "('だ', 5972)\n",
            "('と', 5508)\n",
            "('が', 5337)\n",
            "('た', 4267)\n",
            "('する', 3657)\n"
          ]
        }
      ]
    },
    {
      "cell_type": "markdown",
      "source": [
        "36. 出現頻度が高い10語とその出現頻度をグラフ（例えば棒グラフなど）で表示せよ．"
      ],
      "metadata": {
        "id": "_bNo447gmZcg"
      }
    },
    {
      "cell_type": "code",
      "source": [
        "!pip install japanize_matplotlib"
      ],
      "metadata": {
        "colab": {
          "base_uri": "https://localhost:8080/"
        },
        "id": "b816MLOEmR0X",
        "outputId": "e34e433e-0a00-4724-f2e1-d30f636fab2b"
      },
      "execution_count": null,
      "outputs": [
        {
          "output_type": "stream",
          "name": "stdout",
          "text": [
            "Collecting japanize_matplotlib\n",
            "  Downloading japanize-matplotlib-1.1.3.tar.gz (4.1 MB)\n",
            "\u001b[K     |████████████████████████████████| 4.1 MB 12.9 MB/s \n",
            "\u001b[?25hRequirement already satisfied: matplotlib in /usr/local/lib/python3.7/dist-packages (from japanize_matplotlib) (3.2.2)\n",
            "Requirement already satisfied: cycler>=0.10 in /usr/local/lib/python3.7/dist-packages (from matplotlib->japanize_matplotlib) (0.11.0)\n",
            "Requirement already satisfied: numpy>=1.11 in /usr/local/lib/python3.7/dist-packages (from matplotlib->japanize_matplotlib) (1.19.5)\n",
            "Requirement already satisfied: pyparsing!=2.0.4,!=2.1.2,!=2.1.6,>=2.0.1 in /usr/local/lib/python3.7/dist-packages (from matplotlib->japanize_matplotlib) (3.0.6)\n",
            "Requirement already satisfied: python-dateutil>=2.1 in /usr/local/lib/python3.7/dist-packages (from matplotlib->japanize_matplotlib) (2.8.2)\n",
            "Requirement already satisfied: kiwisolver>=1.0.1 in /usr/local/lib/python3.7/dist-packages (from matplotlib->japanize_matplotlib) (1.3.2)\n",
            "Requirement already satisfied: six>=1.5 in /usr/local/lib/python3.7/dist-packages (from python-dateutil>=2.1->matplotlib->japanize_matplotlib) (1.15.0)\n",
            "Building wheels for collected packages: japanize-matplotlib\n",
            "  Building wheel for japanize-matplotlib (setup.py) ... \u001b[?25l\u001b[?25hdone\n",
            "  Created wheel for japanize-matplotlib: filename=japanize_matplotlib-1.1.3-py3-none-any.whl size=4120275 sha256=54e4227a003f1a75685a5e4e4eb90481b282ce54dc3461f9e645f059fc37096b\n",
            "  Stored in directory: /root/.cache/pip/wheels/83/97/6b/e9e0cde099cc40f972b8dd23367308f7705ae06cd6d4714658\n",
            "Successfully built japanize-matplotlib\n",
            "Installing collected packages: japanize-matplotlib\n",
            "Successfully installed japanize-matplotlib-1.1.3\n"
          ]
        }
      ]
    },
    {
      "cell_type": "code",
      "source": [
        "import matplotlib.pyplot as plt\n",
        "import japanize_matplotlib"
      ],
      "metadata": {
        "id": "qHpkjTprmiV1"
      },
      "execution_count": null,
      "outputs": []
    },
    {
      "cell_type": "code",
      "source": [
        "keys=[w[0] for w in freq[:10]]\n",
        "values=[w[1] for w in freq[:10]]\n",
        "plt.figure(figsize=(10,5))\n",
        "plt.bar(keys,values)\n",
        "plt.show()"
      ],
      "metadata": {
        "colab": {
          "base_uri": "https://localhost:8080/",
          "height": 319
        },
        "id": "AVkXr5dInklf",
        "outputId": "13908f02-7c49-4093-d122-8f70044769fc"
      },
      "execution_count": 47,
      "outputs": [
        {
          "output_type": "display_data",
          "data": {
            "image/png": "[encoded data removed]",
            "text/plain": [
              "<Figure size 720x360 with 1 Axes>"
            ]
          },
          "metadata": {
            "needs_background": "light"
          }
        }
      ]
    },
    {
      "cell_type": "markdown",
      "source": [
        "37. 「猫」とよく共起する（共起頻度が高い）10語とその出現頻度をグラフ（例えば棒グラフなど）で表示せよ．"
      ],
      "metadata": {
        "id": "12r_MTVQnuUV"
      }
    },
    {
      "cell_type": "code",
      "source": [
        "cocat=defaultdict(int)\n",
        "for sentence in sentenses:\n",
        "  if \"猫\" in [morph[\"surface\"] for morph in sentence]:\n",
        "    for morph in sentence:\n",
        "      if morph[\"pos\"]!=\"記号\":\n",
        "        cocat[morph[\"base\"]]+=1\n",
        "del cocat[\"猫\"]"
      ],
      "metadata": {
        "id": "MfI1LpVynnES"
      },
      "execution_count": null,
      "outputs": []
    },
    {
      "cell_type": "code",
      "source": [
        "cocat=sorted(cocat.items(),key=lambda t:t[1],reverse=True)"
      ],
      "metadata": {
        "id": "K1BR6AXPsYIS"
      },
      "execution_count": null,
      "outputs": []
    },
    {
      "cell_type": "code",
      "source": [
        "keys=[w[0] for w in cocat[:10]]\n",
        "values=[w[1] for w in cocat[:10]]\n",
        "plt.figure(figsize=(10,5))\n",
        "plt.bar(keys,values)\n",
        "plt.show()"
      ],
      "metadata": {
        "colab": {
          "base_uri": "https://localhost:8080/",
          "height": 319
        },
        "id": "jyz3YjNXtNC4",
        "outputId": "2efc77b8-51b8-4e68-acdc-8d3ac955d6b5"
      },
      "execution_count": null,
      "outputs": [
        {
          "output_type": "display_data",
          "data": {
            "image/png": "[encoded data removed]",
            "text/plain": [
              "<Figure size 720x360 with 1 Axes>"
            ]
          },
          "metadata": {
            "needs_background": "light"
          }
        }
      ]
    },
    {
      "cell_type": "markdown",
      "source": [
        "38. 単語の出現頻度のヒストグラム（横軸に出現頻度，縦軸に出現頻度をとる単語の種類数を棒グラフで表したもの）を描け．"
      ],
      "metadata": {
        "id": "mFugNlzCturL"
      }
    },
    {
      "cell_type": "code",
      "source": [
        "values=[w[1] for w in freq]\n",
        "plt.figure(figsize=(10,5))\n",
        "plt.hist(values,bins=100)\n",
        "plt.xlabel(\"出現頻度\")\n",
        "plt.ylabel(\"単語の種類数\")\n",
        "plt.show()"
      ],
      "metadata": {
        "colab": {
          "base_uri": "https://localhost:8080/",
          "height": 332
        },
        "id": "3XazC5ldyD1N",
        "outputId": "f8ff20d0-39cc-4724-a2ab-0ee0e9f38470"
      },
      "execution_count": 50,
      "outputs": [
        {
          "output_type": "display_data",
          "data": {
            "image/png": "[encoded data removed]",
            "text/plain": [
              "<Figure size 720x360 with 1 Axes>"
            ]
          },
          "metadata": {
            "needs_background": "light"
          }
        }
      ]
    },
    {
      "cell_type": "markdown",
      "source": [
        "39. 単語の出現頻度順位を横軸，その出現頻度を縦軸として，両対数グラフをプロットせよ．"
      ],
      "metadata": {
        "id": "2Nr-2CGuuwDU"
      }
    },
    {
      "cell_type": "code",
      "source": [
        "ranks=range(1,len(freq)+1)\n",
        "values=[w[1] for w in freq]\n",
        "plt.figure(figsize=(10,5))\n",
        "plt.scatter(ranks,values)\n",
        "plt.xscale(\"log\")\n",
        "plt.yscale(\"log\")\n",
        "plt.xlabel(\"出現頻度順位\")\n",
        "plt.ylabel(\"出現頻度\")\n",
        "plt.show()"
      ],
      "metadata": {
        "colab": {
          "base_uri": "https://localhost:8080/",
          "height": 338
        },
        "id": "1l3itx_huzX1",
        "outputId": "a3787b2a-4cf1-419b-c99d-1c00162ee49a"
      },
      "execution_count": 51,
      "outputs": [
        {
          "output_type": "display_data",
          "data": {
            "image/png": "[encoded data removed]",
            "text/plain": [
              "<Figure size 720x360 with 1 Axes>"
            ]
          },
          "metadata": {
            "needs_background": "light"
          }
        }
      ]
    }
  ]
}