{
  "cells": [
    {
      "cell_type": "markdown",
      "metadata": {
        "id": "view-in-github",
        "colab_type": "text"
      },
      "source": [
        "<a href=\"https://colab.research.google.com/github/mot1122/NLP_100_knock/blob/main/chap9_rnn_cnn.ipynb\" target=\"_parent\"><img src=\"https://colab.research.google.com/assets/colab-badge.svg\" alt=\"Open In Colab\"/></a>"
      ]
    },
    {
      "cell_type": "markdown",
      "metadata": {
        "id": "m2vXf7vQMaj_"
      },
      "source": [
        "# 第9章: RNN, CNN\n",
        "### 80 ID番号への変換\n",
        ">>\n",
        "問題51で構築した学習データ中の単語にユニークなID番号を付与したい．学習データ中で最も頻出する単語に1，2番目に頻出する単語に2，……といった方法で，学習データ中で2回以上出現する単語にID番号を付与せよ．そして，与えられた単語列に対して，ID番号の列を返す関数を実装せよ．ただし，出現頻度が2回未満の単語のID番号はすべて0とせよ．"
      ]
    },
    {
      "cell_type": "code",
      "execution_count": 1,
      "metadata": {
        "id": "bNToo-ONDT-p",
        "colab": {
          "base_uri": "https://localhost:8080/"
        },
        "outputId": "32fb118e-e6ed-4e85-d924-97328fdc971a"
      },
      "outputs": [
        {
          "output_type": "stream",
          "name": "stdout",
          "text": [
            "--2022-01-28 15:42:20--  https://archive.ics.uci.edu/ml/machine-learning-databases/00359/NewsAggregatorDataset.zip\n",
            "Resolving archive.ics.uci.edu (archive.ics.uci.edu)... 128.195.10.252\n",
            "Connecting to archive.ics.uci.edu (archive.ics.uci.edu)|128.195.10.252|:443... connected.\n",
            "HTTP request sent, awaiting response... 200 OK\n",
            "Length: 29224203 (28M) [application/x-httpd-php]\n",
            "Saving to: ‘NewsAggregatorDataset.zip’\n",
            "\n",
            "NewsAggregatorDatas 100%[===================>]  27.87M  32.3MB/s    in 0.9s    \n",
            "\n",
            "2022-01-28 15:42:21 (32.3 MB/s) - ‘NewsAggregatorDataset.zip’ saved [29224203/29224203]\n",
            "\n",
            "Archive:  NewsAggregatorDataset.zip\n",
            "  inflating: 2pageSessions.csv       \n",
            "   creating: __MACOSX/\n",
            "  inflating: __MACOSX/._2pageSessions.csv  \n",
            "  inflating: newsCorpora.csv         \n",
            "  inflating: __MACOSX/._newsCorpora.csv  \n",
            "  inflating: readme.txt              \n",
            "  inflating: __MACOSX/._readme.txt   \n"
          ]
        }
      ],
      "source": [
        "!wget https://archive.ics.uci.edu/ml/machine-learning-databases/00359/NewsAggregatorDataset.zip\n",
        "!unzip NewsAggregatorDataset.zip"
      ]
    },
    {
      "cell_type": "code",
      "execution_count": 2,
      "metadata": {
        "id": "Ana1U1S4D1Sk"
      },
      "outputs": [],
      "source": [
        "!sed -e \"s/\"\\\"\"/'/g\" ./newsCorpora.csv > ./newsCorpora_re.csv"
      ]
    },
    {
      "cell_type": "code",
      "execution_count": 3,
      "metadata": {
        "id": "jic9-6sGEuR6"
      },
      "outputs": [],
      "source": [
        "import pandas as pd\n",
        "from sklearn.model_selection import train_test_split"
      ]
    },
    {
      "cell_type": "code",
      "execution_count": 4,
      "metadata": {
        "id": "VtpKMIUHFCeX"
      },
      "outputs": [],
      "source": [
        "df=pd.read_csv(\"./newsCorpora.csv\",header=None,sep=\"\\t\",names=['ID', 'TITLE', 'URL', 'PUBLISHER', 'CATEGORY', 'STORY', 'HOSTNAME', 'TIMESTAMP'])"
      ]
    },
    {
      "cell_type": "code",
      "execution_count": 5,
      "metadata": {
        "id": "2CBaRyU9FaJp"
      },
      "outputs": [],
      "source": [
        "df=df.loc[df[\"PUBLISHER\"].isin(['Reuters', 'Huffington Post', 'Businessweek', 'Contactmusic.com', 'Daily Mail']),[\"TITLE\",\"CATEGORY\"]]"
      ]
    },
    {
      "cell_type": "code",
      "execution_count": 6,
      "metadata": {
        "id": "2MftLmkKF0Iy"
      },
      "outputs": [],
      "source": [
        "train,valid_test=train_test_split(df,test_size=0.2,shuffle=True,stratify=df[\"CATEGORY\"],random_state=123)\n",
        "valid,test=train_test_split(valid_test,test_size=0.5,shuffle=True,stratify=valid_test[\"CATEGORY\"],random_state=123)"
      ]
    },
    {
      "cell_type": "code",
      "execution_count": 7,
      "metadata": {
        "id": "AVP-o3eoGfo9",
        "colab": {
          "base_uri": "https://localhost:8080/"
        },
        "outputId": "5ca3e0a3-ddfe-497f-b1c9-9dd64d75e797"
      },
      "outputs": [
        {
          "output_type": "stream",
          "name": "stdout",
          "text": [
            "train\n",
            "b    4502\n",
            "e    4223\n",
            "t    1219\n",
            "m     728\n",
            "Name: CATEGORY, dtype: int64\n",
            "\n",
            "valid\n",
            "b    562\n",
            "e    528\n",
            "t    153\n",
            "m     91\n",
            "Name: CATEGORY, dtype: int64\n",
            "\n",
            "test\n",
            "b    563\n",
            "e    528\n",
            "t    152\n",
            "m     91\n",
            "Name: CATEGORY, dtype: int64\n",
            "\n"
          ]
        }
      ],
      "source": [
        "print(f\"train\")\n",
        "print(train[\"CATEGORY\"].value_counts())\n",
        "print()\n",
        "print(f\"valid\")\n",
        "print(valid[\"CATEGORY\"].value_counts())\n",
        "print()\n",
        "print(f\"test\")\n",
        "print(test[\"CATEGORY\"].value_counts())\n",
        "print()"
      ]
    },
    {
      "cell_type": "code",
      "execution_count": 8,
      "metadata": {
        "id": "nLPvYnXDHDFu"
      },
      "outputs": [],
      "source": [
        "from collections import defaultdict\n",
        "import string"
      ]
    },
    {
      "cell_type": "code",
      "execution_count": 9,
      "metadata": {
        "id": "pWbTKbsynK8R",
        "colab": {
          "base_uri": "https://localhost:8080/"
        },
        "outputId": "8dd6071e-9128-4f22-ca2a-776d739da56f"
      },
      "outputs": [
        {
          "output_type": "stream",
          "name": "stdout",
          "text": [
            "top 10 words\n",
            "to: 1\n",
            "s: 2\n",
            "in: 3\n",
            "on: 4\n",
            "UPDATE: 5\n",
            "as: 6\n",
            "US: 7\n",
            "for: 8\n",
            "of: 9\n",
            "The: 10\n"
          ]
        }
      ],
      "source": [
        "dic=defaultdict(int)\n",
        "table=str.maketrans(string.punctuation,\" \"*len(string.punctuation))\n",
        "for text in train[\"TITLE\"]:\n",
        "  for word in text.translate(table).split():\n",
        "    dic[word]+=1\n",
        "dic=sorted(dic.items(),key=lambda t:t[1],reverse=True)\n",
        "word2id={word:i+1 for i,(word,cnt) in enumerate(dic) if cnt>1}\n",
        "print(\"top 10 words\")\n",
        "for word,id in list(word2id.items())[:10]:\n",
        "  print(f\"{word}: {id}\")"
      ]
    },
    {
      "cell_type": "code",
      "execution_count": 10,
      "metadata": {
        "id": "xigxmIjTkBKz",
        "colab": {
          "base_uri": "https://localhost:8080/"
        },
        "outputId": "07056d41-a256-4c2f-b32c-0cae0bfacbcf"
      },
      "outputs": [
        {
          "output_type": "stream",
          "name": "stdout",
          "text": [
            "['Fitch Lowers South Africa Credit-Rating Outlook to Negative']\n"
          ]
        }
      ],
      "source": [
        "print(train[\"TITLE\"].values[:1])"
      ]
    },
    {
      "cell_type": "code",
      "execution_count": 11,
      "metadata": {
        "id": "wV3-RfkIndqI"
      },
      "outputs": [],
      "source": [
        "def tokenizer(text,word2id=word2id):\n",
        "  table=str.maketrans(string.punctuation,\" \"*len(string.punctuation))\n",
        "  return [word2id.get(word,0) for word in text.translate(table).split()]"
      ]
    },
    {
      "cell_type": "code",
      "execution_count": 12,
      "metadata": {
        "id": "40k1B_Cet1rY",
        "colab": {
          "base_uri": "https://localhost:8080/"
        },
        "outputId": "808b472c-c12b-4958-8035-8f47a0779e67"
      },
      "outputs": [
        {
          "output_type": "stream",
          "name": "stdout",
          "text": [
            "text:Fitch Lowers South Africa Credit-Rating Outlook to Negative\n",
            "ids:[190, 5180, 445, 553, 298, 2645, 221, 1, 1333]\n"
          ]
        }
      ],
      "source": [
        "text=train.iloc[0,train.columns.get_loc(\"TITLE\")]\n",
        "print(f\"text:{text}\")\n",
        "print(f\"ids:{tokenizer(text,word2id)}\")"
      ]
    },
    {
      "cell_type": "markdown",
      "metadata": {
        "id": "G2S_pqc4vrFY"
      },
      "source": [
        "### 81 RNNによる予測\n",
        "\n",
        "ID番号で表現された単語列$x=(x_1,x_2,…,x_T)$がある．ただし，$T$は単語列の長さ，$x_t∈ℝ^Vx_t∈R^V$は単語のID番号のone-hot表記である（$V$は単語の総数である）．再帰型ニューラルネットワーク（RNN: Recurrent Neural Network）を用い，単語列\\{boldmath}$x$からカテゴリ$y$を予測するモデルとして，次式を実装せよ．\n",
        "$$\n",
        "\\vec{h_0}=0,\n",
        "$$\n",
        "$$\n",
        "\\vec{h_t}=\\vec{RNN}(emb(x_t),\\vec{h_{t−1}}),\n",
        "$$\n",
        "$$\n",
        "y=softmax(W^{yh}\\vec{h_T}+b^{y}))\n",
        "$$"
      ]
    },
    {
      "cell_type": "code",
      "execution_count": 13,
      "metadata": {
        "id": "t9eNBXMh2qRm"
      },
      "outputs": [],
      "source": [
        "import torch \n",
        "from torch import nn"
      ]
    },
    {
      "cell_type": "code",
      "execution_count": 14,
      "metadata": {
        "id": "TBsHsjbl2vvM"
      },
      "outputs": [],
      "source": [
        "class RNN(nn.Module):\n",
        "  def __init__(self,vocab_size,emb_size,padding_idx,output_size,hidden_size,device=None):\n",
        "    super().__init__()\n",
        "    self.hidden_size=hidden_size\n",
        "    self.emb=nn.Embedding(vocab_size,emb_size,padding_idx=padding_idx)\n",
        "    self.rnn=nn.RNN(emb_size,hidden_size,nonlinearity=\"tanh\",batch_first=True)\n",
        "    self.fc=nn.Linear(hidden_size,output_size)\n",
        "    self.device=device\n",
        "  def forward(self,x):\n",
        "    self.batch_size=x.size()[0]\n",
        "    hidden=self.init_hidden()\n",
        "    emb=self.emb(x)\n",
        "    out,hidden=self.rnn(emb,hidden)\n",
        "    out=self.fc(out[:,-1,:])\n",
        "    return out\n",
        "  def init_hidden(self):\n",
        "    hidden=torch.zeros(1,self.batch_size,self.hidden_size).to(self.device)\n",
        "    return hidden"
      ]
    },
    {
      "cell_type": "code",
      "execution_count": 15,
      "metadata": {
        "id": "egWUMDtw9qdV"
      },
      "outputs": [],
      "source": [
        "from torch.utils.data import Dataset"
      ]
    },
    {
      "cell_type": "code",
      "execution_count": 16,
      "metadata": {
        "id": "FMyxCbUM7zXf"
      },
      "outputs": [],
      "source": [
        "class CreateDataset(Dataset):\n",
        "  def __init__(self,X,y,tokenizer):\n",
        "    self.X=X\n",
        "    self.y=y\n",
        "    self.tokenizer=tokenizer\n",
        "  def __len__(self):\n",
        "    return len(self.y)\n",
        "  def __getitem__(self,index):\n",
        "    text=self.X[index]\n",
        "    inputs=self.tokenizer(text)\n",
        "    return {\"inputs\":torch.tensor(inputs,dtype=torch.int64), \"labels\":torch.tensor(self.y[index],dtype=torch.int64)}"
      ]
    },
    {
      "cell_type": "code",
      "execution_count": 17,
      "metadata": {
        "id": "wgFaD6kZ7kiu"
      },
      "outputs": [],
      "source": [
        "category_dic={'b': 0, 't': 1, 'e':2, 'm':3}\n",
        "X_train,X_valid,X_test=train[\"TITLE\"].values,valid[\"TITLE\"].values,test[\"TITLE\"].values\n",
        "y_train=train[\"CATEGORY\"].map(lambda t:category_dic[t]).values\n",
        "y_valid=valid[\"CATEGORY\"].map(lambda t:category_dic[t]).values\n",
        "y_test=test[\"CATEGORY\"].map(lambda t:category_dic[t]).values\n",
        "dataset_train=CreateDataset(X_train,y_train,tokenizer)\n",
        "dataset_valid=CreateDataset(X_valid,y_valid,tokenizer)\n",
        "dataset_test=CreateDataset(X_test,y_test,tokenizer)"
      ]
    },
    {
      "cell_type": "code",
      "execution_count": 18,
      "metadata": {
        "id": "ktybJYxJBaxe",
        "colab": {
          "base_uri": "https://localhost:8080/"
        },
        "outputId": "836f1dfe-60e2-4423-c367-8363233651d5"
      },
      "outputs": [
        {
          "output_type": "stream",
          "name": "stdout",
          "text": [
            "len(dataset_train):10672\n",
            "dataset_train[1]:{'inputs': tensor([  55,   59,  161,    4,    7,  234, 3530,   26,   97,  429]), 'labels': tensor(0)}\n"
          ]
        }
      ],
      "source": [
        "print(f\"len(dataset_train):{len(dataset_train)}\")\n",
        "print(f\"dataset_train[1]:{dataset_train[1]}\")"
      ]
    },
    {
      "cell_type": "code",
      "execution_count": 19,
      "metadata": {
        "id": "Q3W-QJXTpc-m",
        "colab": {
          "base_uri": "https://localhost:8080/"
        },
        "outputId": "258a9f72-9849-4d11-e990-3bdc5c250aa1"
      },
      "outputs": [
        {
          "output_type": "stream",
          "name": "stdout",
          "text": [
            "tensor([[0.2332, 0.2533, 0.2739, 0.2396]], grad_fn=<SoftmaxBackward0>)\n",
            "tensor([[0.1922, 0.2868, 0.2400, 0.2809]], grad_fn=<SoftmaxBackward0>)\n",
            "tensor([[0.1673, 0.3651, 0.1891, 0.2785]], grad_fn=<SoftmaxBackward0>)\n"
          ]
        }
      ],
      "source": [
        "vocab_size=len(set(word2id.values()))+1\n",
        "emb_size=300\n",
        "padding_idx=len(set(word2id.values()))\n",
        "output_size=4\n",
        "hidden_size=200\n",
        "model=RNN(vocab_size,emb_size,padding_idx,output_size,hidden_size)\n",
        "for i in range(3):\n",
        "  X=dataset_train[i][\"inputs\"]\n",
        "  print(torch.softmax(model(X.unsqueeze(0)),dim=-1))"
      ]
    },
    {
      "cell_type": "markdown",
      "metadata": {
        "id": "CqYSz2ljqs9A"
      },
      "source": [
        "### 82 確率的勾配降下法による学習\n",
        ">>\n",
        "確率的勾配降下法（SGD: Stochastic Gradient Descent）を用いて，問題81で構築したモデルを学習せよ．訓練データ上の損失と正解率，評価データ上の損失と正解率を表示しながらモデルを学習し，適当な基準（例えば10エポックなど）で終了させよ．"
      ]
    },
    {
      "cell_type": "code",
      "execution_count": 20,
      "metadata": {
        "id": "wB4c8aV8uU5d"
      },
      "outputs": [],
      "source": [
        "from torch.utils.data import DataLoader\n",
        "import time"
      ]
    },
    {
      "cell_type": "code",
      "execution_count": 21,
      "metadata": {
        "id": "Y1Zl8-wBsuD3"
      },
      "outputs": [],
      "source": [
        "def calculate_loss_and_accuracy(model,dataset,device=None,criterion=None):\n",
        "  dataloader=DataLoader(dataset,batch_size=1,shuffle=False)\n",
        "  loss,total,correct=0.0,0,0\n",
        "  with torch.no_grad():\n",
        "    for data in dataloader:\n",
        "      inputs=data[\"inputs\"].to(device)\n",
        "      labels=data[\"labels\"].to(device)\n",
        "      outputs=model(inputs)\n",
        "      if criterion!=None:loss+=criterion(outputs,labels).item()\n",
        "      pred=torch.argmax(outputs,dim=-1)\n",
        "      total+=len(inputs)\n",
        "      correct+=(pred==labels).sum().item()\n",
        "  return loss/len(dataset),correct/total"
      ]
    },
    {
      "cell_type": "code",
      "execution_count": 22,
      "metadata": {
        "id": "gJH_ppN-uad3"
      },
      "outputs": [],
      "source": [
        "def train_model(dataset_train,dataset_valid,batch_size,model,criterion,optimizer,epochs,collate_fn=None,device=None):\n",
        "  model.to(device)\n",
        "  dataloader_train=DataLoader(dataset_train,batch_size=batch_size,shuffle=True,collate_fn=collate_fn)\n",
        "  dataloader_valid=DataLoader(dataset_valid,batch_size=batch_size,shuffle=False)\n",
        "  scheduler=torch.optim.lr_scheduler.CosineAnnealingLR(optimizer,epochs,eta_min=1e-5,last_epoch=-1)\n",
        "  log_train,log_valid=[],[]\n",
        "  for epoch in range(1,epochs+1):\n",
        "    s_time=time.time()\n",
        "    model.train()\n",
        "    for data in dataloader_train:\n",
        "      optimizer.zero_grad()\n",
        "      inputs,labels=data[\"inputs\"].to(device),data[\"labels\"].to(device)\n",
        "      outputs=model(inputs)\n",
        "      loss=criterion(outputs,labels)\n",
        "      loss.backward()\n",
        "      optimizer.step()\n",
        "    model.eval()\n",
        "    train_loss,train_acc=calculate_loss_and_accuracy(model,dataset_train,device,criterion=criterion)\n",
        "    valid_loss,valid_acc=calculate_loss_and_accuracy(model,dataset_valid,device,criterion=criterion)\n",
        "    log_train.append([train_loss,train_acc])\n",
        "    log_valid.append([valid_loss,valid_acc])\n",
        "    torch.save({\"epoch\":epoch,\"model_state_dict\":model.state_dict(),\"optimizer_state_dict\":optimizer.state_dict()},f\"f'checkpoint{epoch}.pt\")\n",
        "    e_time=time.time()\n",
        "    print(f\"epoch:{epoch},loss_train: {train_loss:.4f}, accuracy_train: {train_acc:.4f}, loss_valid: {valid_loss:.4f}, accuracy_valid: {valid_acc:.4f}, {(e_time - s_time):.4f}sec\")\n",
        "    if epoch>=3 and log_valid[epoch-3][0]<=log_valid[epoch-2][0]<=log_valid[epoch-1][0]:break\n",
        "    scheduler.step()\n",
        "  return {\"train\":log_train,\"valid\":log_valid}"
      ]
    },
    {
      "cell_type": "code",
      "execution_count": 23,
      "metadata": {
        "id": "M5mWAhJk2mH1"
      },
      "outputs": [],
      "source": [
        "from matplotlib import pyplot as plt\n",
        "import numpy as np"
      ]
    },
    {
      "cell_type": "code",
      "execution_count": 24,
      "metadata": {
        "id": "aKLXWAOSyCL6"
      },
      "outputs": [],
      "source": [
        "def visualize_logs(log):\n",
        "  fig,ax=plt.subplots(1,2,figsize=(15,5))\n",
        "  ax[0].plot(np.array(log[\"train\"]).T[0],label=\"train\")\n",
        "  ax[0].plot(np.array(log[\"valid\"]).T[0],label=\"valid\")\n",
        "  ax[0].legend()\n",
        "  ax[0].set_xlabel(\"epoch\")\n",
        "  ax[0].set_ylabel(\"loss\")\n",
        "  ax[1].plot(np.array(log[\"train\"]).T[1],label=\"train\")\n",
        "  ax[1].plot(np.array(log[\"valid\"]).T[1],label=\"valid\")\n",
        "  ax[1].legend()\n",
        "  ax[1].set_xlabel(\"epoch\")\n",
        "  ax[1].set_ylabel(\"accuracy\")\n",
        "  plt.show()"
      ]
    },
    {
      "cell_type": "code",
      "execution_count": 25,
      "metadata": {
        "id": "rLsgTzsw3zbt",
        "colab": {
          "base_uri": "https://localhost:8080/"
        },
        "outputId": "e356438a-7af6-435a-c052-d948fe05160a"
      },
      "outputs": [
        {
          "output_type": "stream",
          "name": "stdout",
          "text": [
            "epoch:1,loss_train: 1.1577, accuracy_train: 0.4591, loss_valid: 1.1664, accuracy_valid: 0.4340, 86.7288sec\n",
            "epoch:2,loss_train: 1.1443, accuracy_train: 0.4714, loss_valid: 1.1590, accuracy_valid: 0.4520, 91.3135sec\n",
            "epoch:3,loss_train: 1.1368, accuracy_train: 0.4819, loss_valid: 1.1559, accuracy_valid: 0.4475, 90.6202sec\n",
            "epoch:4,loss_train: 1.1295, accuracy_train: 0.4986, loss_valid: 1.1529, accuracy_valid: 0.4618, 83.8859sec\n",
            "epoch:5,loss_train: 1.1225, accuracy_train: 0.5029, loss_valid: 1.1503, accuracy_valid: 0.4573, 89.8403sec\n",
            "epoch:6,loss_train: 1.1167, accuracy_train: 0.5097, loss_valid: 1.1494, accuracy_valid: 0.4723, 74.8949sec\n",
            "epoch:7,loss_train: 1.1122, accuracy_train: 0.5150, loss_valid: 1.1475, accuracy_valid: 0.4738, 75.1822sec\n",
            "epoch:8,loss_train: 1.1094, accuracy_train: 0.5195, loss_valid: 1.1466, accuracy_valid: 0.4760, 77.6110sec\n",
            "epoch:9,loss_train: 1.1080, accuracy_train: 0.5217, loss_valid: 1.1462, accuracy_valid: 0.4790, 78.9216sec\n",
            "epoch:10,loss_train: 1.1075, accuracy_train: 0.5224, loss_valid: 1.1460, accuracy_valid: 0.4790, 77.9529sec\n"
          ]
        }
      ],
      "source": [
        "vacab_size=len(set(word2id.keys()))+1\n",
        "emb_size=300\n",
        "padding_idx=len(set(word2id.keys()))\n",
        "output_size=4\n",
        "hidden_size=10\n",
        "lr=1e-3\n",
        "batch_size=1\n",
        "epochs=10\n",
        "model=RNN(vacab_size,emb_size,padding_idx,output_size,hidden_size)\n",
        "criterion=nn.CrossEntropyLoss()\n",
        "optimizer=torch.optim.SGD(model.parameters(),lr=lr)\n",
        "log=train_model(dataset_train,dataset_valid,batch_size,model,criterion,optimizer,epochs)"
      ]
    },
    {
      "cell_type": "code",
      "execution_count": 26,
      "metadata": {
        "id": "KamXIfe156C1",
        "colab": {
          "base_uri": "https://localhost:8080/",
          "height": 334
        },
        "outputId": "35a90859-a9ea-4ca2-fd52-d2ba3c41315c"
      },
      "outputs": [
        {
          "output_type": "display_data",
          "data": {
            "image/png": "[encoded data removed]",
            "text/plain": [
              "<Figure size 1080x360 with 2 Axes>"
            ]
          },
          "metadata": {
            "needs_background": "light"
          }
        }
      ],
      "source": [
        "visualize_logs(log)"
      ]
    },
    {
      "cell_type": "code",
      "execution_count": 27,
      "metadata": {
        "id": "F_ws3pM192r8",
        "colab": {
          "base_uri": "https://localhost:8080/"
        },
        "outputId": "86746ef0-cb6c-4192-8328-fbff0330aa2e"
      },
      "outputs": [
        {
          "output_type": "stream",
          "name": "stdout",
          "text": [
            "train：0.522\n",
            "valid：0.473\n"
          ]
        }
      ],
      "source": [
        "_, acc_train = calculate_loss_and_accuracy(model, dataset_train)\n",
        "_, acc_test = calculate_loss_and_accuracy(model, dataset_test)\n",
        "print(f'train：{acc_train:.3f}')\n",
        "print(f'valid：{acc_test:.3f}')"
      ]
    },
    {
      "cell_type": "markdown",
      "source": [
        "### 83 ミニバッチ化・GPU上での学習\n",
        ">>\n",
        "問題82のコードを改変し，BB事例ごとに損失・勾配を計算して学習を行えるようにせよ（BBの値は適当に選べ）．また，GPU上で学習を実行せよ"
      ],
      "metadata": {
        "id": "lnOsqtrZPWkT"
      }
    },
    {
      "cell_type": "code",
      "source": [
        "class Padsequence():\n",
        "  def __init__(self, padding_idx):\n",
        "    self.padding_idx = padding_idx\n",
        "  def __call__(self, batch):\n",
        "    sorted_batch = sorted(batch, key=lambda x: x['inputs'].shape[0], reverse=True)\n",
        "    sequences = [x['inputs'] for x in sorted_batch]\n",
        "    sequences_padded = torch.nn.utils.rnn.pad_sequence(sequences, batch_first=True, padding_value=self.padding_idx)\n",
        "    labels = torch.LongTensor([x['labels'] for x in sorted_batch])\n",
        "    return {'inputs': sequences_padded, 'labels': labels}"
      ],
      "metadata": {
        "id": "Gfz0HwfxPjG9"
      },
      "execution_count": 28,
      "outputs": []
    },
    {
      "cell_type": "code",
      "source": [
        "VOCAB_SIZE = len(set(word2id.values())) + 1\n",
        "EMB_SIZE = 300\n",
        "PADDING_IDX = len(set(word2id.values()))\n",
        "OUTPUT_SIZE = 4\n",
        "HIDDEN_SIZE = 50\n",
        "LEARNING_RATE = 5e-2\n",
        "BATCH_SIZE = 32\n",
        "NUM_EPOCHS = 10\n",
        "device = torch.device('cuda')\n",
        "\n",
        "model = RNN(VOCAB_SIZE, EMB_SIZE, PADDING_IDX, OUTPUT_SIZE, HIDDEN_SIZE,device=device)\n",
        "criterion = nn.CrossEntropyLoss()\n",
        "optimizer = torch.optim.SGD(model.parameters(), lr=LEARNING_RATE)\n",
        "log = train_model(dataset_train, dataset_valid, BATCH_SIZE, model, criterion, optimizer, NUM_EPOCHS, collate_fn=Padsequence(PADDING_IDX), device=device)"
      ],
      "metadata": {
        "id": "reGftRYZQVZW",
        "colab": {
          "base_uri": "https://localhost:8080/"
        },
        "outputId": "5def63de-a0cf-4c07-d542-127233a8b1e1"
      },
      "execution_count": 29,
      "outputs": [
        {
          "output_type": "stream",
          "name": "stdout",
          "text": [
            "epoch:1,loss_train: 1.2524, accuracy_train: 0.4003, loss_valid: 1.2609, accuracy_valid: 0.3861, 12.8522sec\n",
            "epoch:2,loss_train: 1.2433, accuracy_train: 0.4208, loss_valid: 1.2640, accuracy_valid: 0.4025, 12.2500sec\n",
            "epoch:3,loss_train: 1.1707, accuracy_train: 0.4966, loss_valid: 1.1998, accuracy_valid: 0.4685, 12.4299sec\n",
            "epoch:4,loss_train: 1.0853, accuracy_train: 0.5740, loss_valid: 1.1407, accuracy_valid: 0.5487, 12.7245sec\n",
            "epoch:5,loss_train: 1.0064, accuracy_train: 0.6344, loss_valid: 1.0666, accuracy_valid: 0.5960, 12.8701sec\n",
            "epoch:6,loss_train: 0.9666, accuracy_train: 0.6571, loss_valid: 1.0579, accuracy_valid: 0.5982, 12.2530sec\n",
            "epoch:7,loss_train: 0.8608, accuracy_train: 0.7188, loss_valid: 0.9421, accuracy_valid: 0.6694, 12.1858sec\n",
            "epoch:8,loss_train: 0.8087, accuracy_train: 0.7435, loss_valid: 0.9068, accuracy_valid: 0.6859, 12.4051sec\n",
            "epoch:9,loss_train: 0.8194, accuracy_train: 0.7290, loss_valid: 0.9345, accuracy_valid: 0.6597, 12.3782sec\n",
            "epoch:10,loss_train: 0.7948, accuracy_train: 0.7406, loss_valid: 0.9096, accuracy_valid: 0.6762, 12.4454sec\n"
          ]
        }
      ]
    },
    {
      "cell_type": "code",
      "source": [
        "visualize_logs(log)\n",
        "_, acc_train = calculate_loss_and_accuracy(model, dataset_train, device)\n",
        "_, acc_test = calculate_loss_and_accuracy(model, dataset_test, device)\n",
        "print(f'train：{acc_train:.3f}')\n",
        "print(f'valid：{acc_test:.3f}')"
      ],
      "metadata": {
        "id": "YsUNHsCwQVpK",
        "colab": {
          "base_uri": "https://localhost:8080/",
          "height": 369
        },
        "outputId": "e1dd3752-9ad6-478a-e2bc-20a9b7f954ff"
      },
      "execution_count": 30,
      "outputs": [
        {
          "output_type": "display_data",
          "data": {
            "image/png": "[encoded data removed]",
            "text/plain": [
              "<Figure size 1080x360 with 2 Axes>"
            ]
          },
          "metadata": {
            "needs_background": "light"
          }
        },
        {
          "output_type": "stream",
          "name": "stdout",
          "text": [
            "train：0.741\n",
            "valid：0.700\n"
          ]
        }
      ]
    },
    {
      "cell_type": "markdown",
      "source": [
        "### 84 単語ベクトルの導入\n",
        ">>\n",
        "事前学習済みの単語ベクトル（例えば，Google Newsデータセット（約1,000億単語）での学習済み単語ベクトル）で単語埋め込みemb(x)emb(x)を初期化し，学習せよ．"
      ],
      "metadata": {
        "id": "TX1epe-9U52O"
      }
    },
    {
      "cell_type": "code",
      "source": [
        "!wget \"https://s3.amazonaws.com/dl4j-distribution/GoogleNews-vectors-negative300.bin.gz\""
      ],
      "metadata": {
        "id": "H_D6Tk7BVAVq",
        "colab": {
          "base_uri": "https://localhost:8080/"
        },
        "outputId": "c3936f62-d199-4ab9-8e31-483de0e978be"
      },
      "execution_count": 31,
      "outputs": [
        {
          "output_type": "stream",
          "name": "stdout",
          "text": [
            "--2022-01-28 15:58:52--  https://s3.amazonaws.com/dl4j-distribution/GoogleNews-vectors-negative300.bin.gz\n",
            "Resolving s3.amazonaws.com (s3.amazonaws.com)... 52.216.80.155\n",
            "Connecting to s3.amazonaws.com (s3.amazonaws.com)|52.216.80.155|:443... connected.\n",
            "HTTP request sent, awaiting response... 200 OK\n",
            "Length: 1647046227 (1.5G) [application/x-gzip]\n",
            "Saving to: ‘GoogleNews-vectors-negative300.bin.gz’\n",
            "\n",
            "GoogleNews-vectors- 100%[===================>]   1.53G  57.2MB/s    in 27s     \n",
            "\n",
            "2022-01-28 15:59:19 (58.3 MB/s) - ‘GoogleNews-vectors-negative300.bin.gz’ saved [1647046227/1647046227]\n",
            "\n"
          ]
        }
      ]
    },
    {
      "cell_type": "code",
      "source": [
        "from gensim.models import KeyedVectors\n",
        "\n",
        "model = KeyedVectors.load_word2vec_format('./GoogleNews-vectors-negative300.bin.gz', binary=True)\n",
        "\n",
        "VOCAB_SIZE = len(set(word2id.values())) + 1\n",
        "EMB_SIZE = 300\n",
        "weights = np.zeros((VOCAB_SIZE, EMB_SIZE))\n",
        "words_in_pretrained = 0\n",
        "for i, word in enumerate(word2id.keys()):\n",
        "  try:\n",
        "    weights[i] = model[word]\n",
        "    words_in_pretrained += 1\n",
        "  except KeyError:\n",
        "    weights[i] = np.random.normal(scale=0.4, size=(EMB_SIZE,))\n",
        "weights = torch.from_numpy(weights.astype((np.float32)))\n",
        "\n",
        "print(f'pretrained/vocabrary: {words_in_pretrained} / {VOCAB_SIZE}')\n",
        "print(weights.size())"
      ],
      "metadata": {
        "id": "ZDS3EiN-VkAy",
        "colab": {
          "base_uri": "https://localhost:8080/"
        },
        "outputId": "9a2722d7-8d4b-4f98-85b8-c1d4278c7e8a"
      },
      "execution_count": 32,
      "outputs": [
        {
          "output_type": "stream",
          "name": "stdout",
          "text": [
            "pretrained/vocabrary: 9147 / 9378\n",
            "torch.Size([9378, 300])\n"
          ]
        }
      ]
    },
    {
      "cell_type": "code",
      "source": [
        "class RNN(nn.Module):\n",
        "  def __init__(self, vocab_size, emb_size, padding_idx, output_size, hidden_size, num_layers, emb_weights=None, bidirectional=False, device=None):\n",
        "    super().__init__()\n",
        "    self.hidden_size = hidden_size\n",
        "    self.num_layers = num_layers\n",
        "    self.num_directions = bidirectional + 1  \n",
        "    if emb_weights != None:  \n",
        "      self.emb = nn.Embedding.from_pretrained(emb_weights, padding_idx=padding_idx)\n",
        "    else:\n",
        "      self.emb = nn.Embedding(vocab_size, emb_size, padding_idx=padding_idx)\n",
        "    self.rnn = nn.RNN(emb_size, hidden_size, num_layers, nonlinearity='tanh', bidirectional=bidirectional, batch_first=True)\n",
        "    self.fc = nn.Linear(hidden_size * self.num_directions, output_size)\n",
        "    self.device=device\n",
        "\n",
        "  def forward(self, x):\n",
        "    self.batch_size = x.size()[0]\n",
        "    hidden = self.init_hidden()  \n",
        "    emb = self.emb(x)\n",
        "    out, hidden = self.rnn(emb, hidden)\n",
        "    out = self.fc(out[:, -1, :])\n",
        "    return out\n",
        "\n",
        "  def init_hidden(self):\n",
        "    hidden = torch.zeros(self.num_layers * self.num_directions, self.batch_size, self.hidden_size).to(self.device)\n",
        "    return hidden"
      ],
      "metadata": {
        "id": "QtU57DzsVyuG"
      },
      "execution_count": 33,
      "outputs": []
    },
    {
      "cell_type": "code",
      "source": [
        "VOCAB_SIZE = len(set(word2id.values())) + 1\n",
        "EMB_SIZE = 300\n",
        "PADDING_IDX = len(set(word2id.values()))\n",
        "OUTPUT_SIZE = 4\n",
        "HIDDEN_SIZE = 50\n",
        "NUM_LAYERS = 1\n",
        "LEARNING_RATE = 5e-2\n",
        "BATCH_SIZE = 32\n",
        "NUM_EPOCHS = 10\n",
        "device = torch.device('cuda')\n",
        "\n",
        "model = RNN(VOCAB_SIZE, EMB_SIZE, PADDING_IDX, OUTPUT_SIZE, HIDDEN_SIZE, NUM_LAYERS, emb_weights=weights,device=device)\n",
        "criterion = nn.CrossEntropyLoss()\n",
        "optimizer = torch.optim.SGD(model.parameters(), lr=LEARNING_RATE)\n",
        "log = train_model(dataset_train, dataset_valid, BATCH_SIZE, model, criterion, optimizer, NUM_EPOCHS, collate_fn=Padsequence(PADDING_IDX), device=device)"
      ],
      "metadata": {
        "id": "LyZwbod0WIxM",
        "colab": {
          "base_uri": "https://localhost:8080/"
        },
        "outputId": "732fada4-05ae-4ac4-91f3-8cf813a66da6"
      },
      "execution_count": 34,
      "outputs": [
        {
          "output_type": "stream",
          "name": "stdout",
          "text": [
            "epoch:1,loss_train: 1.1871, accuracy_train: 0.4204, loss_valid: 1.2051, accuracy_valid: 0.4250, 13.5624sec\n",
            "epoch:2,loss_train: 1.1149, accuracy_train: 0.5360, loss_valid: 1.1483, accuracy_valid: 0.5225, 12.8562sec\n",
            "epoch:3,loss_train: 1.0372, accuracy_train: 0.6135, loss_valid: 1.0784, accuracy_valid: 0.5847, 12.8709sec\n",
            "epoch:4,loss_train: 1.0755, accuracy_train: 0.5907, loss_valid: 1.1175, accuracy_valid: 0.5682, 12.8358sec\n",
            "epoch:5,loss_train: 1.1650, accuracy_train: 0.5612, loss_valid: 1.2067, accuracy_valid: 0.5397, 12.8243sec\n"
          ]
        }
      ]
    },
    {
      "cell_type": "code",
      "source": [
        "visualize_logs(log)\n",
        "\n",
        "_, acc_train = calculate_loss_and_accuracy(model, dataset_train, device)\n",
        "_, acc_test = calculate_loss_and_accuracy(model, dataset_test, device)\n",
        "print(f'train acc：{acc_train:.3f}')\n",
        "print(f'valid acc：{acc_test:.3f}')"
      ],
      "metadata": {
        "id": "UIsBzZefWnCH",
        "colab": {
          "base_uri": "https://localhost:8080/",
          "height": 369
        },
        "outputId": "467baafb-6a85-4f88-b555-54ef17baa1b8"
      },
      "execution_count": 36,
      "outputs": [
        {
          "output_type": "display_data",
          "data": {
            "image/png": "[encoded data removed]",
            "text/plain": [
              "<Figure size 1080x360 with 2 Axes>"
            ]
          },
          "metadata": {
            "needs_background": "light"
          }
        },
        {
          "output_type": "stream",
          "name": "stdout",
          "text": [
            "train acc：0.561\n",
            "valid acc：0.555\n"
          ]
        }
      ]
    },
    {
      "cell_type": "markdown",
      "source": [
        "### 85 双方向RNN・多層化\n",
        ">>\n",
        "順方向と逆方向のRNNの両方を用いて入力テキストをエンコードし，モデルを学習せよ．"
      ],
      "metadata": {
        "id": "HWYwsR8XW91e"
      }
    },
    {
      "cell_type": "code",
      "source": [
        "VOCAB_SIZE = len(set(word2id.values())) + 1\n",
        "EMB_SIZE = 300\n",
        "PADDING_IDX = len(set(word2id.values()))\n",
        "OUTPUT_SIZE = 4\n",
        "HIDDEN_SIZE = 50\n",
        "NUM_LAYERS = 2\n",
        "LEARNING_RATE = 5e-2\n",
        "BATCH_SIZE = 32\n",
        "NUM_EPOCHS = 10\n",
        "device = torch.device('cuda')\n",
        "\n",
        "model = RNN(VOCAB_SIZE, EMB_SIZE, PADDING_IDX, OUTPUT_SIZE, HIDDEN_SIZE, NUM_LAYERS, emb_weights=weights, bidirectional=True, device=device)\n",
        "criterion = nn.CrossEntropyLoss()\n",
        "optimizer = torch.optim.SGD(model.parameters(), lr=LEARNING_RATE)\n",
        "log = train_model(dataset_train, dataset_valid, BATCH_SIZE, model, criterion, optimizer, NUM_EPOCHS, collate_fn=Padsequence(PADDING_IDX), device=device)"
      ],
      "metadata": {
        "id": "_XliZ_fGXQfU",
        "colab": {
          "base_uri": "https://localhost:8080/"
        },
        "outputId": "0d26e526-b387-426b-d154-ff0673db8bc2"
      },
      "execution_count": 37,
      "outputs": [
        {
          "output_type": "stream",
          "name": "stdout",
          "text": [
            "epoch:1,loss_train: 1.1421, accuracy_train: 0.4827, loss_valid: 1.1479, accuracy_valid: 0.4820, 26.8233sec\n",
            "epoch:2,loss_train: 1.0972, accuracy_train: 0.5672, loss_valid: 1.1107, accuracy_valid: 0.5465, 26.8103sec\n",
            "epoch:3,loss_train: 1.0304, accuracy_train: 0.6012, loss_valid: 1.0354, accuracy_valid: 0.5937, 26.8933sec\n",
            "epoch:4,loss_train: 1.0466, accuracy_train: 0.5938, loss_valid: 1.0871, accuracy_valid: 0.5667, 27.0402sec\n",
            "epoch:5,loss_train: 1.0117, accuracy_train: 0.6124, loss_valid: 1.0502, accuracy_valid: 0.5877, 26.8881sec\n",
            "epoch:6,loss_train: 1.0178, accuracy_train: 0.6102, loss_valid: 1.0511, accuracy_valid: 0.5832, 26.9750sec\n",
            "epoch:7,loss_train: 0.9960, accuracy_train: 0.6246, loss_valid: 1.0538, accuracy_valid: 0.5907, 26.9150sec\n"
          ]
        }
      ]
    },
    {
      "cell_type": "code",
      "source": [
        "visualize_logs(log)\n",
        "\n",
        "_, acc_train = calculate_loss_and_accuracy(model, dataset_train, device)\n",
        "_, acc_test = calculate_loss_and_accuracy(model, dataset_test, device)\n",
        "print(f'train acc：{acc_train:.3f}')\n",
        "print(f'test acc：{acc_test:.3f}')"
      ],
      "metadata": {
        "id": "n157Xr-TXSuC",
        "colab": {
          "base_uri": "https://localhost:8080/",
          "height": 369
        },
        "outputId": "e4692edb-2fe4-45c9-942f-7ffe2dbc1ca8"
      },
      "execution_count": 38,
      "outputs": [
        {
          "output_type": "display_data",
          "data": {
            "image/png": "[encoded data removed]",
            "text/plain": [
              "<Figure size 1080x360 with 2 Axes>"
            ]
          },
          "metadata": {
            "needs_background": "light"
          }
        },
        {
          "output_type": "stream",
          "name": "stdout",
          "text": [
            "train acc：0.625\n",
            "test acc：0.608\n"
          ]
        }
      ]
    },
    {
      "cell_type": "markdown",
      "source": [
        "### 86 畳み込みニューラルネットワーク (CNN)\n",
        ">>\n",
        "ID番号で表現された単語列$x=(x1,x2,…,xT)$がある．ただし，$T$は単語列の長さ，$x_t∈ℝ^V$は単語のID番号のone-hot表記である（$V$は単語の総数である）．畳み込みニューラルネットワーク（CNN: Convolutional Neural Network）を用い，単語列$\\vec{x}$からカテゴリ$y$を予測するモデルを実装せよ．"
      ],
      "metadata": {
        "id": "H_-3ZxU2YCGj"
      }
    },
    {
      "cell_type": "code",
      "source": [
        "from torch.nn import functional as F\n",
        "\n",
        "class CNN(nn.Module):\n",
        "  def __init__(self, vocab_size, emb_size, padding_idx, output_size, out_channels, kernel_heights, stride, padding, emb_weights=None):\n",
        "    super().__init__()\n",
        "    if emb_weights != None: \n",
        "      self.emb = nn.Embedding.from_pretrained(emb_weights, padding_idx=padding_idx)\n",
        "    else:\n",
        "      self.emb = nn.Embedding(vocab_size, emb_size, padding_idx=padding_idx)\n",
        "    self.conv = nn.Conv2d(1, out_channels, (kernel_heights, emb_size), stride, (padding, 0))\n",
        "    self.drop = nn.Dropout(0.3)\n",
        "    self.fc = nn.Linear(out_channels, output_size)\n",
        "\n",
        "  def forward(self, x):\n",
        "    emb = self.emb(x).unsqueeze(1)\n",
        "    conv = self.conv(emb)\n",
        "    act = F.relu(conv.squeeze(3))\n",
        "    max_pool = F.max_pool1d(act, act.size()[2])\n",
        "    out = self.fc(self.drop(max_pool.squeeze(2)))\n",
        "    return out"
      ],
      "metadata": {
        "id": "NhheO2SmYhzy"
      },
      "execution_count": 39,
      "outputs": []
    },
    {
      "cell_type": "code",
      "source": [
        "VOCAB_SIZE = len(set(word2id.values())) + 1\n",
        "EMB_SIZE = 300\n",
        "PADDING_IDX = len(set(word2id.values()))\n",
        "OUTPUT_SIZE = 4\n",
        "OUT_CHANNELS = 100\n",
        "KERNEL_HEIGHTS = 3\n",
        "STRIDE = 1\n",
        "PADDING = 1\n",
        "\n",
        "model = CNN(VOCAB_SIZE, EMB_SIZE, PADDING_IDX, OUTPUT_SIZE, OUT_CHANNELS, KERNEL_HEIGHTS, STRIDE, PADDING, emb_weights=weights)\n",
        "\n",
        "for i in range(10):\n",
        "  X = dataset_train[i]['inputs']\n",
        "  print(torch.softmax(model(X.unsqueeze(0)), dim=-1))"
      ],
      "metadata": {
        "id": "ZHWZjtkQYkvo",
        "colab": {
          "base_uri": "https://localhost:8080/"
        },
        "outputId": "764f1948-3201-49d7-e376-e55fd422e4bb"
      },
      "execution_count": 40,
      "outputs": [
        {
          "output_type": "stream",
          "name": "stdout",
          "text": [
            "tensor([[0.2548, 0.2145, 0.2949, 0.2358]], grad_fn=<SoftmaxBackward0>)\n",
            "tensor([[0.2849, 0.2296, 0.2711, 0.2144]], grad_fn=<SoftmaxBackward0>)\n",
            "tensor([[0.2928, 0.2000, 0.2802, 0.2271]], grad_fn=<SoftmaxBackward0>)\n",
            "tensor([[0.3126, 0.2136, 0.2693, 0.2046]], grad_fn=<SoftmaxBackward0>)\n",
            "tensor([[0.2901, 0.2078, 0.2815, 0.2207]], grad_fn=<SoftmaxBackward0>)\n",
            "tensor([[0.2531, 0.2093, 0.3098, 0.2278]], grad_fn=<SoftmaxBackward0>)\n",
            "tensor([[0.2948, 0.1832, 0.3081, 0.2139]], grad_fn=<SoftmaxBackward0>)\n",
            "tensor([[0.2657, 0.2003, 0.3079, 0.2260]], grad_fn=<SoftmaxBackward0>)\n",
            "tensor([[0.2755, 0.1956, 0.2816, 0.2473]], grad_fn=<SoftmaxBackward0>)\n",
            "tensor([[0.2992, 0.2074, 0.2879, 0.2056]], grad_fn=<SoftmaxBackward0>)\n"
          ]
        }
      ]
    },
    {
      "cell_type": "markdown",
      "source": [
        "### 87 確率的勾配降下法によるCNNの学習\n",
        ">>\n",
        "確率的勾配降下法（SGD: Stochastic Gradient Descent）を用いて，問題86で構築したモデルを学習せよ．訓練データ上の損失と正解率，評価データ上の損失と正解率を表示しながらモデルを学習し，適当な基準（例えば10エポックなど）で終了させよ．"
      ],
      "metadata": {
        "id": "SxedSKatYmVP"
      }
    },
    {
      "cell_type": "code",
      "source": [
        "VOCAB_SIZE = len(set(word2id.values())) + 1\n",
        "EMB_SIZE = 300\n",
        "PADDING_IDX = len(set(word2id.values()))\n",
        "OUTPUT_SIZE = 4\n",
        "OUT_CHANNELS = 100\n",
        "KERNEL_HEIGHTS = 3\n",
        "STRIDE = 1\n",
        "PADDING = 1\n",
        "lr=5e-2\n",
        "device=torch.device(\"cuda\")\n",
        "batch_size=64\n",
        "epochs=10\n",
        "\n",
        "criterion=nn.CrossEntropyLoss()\n",
        "optimizer=torch.optim.SGD(model.parameters(),lr=lr)\n",
        "model = CNN(VOCAB_SIZE, EMB_SIZE, PADDING_IDX, OUTPUT_SIZE, OUT_CHANNELS, KERNEL_HEIGHTS, STRIDE, PADDING, emb_weights=weights)\n",
        "log=train_model(dataset_train,dataset_valid,batch_size,model,criterion,optimizer,epochs,collate_fn=Padsequence(PADDING_IDX),device=device)\n"
      ],
      "metadata": {
        "id": "-h2E1lTDYxCA",
        "colab": {
          "base_uri": "https://localhost:8080/"
        },
        "outputId": "3ab85524-f1f4-4a27-fbc9-02c8de903560"
      },
      "execution_count": 41,
      "outputs": [
        {
          "output_type": "stream",
          "name": "stdout",
          "text": [
            "epoch:1,loss_train: 1.3980, accuracy_train: 0.1273, loss_valid: 1.3914, accuracy_valid: 0.1619, 10.6656sec\n",
            "epoch:2,loss_train: 1.3980, accuracy_train: 0.1273, loss_valid: 1.3914, accuracy_valid: 0.1619, 10.8270sec\n",
            "epoch:3,loss_train: 1.3980, accuracy_train: 0.1273, loss_valid: 1.3914, accuracy_valid: 0.1619, 10.6979sec\n"
          ]
        }
      ]
    },
    {
      "cell_type": "code",
      "source": [
        "visualize_logs(log)\n",
        "\n",
        "_, acc_train = calculate_loss_and_accuracy(model, dataset_train, device)\n",
        "_, acc_test = calculate_loss_and_accuracy(model, dataset_test, device)\n",
        "print(f'train acc：{acc_train:.3f}')\n",
        "print(f'test acc{acc_test:.3f}')"
      ],
      "metadata": {
        "id": "1dLmrK9mfL_w",
        "colab": {
          "base_uri": "https://localhost:8080/",
          "height": 0
        },
        "outputId": "a352f2a4-3379-40f1-f493-c4a97aa7378b"
      },
      "execution_count": 42,
      "outputs": [
        {
          "output_type": "display_data",
          "data": {
            "image/png": "[encoded data removed]",
            "text/plain": [
              "<Figure size 1080x360 with 2 Axes>"
            ]
          },
          "metadata": {
            "needs_background": "light"
          }
        },
        {
          "output_type": "stream",
          "name": "stdout",
          "text": [
            "train acc：0.127\n",
            "test acc0.156\n"
          ]
        }
      ]
    },
    {
      "cell_type": "markdown",
      "source": [
        "### 88 パラメータチューニング\n",
        ">>\n",
        "問題85や問題87のコードを改変し，ニューラルネットワークの形状やハイパーパラメータを調整しながら，高性能なカテゴリ分類器を構築せよ．"
      ],
      "metadata": {
        "id": "lNuS58jQhREh"
      }
    },
    {
      "cell_type": "code",
      "source": [
        "from torch.nn import functional as F\n",
        "\n",
        "class textCNN(nn.Module):\n",
        "  def __init__(self, vocab_size, emb_size, padding_idx, output_size, out_channels, conv_params, drop_rate, emb_weights=None):\n",
        "    super().__init__()\n",
        "    if emb_weights != None:  \n",
        "      self.emb = nn.Embedding.from_pretrained(emb_weights, padding_idx=padding_idx)\n",
        "    else:\n",
        "      self.emb = nn.Embedding(vocab_size, emb_size, padding_idx=padding_idx)\n",
        "    self.convs = nn.ModuleList([nn.Conv2d(1, out_channels, (kernel_height, emb_size), padding=(padding, 0)) for kernel_height, padding in conv_params])\n",
        "    self.drop = nn.Dropout(drop_rate)\n",
        "    self.fc = nn.Linear(len(conv_params)*out_channels, output_size)\n",
        "\n",
        "  def forward(self, x):\n",
        "    emb = self.emb(x).unsqueeze(1)\n",
        "    convs = [F.relu(conv(emb).squeeze(3)) for i, conv in enumerate(self.convs)]\n",
        "    max_pools = [F.max_pool1d(conv, conv.size()[2]) for conv in convs]\n",
        "    max_pool_cat=torch.cat(max_pools,1)\n",
        "    out = self.fc(self.drop(max_pool_cat.squeeze(2)))\n",
        "    return out"
      ],
      "metadata": {
        "id": "25AJ722shXZu"
      },
      "execution_count": 43,
      "outputs": []
    },
    {
      "cell_type": "code",
      "source": [
        "!pip install optuna"
      ],
      "metadata": {
        "id": "Uo_TztDA6srd",
        "colab": {
          "base_uri": "https://localhost:8080/"
        },
        "outputId": "4745645e-c585-47a2-87f4-89d060c209c5"
      },
      "execution_count": 44,
      "outputs": [
        {
          "output_type": "stream",
          "name": "stdout",
          "text": [
            "Collecting optuna\n",
            "  Downloading optuna-2.10.0-py3-none-any.whl (308 kB)\n",
            "\u001b[?25l\r\u001b[K     |█                               | 10 kB 20.7 MB/s eta 0:00:01\r\u001b[K     |██▏                             | 20 kB 9.2 MB/s eta 0:00:01\r\u001b[K     |███▏                            | 30 kB 7.9 MB/s eta 0:00:01\r\u001b[K     |████▎                           | 40 kB 7.6 MB/s eta 0:00:01\r\u001b[K     |█████▎                          | 51 kB 4.3 MB/s eta 0:00:01\r\u001b[K     |██████▍                         | 61 kB 5.1 MB/s eta 0:00:01\r\u001b[K     |███████▍                        | 71 kB 5.4 MB/s eta 0:00:01\r\u001b[K     |████████▌                       | 81 kB 5.6 MB/s eta 0:00:01\r\u001b[K     |█████████▋                      | 92 kB 6.1 MB/s eta 0:00:01\r\u001b[K     |██████████▋                     | 102 kB 5.2 MB/s eta 0:00:01\r\u001b[K     |███████████▊                    | 112 kB 5.2 MB/s eta 0:00:01\r\u001b[K     |████████████▊                   | 122 kB 5.2 MB/s eta 0:00:01\r\u001b[K     |█████████████▉                  | 133 kB 5.2 MB/s eta 0:00:01\r\u001b[K     |██████████████▉                 | 143 kB 5.2 MB/s eta 0:00:01\r\u001b[K     |████████████████                | 153 kB 5.2 MB/s eta 0:00:01\r\u001b[K     |█████████████████               | 163 kB 5.2 MB/s eta 0:00:01\r\u001b[K     |██████████████████              | 174 kB 5.2 MB/s eta 0:00:01\r\u001b[K     |███████████████████▏            | 184 kB 5.2 MB/s eta 0:00:01\r\u001b[K     |████████████████████▏           | 194 kB 5.2 MB/s eta 0:00:01\r\u001b[K     |█████████████████████▎          | 204 kB 5.2 MB/s eta 0:00:01\r\u001b[K     |██████████████████████▎         | 215 kB 5.2 MB/s eta 0:00:01\r\u001b[K     |███████████████████████▍        | 225 kB 5.2 MB/s eta 0:00:01\r\u001b[K     |████████████████████████▌       | 235 kB 5.2 MB/s eta 0:00:01\r\u001b[K     |█████████████████████████▌      | 245 kB 5.2 MB/s eta 0:00:01\r\u001b[K     |██████████████████████████▋     | 256 kB 5.2 MB/s eta 0:00:01\r\u001b[K     |███████████████████████████▋    | 266 kB 5.2 MB/s eta 0:00:01\r\u001b[K     |████████████████████████████▊   | 276 kB 5.2 MB/s eta 0:00:01\r\u001b[K     |█████████████████████████████▊  | 286 kB 5.2 MB/s eta 0:00:01\r\u001b[K     |██████████████████████████████▉ | 296 kB 5.2 MB/s eta 0:00:01\r\u001b[K     |████████████████████████████████| 307 kB 5.2 MB/s eta 0:00:01\r\u001b[K     |████████████████████████████████| 308 kB 5.2 MB/s \n",
            "\u001b[?25hRequirement already satisfied: numpy in /usr/local/lib/python3.7/dist-packages (from optuna) (1.19.5)\n",
            "Requirement already satisfied: tqdm in /usr/local/lib/python3.7/dist-packages (from optuna) (4.62.3)\n",
            "Collecting cmaes>=0.8.2\n",
            "  Downloading cmaes-0.8.2-py3-none-any.whl (15 kB)\n",
            "Requirement already satisfied: sqlalchemy>=1.1.0 in /usr/local/lib/python3.7/dist-packages (from optuna) (1.4.31)\n",
            "Collecting alembic\n",
            "  Downloading alembic-1.7.5-py3-none-any.whl (209 kB)\n",
            "\u001b[K     |████████████████████████████████| 209 kB 42.5 MB/s \n",
            "\u001b[?25hCollecting colorlog\n",
            "  Downloading colorlog-6.6.0-py2.py3-none-any.whl (11 kB)\n",
            "Collecting cliff\n",
            "  Downloading cliff-3.10.0-py3-none-any.whl (80 kB)\n",
            "\u001b[K     |████████████████████████████████| 80 kB 9.6 MB/s \n",
            "\u001b[?25hRequirement already satisfied: scipy!=1.4.0 in /usr/local/lib/python3.7/dist-packages (from optuna) (1.4.1)\n",
            "Requirement already satisfied: packaging>=20.0 in /usr/local/lib/python3.7/dist-packages (from optuna) (21.3)\n",
            "Requirement already satisfied: PyYAML in /usr/local/lib/python3.7/dist-packages (from optuna) (3.13)\n",
            "Requirement already satisfied: pyparsing!=3.0.5,>=2.0.2 in /usr/local/lib/python3.7/dist-packages (from packaging>=20.0->optuna) (3.0.7)\n",
            "Requirement already satisfied: importlib-metadata in /usr/local/lib/python3.7/dist-packages (from sqlalchemy>=1.1.0->optuna) (4.10.1)\n",
            "Requirement already satisfied: greenlet!=0.4.17 in /usr/local/lib/python3.7/dist-packages (from sqlalchemy>=1.1.0->optuna) (1.1.2)\n",
            "Collecting Mako\n",
            "  Downloading Mako-1.1.6-py2.py3-none-any.whl (75 kB)\n",
            "\u001b[K     |████████████████████████████████| 75 kB 4.6 MB/s \n",
            "\u001b[?25hRequirement already satisfied: importlib-resources in /usr/local/lib/python3.7/dist-packages (from alembic->optuna) (5.4.0)\n",
            "Collecting pbr!=2.1.0,>=2.0.0\n",
            "  Downloading pbr-5.8.0-py2.py3-none-any.whl (112 kB)\n",
            "\u001b[K     |████████████████████████████████| 112 kB 48.1 MB/s \n",
            "\u001b[?25hCollecting autopage>=0.4.0\n",
            "  Downloading autopage-0.5.0-py3-none-any.whl (29 kB)\n",
            "Collecting cmd2>=1.0.0\n",
            "  Downloading cmd2-2.3.3-py3-none-any.whl (149 kB)\n",
            "\u001b[K     |████████████████████████████████| 149 kB 48.1 MB/s \n",
            "\u001b[?25hCollecting stevedore>=2.0.1\n",
            "  Downloading stevedore-3.5.0-py3-none-any.whl (49 kB)\n",
            "\u001b[K     |████████████████████████████████| 49 kB 5.8 MB/s \n",
            "\u001b[?25hRequirement already satisfied: PrettyTable>=0.7.2 in /usr/local/lib/python3.7/dist-packages (from cliff->optuna) (3.0.0)\n",
            "Requirement already satisfied: typing-extensions in /usr/local/lib/python3.7/dist-packages (from cmd2>=1.0.0->cliff->optuna) (3.10.0.2)\n",
            "Collecting pyperclip>=1.6\n",
            "  Downloading pyperclip-1.8.2.tar.gz (20 kB)\n",
            "Requirement already satisfied: attrs>=16.3.0 in /usr/local/lib/python3.7/dist-packages (from cmd2>=1.0.0->cliff->optuna) (21.4.0)\n",
            "Requirement already satisfied: wcwidth>=0.1.7 in /usr/local/lib/python3.7/dist-packages (from cmd2>=1.0.0->cliff->optuna) (0.2.5)\n",
            "Requirement already satisfied: zipp>=0.5 in /usr/local/lib/python3.7/dist-packages (from importlib-metadata->sqlalchemy>=1.1.0->optuna) (3.7.0)\n",
            "Requirement already satisfied: MarkupSafe>=0.9.2 in /usr/local/lib/python3.7/dist-packages (from Mako->alembic->optuna) (2.0.1)\n",
            "Building wheels for collected packages: pyperclip\n",
            "  Building wheel for pyperclip (setup.py) ... \u001b[?25l\u001b[?25hdone\n",
            "  Created wheel for pyperclip: filename=pyperclip-1.8.2-py3-none-any.whl size=11137 sha256=e78e485aaf54c2576160d3d03d8323056e8365ca11c45226410d0a538b0a38fa\n",
            "  Stored in directory: /root/.cache/pip/wheels/9f/18/84/8f69f8b08169c7bae2dde6bd7daf0c19fca8c8e500ee620a28\n",
            "Successfully built pyperclip\n",
            "Installing collected packages: pyperclip, pbr, stevedore, Mako, cmd2, autopage, colorlog, cmaes, cliff, alembic, optuna\n",
            "Successfully installed Mako-1.1.6 alembic-1.7.5 autopage-0.5.0 cliff-3.10.0 cmaes-0.8.2 cmd2-2.3.3 colorlog-6.6.0 optuna-2.10.0 pbr-5.8.0 pyperclip-1.8.2 stevedore-3.5.0\n"
          ]
        }
      ]
    },
    {
      "cell_type": "code",
      "source": [
        "import optuna"
      ],
      "metadata": {
        "id": "jlKWx0yt9xGz"
      },
      "execution_count": 45,
      "outputs": []
    },
    {
      "cell_type": "code",
      "source": [
        "def objective(trial):\n",
        "  emb_size=trial.suggest_discrete_uniform(\"emb_size\",100,400,100)\n",
        "  out_channels=trial.suggest_discrete_uniform(\"out_channels\",50,200,50)\n",
        "  drop_rate=trial.suggest_discrete_uniform(\"drop_rate\",0.0,0.5,0.1)\n",
        "  lr=trial.suggest_loguniform(\"lr\",5e-4,5e-2)\n",
        "  momentum=trial.suggest_discrete_uniform(\"momentum\",0.5,0.9,0.1)\n",
        "  batch_size=int(trial.suggest_discrete_uniform(\"batch_size\",16,64,16))\n",
        "\n",
        "  VOCAB_SIZE = len(set(word2id.values())) + 1\n",
        "  PADDING_IDX = len(set(word2id.values()))\n",
        "  OUTPUT_SIZE = 4\n",
        "  cnv_params=[[2, 0], [3, 1], [4, 2]]\n",
        "  device=torch.device(\"cuda\")\n",
        "  epochs=10\n",
        "\n",
        "  criterion=nn.CrossEntropyLoss()\n",
        "  model = textCNN(VOCAB_SIZE, EMB_SIZE, PADDING_IDX, OUTPUT_SIZE, OUT_CHANNELS, cnv_params, drop_rate,emb_weights=weights)\n",
        "  optimizer=torch.optim.SGD(model.parameters(),lr=lr,momentum=momentum)\n",
        "  log=train_model(dataset_train,dataset_valid,batch_size,model,criterion,optimizer,epochs,collate_fn=Padsequence(PADDING_IDX),device=device)\n",
        "  loss_valid, _ = calculate_loss_and_accuracy(model, dataset_valid, device)\n",
        "  return loss_valid"
      ],
      "metadata": {
        "id": "h9FSZKE09yma"
      },
      "execution_count": 46,
      "outputs": []
    },
    {
      "cell_type": "code",
      "source": [
        "study=optuna.create_study()\n",
        "study.optimize(objective,timeout=10)\n",
        "trial=study.best_trial\n",
        "print(\"best trial:\")\n",
        "print(f\"value:{trial.value}\")\n",
        "print(\"params\")\n",
        "for key,value in trial.params.items():\n",
        "  print(f\"{key}:{value}\")"
      ],
      "metadata": {
        "id": "BQBh6Qf4_OwJ",
        "colab": {
          "base_uri": "https://localhost:8080/"
        },
        "outputId": "d6ccb39f-ccee-4c5e-81ad-cb2933372340"
      },
      "execution_count": 47,
      "outputs": [
        {
          "output_type": "stream",
          "name": "stderr",
          "text": [
            "\u001b[32m[I 2022-01-28 16:27:10,222]\u001b[0m A new study created in memory with name: no-name-78489007-d1cd-428f-a133-7dc95265eb1a\u001b[0m\n"
          ]
        },
        {
          "output_type": "stream",
          "name": "stdout",
          "text": [
            "epoch:1,loss_train: 1.1287, accuracy_train: 0.5034, loss_valid: 1.1284, accuracy_valid: 0.5150, 33.3158sec\n",
            "epoch:2,loss_train: 1.0959, accuracy_train: 0.5185, loss_valid: 1.0951, accuracy_valid: 0.5412, 23.0918sec\n",
            "epoch:3,loss_train: 1.0637, accuracy_train: 0.6042, loss_valid: 1.0734, accuracy_valid: 0.5712, 23.1293sec\n",
            "epoch:4,loss_train: 1.0339, accuracy_train: 0.6185, loss_valid: 1.0456, accuracy_valid: 0.5937, 23.2241sec\n",
            "epoch:5,loss_train: 1.0093, accuracy_train: 0.6345, loss_valid: 1.0262, accuracy_valid: 0.6087, 23.1969sec\n",
            "epoch:6,loss_train: 0.9894, accuracy_train: 0.6436, loss_valid: 1.0107, accuracy_valid: 0.6049, 24.3630sec\n",
            "epoch:7,loss_train: 0.9753, accuracy_train: 0.6505, loss_valid: 1.0010, accuracy_valid: 0.6162, 23.1465sec\n",
            "epoch:8,loss_train: 0.9667, accuracy_train: 0.6552, loss_valid: 0.9949, accuracy_valid: 0.6229, 23.1596sec\n",
            "epoch:9,loss_train: 0.9627, accuracy_train: 0.6580, loss_valid: 0.9914, accuracy_valid: 0.6259, 23.1742sec\n",
            "epoch:10,loss_train: 0.9616, accuracy_train: 0.6585, loss_valid: 0.9905, accuracy_valid: 0.6274, 23.2969sec\n"
          ]
        },
        {
          "output_type": "stream",
          "name": "stderr",
          "text": [
            "\u001b[32m[I 2022-01-28 16:31:15,354]\u001b[0m Trial 0 finished with value: 0.0 and parameters: {'emb_size': 100.0, 'out_channels': 100.0, 'drop_rate': 0.0, 'lr': 0.004588504456773776, 'momentum': 0.7, 'batch_size': 48.0}. Best is trial 0 with value: 0.0.\u001b[0m\n"
          ]
        },
        {
          "output_type": "stream",
          "name": "stdout",
          "text": [
            "best trial:\n",
            "value:0.0\n",
            "params\n",
            "emb_size:100.0\n",
            "out_channels:100.0\n",
            "drop_rate:0.0\n",
            "lr:0.004588504456773776\n",
            "momentum:0.7\n",
            "batch_size:48.0\n"
          ]
        }
      ]
    },
    {
      "cell_type": "code",
      "source": [
        "emb_size=int(trial.params[\"emb_size\"])\n",
        "out_channels=int(trial.params[\"out_channels\"])\n",
        "drop_rate=trial.params[\"drop_rate\"]\n",
        "lr=trial.params[\"lr\"]\n",
        "momentum=trial.params[\"momentum\"]\n",
        "batch_size=int(trial.params[\"batch_size\"])\n",
        "\n",
        "VOCAB_SIZE = len(set(word2id.values())) + 1\n",
        "PADDING_IDX = len(set(word2id.values()))\n",
        "OUTPUT_SIZE = 4\n",
        "cnv_params=[[2, 0], [3, 1], [4, 2]]\n",
        "device=torch.device(\"cuda\")\n",
        "epochs=10\n",
        "\n",
        "criterion=nn.CrossEntropyLoss()\n",
        "model = textCNN(VOCAB_SIZE, EMB_SIZE, PADDING_IDX, OUTPUT_SIZE, OUT_CHANNELS, cnv_params, drop_rate,emb_weights=weights)\n",
        "optimizer=torch.optim.SGD(model.parameters(),lr=lr,momentum=momentum)\n",
        "log=train_model(dataset_train,dataset_valid,batch_size,model,criterion,optimizer,epochs,collate_fn=Padsequence(PADDING_IDX),device=device)"
      ],
      "metadata": {
        "id": "OHOVFC4CGErh",
        "colab": {
          "base_uri": "https://localhost:8080/"
        },
        "outputId": "b9467691-d8ef-4b60-c178-ef2d987717aa"
      },
      "execution_count": 48,
      "outputs": [
        {
          "output_type": "stream",
          "name": "stdout",
          "text": [
            "epoch:1,loss_train: 1.1297, accuracy_train: 0.4881, loss_valid: 1.1257, accuracy_valid: 0.5187, 23.3170sec\n",
            "epoch:2,loss_train: 1.0978, accuracy_train: 0.5456, loss_valid: 1.0998, accuracy_valid: 0.5465, 23.2706sec\n",
            "epoch:3,loss_train: 1.0699, accuracy_train: 0.5936, loss_valid: 1.0814, accuracy_valid: 0.5682, 23.1435sec\n",
            "epoch:4,loss_train: 1.0408, accuracy_train: 0.6088, loss_valid: 1.0533, accuracy_valid: 0.5817, 23.3053sec\n",
            "epoch:5,loss_train: 1.0174, accuracy_train: 0.6197, loss_valid: 1.0375, accuracy_valid: 0.5952, 23.3082sec\n",
            "epoch:6,loss_train: 0.9980, accuracy_train: 0.6356, loss_valid: 1.0193, accuracy_valid: 0.6132, 23.2329sec\n",
            "epoch:7,loss_train: 0.9842, accuracy_train: 0.6402, loss_valid: 1.0092, accuracy_valid: 0.6169, 23.1661sec\n",
            "epoch:8,loss_train: 0.9759, accuracy_train: 0.6431, loss_valid: 1.0030, accuracy_valid: 0.6162, 23.3143sec\n",
            "epoch:9,loss_train: 0.9720, accuracy_train: 0.6466, loss_valid: 0.9998, accuracy_valid: 0.6162, 23.2078sec\n",
            "epoch:10,loss_train: 0.9709, accuracy_train: 0.6470, loss_valid: 0.9989, accuracy_valid: 0.6169, 23.2251sec\n"
          ]
        }
      ]
    },
    {
      "cell_type": "code",
      "source": [
        "visualize_logs(log)\n",
        "\n",
        "_, acc_train = calculate_loss_and_accuracy(model, dataset_train, device)\n",
        "_, acc_test = calculate_loss_and_accuracy(model, dataset_test, device)\n",
        "print(f'正解率（学習データ）：{acc_train:.3f}')\n",
        "print(f'正解率（評価データ）：{acc_test:.3f}')"
      ],
      "metadata": {
        "id": "_YBj5Cd-Kofo",
        "colab": {
          "base_uri": "https://localhost:8080/",
          "height": 369
        },
        "outputId": "f1a3309a-1a43-4f08-cc6f-3b5514bce96f"
      },
      "execution_count": 49,
      "outputs": [
        {
          "output_type": "display_data",
          "data": {
            "image/png": "[encoded data removed]",
            "text/plain": [
              "<Figure size 1080x360 with 2 Axes>"
            ]
          },
          "metadata": {
            "needs_background": "light"
          }
        },
        {
          "output_type": "stream",
          "name": "stdout",
          "text": [
            "正解率（学習データ）：0.647\n",
            "正解率（評価データ）：0.626\n"
          ]
        }
      ]
    }
  ],
  "metadata": {
    "accelerator": "GPU",
    "colab": {
      "name": "chap9_rnn_cnn.ipynb",
      "provenance": [],
      "authorship_tag": "ABX9TyPy6o78iALQNZierrUuLX2V",
      "include_colab_link": true
    },
    "kernelspec": {
      "display_name": "Python 3",
      "name": "python3"
    },
    "language_info": {
      "name": "python"
    }
  },
  "nbformat": 4,
  "nbformat_minor": 0
}