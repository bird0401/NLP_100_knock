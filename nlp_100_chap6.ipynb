{
  "cells": [
    {
      "cell_type": "markdown",
      "metadata": {
        "id": "view-in-github",
        "colab_type": "text"
      },
      "source": [
        "<a href=\"https://colab.research.google.com/github/mot1122/NLP_100_knock/blob/main/nlp_100_chap6.ipynb\" target=\"_parent\"><img src=\"https://colab.research.google.com/assets/colab-badge.svg\" alt=\"Open In Colab\"/></a>"
      ]
    },
    {
      "cell_type": "markdown",
      "metadata": {
        "id": "FETI__6AvMOz"
      },
      "source": [
        "50. データの入手・整形"
      ]
    },
    {
      "cell_type": "code",
      "execution_count": null,
      "metadata": {
        "colab": {
          "background_save": true
        },
        "id": "3EnESbP9L9dj"
      },
      "outputs": [],
      "source": [
        "!wget https://archive.ics.uci.edu/ml/machine-learning-databases/00359/NewsAggregatorDataset.zip"
      ]
    },
    {
      "cell_type": "code",
      "execution_count": null,
      "metadata": {
        "colab": {
          "background_save": true
        },
        "id": "oLo85CGvMFU4"
      },
      "outputs": [],
      "source": [
        "!unzip NewsAggregatorDataset.zip"
      ]
    },
    {
      "cell_type": "code",
      "execution_count": null,
      "metadata": {
        "colab": {
          "background_save": true
        },
        "id": "DENSskwZMLCL"
      },
      "outputs": [],
      "source": [
        "# 行数の確認\n",
        "!wc -l ./newsCorpora.csv"
      ]
    },
    {
      "cell_type": "code",
      "execution_count": null,
      "metadata": {
        "colab": {
          "background_save": true
        },
        "id": "MtVyeTDJMpDe"
      },
      "outputs": [],
      "source": [
        "!head -10 ./newsCorpora.csv"
      ]
    },
    {
      "cell_type": "code",
      "execution_count": null,
      "metadata": {
        "colab": {
          "background_save": true
        },
        "id": "ffT2IAZfNA3H"
      },
      "outputs": [],
      "source": [
        "!sed -e 's/\"/'\\''/g' ./newsCorpora.csv > ./newsCorpora_re.csv"
      ]
    },
    {
      "cell_type": "code",
      "execution_count": null,
      "metadata": {
        "colab": {
          "background_save": true
        },
        "id": "yRc6Eca6PcfF"
      },
      "outputs": [],
      "source": [
        "import pandas as pd\n",
        "from sklearn.model_selection import train_test_split\n",
        "\n",
        "df=pd.read_csv('./newsCorpora_re.csv',header=None,sep='\\t',names=['ID', 'TITLE', 'URL', 'PUBLISHER', 'CATEGORY', 'STORY', 'HOSTNAME', 'TIMESTAMP'])"
      ]
    },
    {
      "cell_type": "code",
      "execution_count": null,
      "metadata": {
        "colab": {
          "background_save": true
        },
        "id": "inaoPmLZRWH3"
      },
      "outputs": [],
      "source": [
        "df.head(2)"
      ]
    },
    {
      "cell_type": "code",
      "execution_count": null,
      "metadata": {
        "colab": {
          "background_save": true
        },
        "id": "eI83BvnSRdvs"
      },
      "outputs": [],
      "source": [
        "pd.set_option('display.max_columns',100)"
      ]
    },
    {
      "cell_type": "code",
      "execution_count": null,
      "metadata": {
        "colab": {
          "background_save": true
        },
        "id": "pb1ODUQQUh4h"
      },
      "outputs": [],
      "source": [
        "df=df.loc[df['PUBLISHER'].isin(['Reuters', 'Huffington Post', 'Businessweek', 'Contactmusic.com', 'Daily Mail']),['TITLE', 'CATEGORY']]"
      ]
    },
    {
      "cell_type": "code",
      "execution_count": null,
      "metadata": {
        "colab": {
          "background_save": true
        },
        "id": "BUt4cLGoU7Up"
      },
      "outputs": [],
      "source": [
        "train,valid_test=train_test_split(df,test_size=0.2,shuffle=True,random_state=123,stratify=df['CATEGORY'])\n",
        "valid,test=train_test_split(valid_test,test_size=0.5,shuffle=True,random_state=123,stratify=valid_test['CATEGORY'])"
      ]
    },
    {
      "cell_type": "code",
      "execution_count": null,
      "metadata": {
        "colab": {
          "background_save": true
        },
        "id": "0ncKBgCTVsN4"
      },
      "outputs": [],
      "source": [
        "train.to_csv('./train.txt',sep='\\t',index=False)\n",
        "valid.to_csv('./valid.txt',sep='\\t',index=False)\n",
        "test.to_csv('./test.txt',sep='\\t',index=False)"
      ]
    },
    {
      "cell_type": "code",
      "execution_count": null,
      "metadata": {
        "colab": {
          "background_save": true
        },
        "id": "PJWTj66UspIz"
      },
      "outputs": [],
      "source": [
        "print(\"[train]\")\n",
        "print(train['CATEGORY'].value_counts())\n",
        "print()\n",
        "print('[valid]')\n",
        "print(valid['CATEGORY'].value_counts())\n",
        "print()\n",
        "print('[test]')\n",
        "print(test['CATEGORY'].value_counts())\n",
        "print()"
      ]
    },
    {
      "cell_type": "markdown",
      "metadata": {
        "id": "io6PKPBkvPSS"
      },
      "source": [
        "51. 特徴量抽出"
      ]
    },
    {
      "cell_type": "code",
      "execution_count": null,
      "metadata": {
        "colab": {
          "background_save": true
        },
        "id": "z7qHzJ4Zs8F7"
      },
      "outputs": [],
      "source": [
        ""
      ]
    },
    {
      "cell_type": "code",
      "execution_count": null,
      "metadata": {
        "colab": {
          "background_save": true
        },
        "id": "31gKQObXxOG-"
      },
      "outputs": [],
      "source": [
        "import string\n",
        "import re\n",
        "\n",
        "def preprocessing(text):\n",
        "  table=str.maketrans(string.punctuation,' '*len(string.punctuation))\n",
        "  text=text.translate(table)\n",
        "  text=text.lower()\n",
        "  text=re.sub('\\d+','0',text)\n",
        "  return text"
      ]
    },
    {
      "cell_type": "code",
      "execution_count": null,
      "metadata": {
        "colab": {
          "background_save": true
        },
        "id": "JOSIiMXF1vnx"
      },
      "outputs": [],
      "source": [
        "df=pd.concat([train,valid,test],axis=0)\n",
        "df.reset_index(drop=True,inplace=True)\n",
        "df['TITLE']=df['TITLE'].map(lambda x:preprocessing(x))"
      ]
    },
    {
      "cell_type": "code",
      "execution_count": null,
      "metadata": {
        "colab": {
          "background_save": true
        },
        "id": "IztdDfLb1-YX"
      },
      "outputs": [],
      "source": [
        "from sklearn.feature_extraction.text import TfidfVectorizer\n",
        "\n",
        "train_valid=df[:len(train)+len(valid)]\n",
        "test=df[len(train)+len(valid):]\n",
        "\n",
        "vec_tfidf=TfidfVectorizer(min_df=10,ngram_range=(1,2))\n",
        "\n",
        "X_train_valid=vec_tfidf.fit_transform(train_valid['TITLE'])\n",
        "X_test=vec_tfidf.transform(test['TITLE'])\n",
        "\n",
        "X_train_valid=pd.DataFrame(X_train_valid.toarray(),columns=vec_tfidf.get_feature_names())\n",
        "X_test=pd.DataFrame(X_test.toarray(),columns=vec_tfidf.get_feature_names())"
      ]
    },
    {
      "cell_type": "code",
      "execution_count": null,
      "metadata": {
        "colab": {
          "background_save": true
        },
        "id": "1Ljllu5F7_-1"
      },
      "outputs": [],
      "source": [
        "X_train=X_train_valid[:len(train)]\n",
        "X_valid=X_train_valid[len(train):]\n",
        "\n",
        "X_train.to_csv('./X_train.txt',sep='\\t',index=False)\n",
        "X_valid.to_csv('./X_valid.txt',sep='\\t',index=False)\n",
        "X_test.to_csv('./X_test.txt',sep='t',index=False)"
      ]
    },
    {
      "cell_type": "markdown",
      "metadata": {
        "id": "_zyJaBgZFquL"
      },
      "source": [
        "52. 学習"
      ]
    },
    {
      "cell_type": "markdown",
      "metadata": {
        "id": "Se1IV2-WBGQB"
      },
      "source": [
        ""
      ]
    },
    {
      "cell_type": "code",
      "execution_count": null,
      "metadata": {
        "colab": {
          "background_save": true
        },
        "id": "n8opKE-0DbRh"
      },
      "outputs": [],
      "source": [
        "from sklearn.linear_model import LogisticRegression\n",
        "\n",
        "lg=LogisticRegression(random_state=123,max_iter=10000)\n",
        "lg.fit(X_train,train['CATEGORY'])"
      ]
    },
    {
      "cell_type": "markdown",
      "metadata": {
        "id": "6MFmXnMjGG0p"
      },
      "source": [
        "53. 予測"
      ]
    },
    {
      "cell_type": "code",
      "execution_count": null,
      "metadata": {
        "colab": {
          "background_save": true
        },
        "id": "jmE0vjWQF4QR"
      },
      "outputs": [],
      "source": [
        "import numpy as np\n",
        "\n",
        "def score_lg(lg, X):\n",
        "  return [np.max(lg.predict_proba(X),axis=1),lg.predict(X)]"
      ]
    },
    {
      "cell_type": "code",
      "execution_count": null,
      "metadata": {
        "colab": {
          "background_save": true
        },
        "id": "Y20rDScTIAEt"
      },
      "outputs": [],
      "source": [
        "train_pred=score_lg(lg,X_train)\n",
        "test_pred=score_lg(lg,X_test)"
      ]
    },
    {
      "cell_type": "code",
      "execution_count": null,
      "metadata": {
        "colab": {
          "background_save": true
        },
        "id": "PqYJj5P1Jcuv"
      },
      "outputs": [],
      "source": [
        "from sklearn.metrics import accuracy_score\n",
        "\n",
        "train_accuracy = accuracy_score(train['CATEGORY'],train_pred[1])\n",
        "test_accuracy = accuracy_score(test['CATEGORY'],test_pred[1])"
      ]
    },
    {
      "cell_type": "code",
      "execution_count": null,
      "metadata": {
        "colab": {
          "background_save": true
        },
        "id": "NtU9K8m_IENK"
      },
      "outputs": [],
      "source": [
        "print(train_pred)"
      ]
    },
    {
      "cell_type": "markdown",
      "metadata": {
        "id": "3z2BRMTlCLxF"
      },
      "source": [
        "54. 正解率の計測"
      ]
    },
    {
      "cell_type": "code",
      "execution_count": null,
      "metadata": {
        "colab": {
          "background_save": true
        },
        "id": "_WEB1aLO0DdD"
      },
      "outputs": [],
      "source": [
        "print(f'train_accuracy : {train_accuracy:.3f}')\n",
        "print(f'test_accuracy : {test_accuracy:.3f}')"
      ]
    },
    {
      "cell_type": "markdown",
      "metadata": {
        "id": "_-14IKLXCM6g"
      },
      "source": [
        "55. 混同行列の作成"
      ]
    },
    {
      "cell_type": "code",
      "execution_count": null,
      "metadata": {
        "colab": {
          "background_save": true
        },
        "id": "lCSVaoxj1an2"
      },
      "outputs": [],
      "source": [
        "from sklearn.metrics import confusion_matrix\n",
        "import seaborn as sns\n",
        "import matplotlib.pyplot as plt\n",
        "\n",
        "train_cm=confusion_matrix(train['CATEGORY'],train_pred[1])\n",
        "print(train_cm)\n",
        "sns.heatmap(train_cm,annot=True,cmap='Blues')\n",
        "plt.show()"
      ]
    },
    {
      "cell_type": "code",
      "execution_count": null,
      "metadata": {
        "colab": {
          "background_save": true
        },
        "id": "bQJNdbC346PP"
      },
      "outputs": [],
      "source": [
        "test_cm=confusion_matrix(test['CATEGORY'],test_pred[1])\n",
        "sns.heatmap(test_cm,annot=True,cmap='Blues')\n",
        "plt.show()"
      ]
    },
    {
      "cell_type": "markdown",
      "metadata": {
        "id": "qgPW83HOCU9c"
      },
      "source": [
        "56. 適合率，再現率，F1スコアの計測"
      ]
    },
    {
      "cell_type": "code",
      "execution_count": null,
      "metadata": {
        "colab": {
          "background_save": true
        },
        "id": "vI1YmjPc5M6f"
      },
      "outputs": [],
      "source": [
        "from sklearn.metrics import precision_score, recall_score, f1_score\n",
        "\n",
        "def culculate_scores(y_true,y_pred):\n",
        "  precision=precision_score(y_true,y_pred,average=None,labels=['b','e','t','m'])\n",
        "  precision=np.append(precision,precision_score(y_true,y_pred,average='micro'))\n",
        "  precision=np.append(precision,precision_score(y_true,y_pred,average='macro'))\n",
        "\n",
        "  recall=recall_score(y_true,y_pred,average=None,labels=['b','e','t','m'])\n",
        "  recall=np.append(recall,recall_score(y_true,y_pred,average='micro'))\n",
        "  recall=np.append(recall,recall_score(y_true,y_pred,average='macro'))\n",
        "\n",
        "  f1=f1_score(y_true,y_pred,average=None,labels=['b','e','t','m'])\n",
        "  f1=np.append(f1,f1_score(y_true,y_pred,average='micro'))\n",
        "  f1=np.append(f1,f1_score(y_true,y_pred,average='macro'))\n",
        "\n",
        "  scores=pd.DataFrame({'適合率':precision,'再現率':recall,'F1スコア':f1},\n",
        "                      index=['b','e','t','m','micro','macro'])\n",
        "  return scores\n",
        "\n",
        "  "
      ]
    },
    {
      "cell_type": "code",
      "execution_count": null,
      "metadata": {
        "colab": {
          "background_save": true
        },
        "id": "sUGdwgpvAY8M"
      },
      "outputs": [],
      "source": [
        "print(culculate_scores(test['CATEGORY'],test_pred[1]))"
      ]
    },
    {
      "cell_type": "markdown",
      "metadata": {
        "id": "BLMO6tKLCfTE"
      },
      "source": [
        "57. 特徴量の重みの確認"
      ]
    },
    {
      "cell_type": "code",
      "execution_count": null,
      "metadata": {
        "colab": {
          "background_save": true
        },
        "id": "Jo0RHYNyFHC6"
      },
      "outputs": [],
      "source": [
        "features=X_train.columns.values\n",
        "index=[i for i in range(1,11)]\n",
        "for c,coef in zip(lg.classes_,lg.coef_):\n",
        "  print(f'CATEGORY : {c}')\n",
        "  best10=pd.DataFrame(features[np.argsort(coef)[::-1][:10]],columns=['重要度上位'],index=index).T\n",
        "  worst10=pd.DataFrame(features[np.argsort(coef)[:10]],columns=['重要度下位'],index=index).T\n",
        "  display(pd.concat([best10,worst10],axis=0))\n",
        "  print('\\n')\n",
        "\n"
      ]
    },
    {
      "cell_type": "markdown",
      "metadata": {
        "id": "Klx4InCNClKD"
      },
      "source": [
        "58. 正則化パラメータの変更"
      ]
    },
    {
      "cell_type": "markdown",
      "metadata": {
        "id": "-GOiCppvEpy0"
      },
      "source": [
        ""
      ]
    },
    {
      "cell_type": "code",
      "execution_count": null,
      "metadata": {
        "colab": {
          "background_save": true
        },
        "id": "9gJIxcYyHSY8"
      },
      "outputs": [],
      "source": [
        "X_train.head()"
      ]
    },
    {
      "cell_type": "code",
      "execution_count": null,
      "metadata": {
        "colab": {
          "background_save": true
        },
        "id": "Zm3Km7GIChWA"
      },
      "outputs": [],
      "source": [
        "from tqdm import tqdm\n",
        "result=[]\n",
        "for C in tqdm(np.logspace(-3,3,7,base=10)):\n",
        "  lg=LogisticRegression(random_state=123,max_iter=10000,C=C)\n",
        "  lg.fit(X_train,train['CATEGORY'])\n",
        "  train_pred=score_lg(lg,X_train)\n",
        "  valid_pred=score_lg(lg,X_valid)\n",
        "  test_pred=score_lg(lg,X_test)\n",
        "  train_accuracy=accuracy_score(train['CATEGORY'],train_pred[1])\n",
        "  valid_accuracy=accuracy_score(valid['CATEGORY'],valid_pred[1])\n",
        "  test_accuracy=accuracy_score(test['CATEGORY'],test_pred[1])\n",
        "  result.append([C,train_accuracy,valid_accuracy,test_accuracy])"
      ]
    },
    {
      "cell_type": "code",
      "execution_count": null,
      "metadata": {
        "colab": {
          "background_save": true
        },
        "id": "dOC6E_OMZmgY",
        "outputId": "9aebd96b-b4bf-4956-b689-16d905f9a05d"
      },
      "outputs": [
        {
          "name": "stdout",
          "output_type": "stream",
          "text": [
            "[0.01, 0.7606701609883939, 0.7589820359281437, 0.7537425149700598]\n",
            "[[1.00000000e-03 1.00000000e-02 1.00000000e-01 1.00000000e+00\n",
            "  1.00000000e+01 1.00000000e+02 1.00000000e+03]\n",
            " [4.73137402e-01 7.60670161e-01 8.04473980e-01 9.26525646e-01\n",
            "  9.78098091e-01 9.97004867e-01 9.98408836e-01]\n",
            " [4.65568862e-01 7.58982036e-01 7.91916168e-01 8.77994012e-01\n",
            "  8.87724551e-01 8.70508982e-01 8.54041916e-01]\n",
            " [4.82784431e-01 7.53742515e-01 7.97904192e-01 8.85479042e-01\n",
            "  8.91467066e-01 8.71257485e-01 8.63772455e-01]]\n"
          ]
        }
      ],
      "source": [
        "print(result[1])\n",
        "result=np.array(result).T\n",
        "print(result)"
      ]
    },
    {
      "cell_type": "code",
      "execution_count": null,
      "metadata": {
        "colab": {
          "background_save": true
        },
        "id": "vdFrgF21F1U8"
      },
      "outputs": [],
      "source": [
        "result=np.array(result).T\n",
        "plt.plot(result[0],result[1],label='train')\n",
        "plt.plot(result[0],result[2],label='valid')\n",
        "plt.plot(result[0],result[3],label='test')\n",
        "plt.ylim(0,1.1)\n",
        "plt.xlim(10**(-6),10**5)\n",
        "plt.ylabel('Accuracy')\n",
        "plt.xscale('log')\n",
        "plt.xlabel('C')\n",
        "plt.legend()\n",
        "plt.show()"
      ]
    },
    {
      "cell_type": "markdown",
      "metadata": {
        "id": "sWS-gHt_JQGZ"
      },
      "source": [
        "59. ハイパーパラメータの探索"
      ]
    },
    {
      "cell_type": "code",
      "execution_count": null,
      "metadata": {
        "colab": {
          "background_save": true
        },
        "id": "pJ1cwlwmJJS6"
      },
      "outputs": [],
      "source": [
        "!pip install optuna"
      ]
    },
    {
      "cell_type": "code",
      "execution_count": null,
      "metadata": {
        "colab": {
          "background_save": true
        },
        "id": "EGk3dFgEJRlK"
      },
      "outputs": [],
      "source": [
        "def objective_lg(trial):\n",
        "  l1_ratio=trial.suggest_uniform('l1_ratio',0,1)\n",
        "  C=trial.suggest_uniform('C',1e-4,1e4)\n",
        "\n",
        "  lg=LogisticRegression(random_state=123,max_iter=10000,penalty='elasticnet',solver='saga',l1_ratio=l1_ratio,C=C)\n",
        "  lg.fit(X_train,train['CATEGORY'])\n",
        "  valid_pred=score_lg(lg,X_valid)\n",
        "  valid_accuracy=accuracy_score(valid['CATEGORY'],valid_pred[1])\n",
        "  return valid_accuracy"
      ]
    },
    {
      "cell_type": "code",
      "execution_count": null,
      "metadata": {
        "colab": {
          "background_save": true
        },
        "id": "9xJwxlr3UF0Y",
        "outputId": "0b15aa26-950d-458e-a188-99b7890d6c17"
      },
      "outputs": [
        {
          "name": "stderr",
          "output_type": "stream",
          "text": [
            "\u001b[32m[I 2021-11-15 12:34:49,341]\u001b[0m A new study created in memory with name: no-name-ddec93e8-bcab-42be-9462-83742d5cd00a\u001b[0m\n",
            "\u001b[32m[I 2021-11-15 13:19:35,601]\u001b[0m Trial 0 finished with value: 0.8532934131736527 and parameters: {'l1_ratio': 0.8475355126958377, 'C': 2908.7565090650137}. Best is trial 0 with value: 0.8532934131736527.\u001b[0m\n",
            "\u001b[32m[I 2021-11-15 13:53:08,133]\u001b[0m Trial 1 finished with value: 0.8547904191616766 and parameters: {'l1_ratio': 0.48867813785740133, 'C': 3066.844889610886}. Best is trial 1 with value: 0.8547904191616766.\u001b[0m\n"
          ]
        },
        {
          "name": "stdout",
          "output_type": "stream",
          "text": [
            "best trial:\n",
            " value:0.8547904191616766\n",
            " params:\n",
            "   l1_ratio:('l1_ratio', 0.48867813785740133)\n",
            "   C:('C', 3066.844889610886)\n"
          ]
        }
      ],
      "source": [
        "study=optuna.create_study(direction='maximize')\n",
        "study.optimize(objective_lg,timeout=3600)\n",
        "trial=study.best_trial\n",
        "print('best trial:')\n",
        "print(f.' value:{trial.value}')\n",
        "print(f.' params:')\n",
        "l1_ratio,C = trial.params.items()\n",
        "  print(f.'   l1_ratio:{l1_ratio}')\n",
        "  print(f.'   C:{C}')"
      ]
    },
    {
      "cell_type": "code",
      "execution_count": null,
      "metadata": {
        "colab": {
          "background_save": true
        },
        "id": "Ypzz9K1SVIF6",
        "outputId": "42af0a44-2aec-4659-c475-c79c6cd30a8e"
      },
      "outputs": [
        {
          "ename": "TypeError",
          "evalue": "ignored",
          "output_type": "error",
          "traceback": [
            "\u001b[0;31m---------------------------------------------------------------------------\u001b[0m",
            "\u001b[0;31mTypeError\u001b[0m                                 Traceback (most recent call last)",
            "\u001b[0;32m<ipython-input-35-b31f82b21c03>\u001b[0m in \u001b[0;36m<module>\u001b[0;34m()\u001b[0m\n\u001b[1;32m      1\u001b[0m \u001b[0mlg\u001b[0m\u001b[0;34m=\u001b[0m\u001b[0mLogisticRegression\u001b[0m\u001b[0;34m(\u001b[0m\u001b[0mrandom_state\u001b[0m\u001b[0;34m=\u001b[0m\u001b[0;36m123\u001b[0m\u001b[0;34m,\u001b[0m\u001b[0mmax_iter\u001b[0m\u001b[0;34m=\u001b[0m\u001b[0;36m10000\u001b[0m\u001b[0;34m,\u001b[0m\u001b[0mpenalty\u001b[0m\u001b[0;34m=\u001b[0m\u001b[0;34m'elasticnet'\u001b[0m\u001b[0;34m,\u001b[0m\u001b[0msolver\u001b[0m\u001b[0;34m=\u001b[0m\u001b[0;34m'saga'\u001b[0m\u001b[0;34m,\u001b[0m\u001b[0ml1_ratio\u001b[0m\u001b[0;34m=\u001b[0m\u001b[0ml1_ratio\u001b[0m\u001b[0;34m,\u001b[0m\u001b[0mC\u001b[0m\u001b[0;34m=\u001b[0m\u001b[0mC\u001b[0m\u001b[0;34m)\u001b[0m\u001b[0;34m\u001b[0m\u001b[0;34m\u001b[0m\u001b[0m\n\u001b[0;32m----> 2\u001b[0;31m \u001b[0mlg\u001b[0m\u001b[0;34m.\u001b[0m\u001b[0mfit\u001b[0m\u001b[0;34m(\u001b[0m\u001b[0mX_train\u001b[0m\u001b[0;34m,\u001b[0m\u001b[0mtrain\u001b[0m\u001b[0;34m[\u001b[0m\u001b[0;34m'CATEGORY'\u001b[0m\u001b[0;34m]\u001b[0m\u001b[0;34m)\u001b[0m\u001b[0;34m\u001b[0m\u001b[0;34m\u001b[0m\u001b[0m\n\u001b[0m\u001b[1;32m      3\u001b[0m \u001b[0mtrain_pred\u001b[0m\u001b[0;34m=\u001b[0m\u001b[0mscore_lg\u001b[0m\u001b[0;34m(\u001b[0m\u001b[0mlg\u001b[0m\u001b[0;34m,\u001b[0m\u001b[0mX_train\u001b[0m\u001b[0;34m)\u001b[0m\u001b[0;34m\u001b[0m\u001b[0;34m\u001b[0m\u001b[0m\n\u001b[1;32m      4\u001b[0m \u001b[0mvalid_pred\u001b[0m\u001b[0;34m=\u001b[0m\u001b[0mscore_lg\u001b[0m\u001b[0;34m(\u001b[0m\u001b[0mlg\u001b[0m\u001b[0;34m,\u001b[0m\u001b[0mX_valid\u001b[0m\u001b[0;34m)\u001b[0m\u001b[0;34m\u001b[0m\u001b[0;34m\u001b[0m\u001b[0m\n\u001b[1;32m      5\u001b[0m \u001b[0mtest_pred\u001b[0m\u001b[0;34m=\u001b[0m\u001b[0mscore_lg\u001b[0m\u001b[0;34m(\u001b[0m\u001b[0mlg\u001b[0m\u001b[0;34m,\u001b[0m\u001b[0mX_test\u001b[0m\u001b[0;34m)\u001b[0m\u001b[0;34m\u001b[0m\u001b[0;34m\u001b[0m\u001b[0m\n",
            "\u001b[0;32m/usr/local/lib/python3.7/dist-packages/sklearn/linear_model/_logistic.py\u001b[0m in \u001b[0;36mfit\u001b[0;34m(self, X, y, sample_weight)\u001b[0m\n\u001b[1;32m   1490\u001b[0m         \u001b[0;32mif\u001b[0m \u001b[0;32mnot\u001b[0m \u001b[0misinstance\u001b[0m\u001b[0;34m(\u001b[0m\u001b[0mself\u001b[0m\u001b[0;34m.\u001b[0m\u001b[0mC\u001b[0m\u001b[0;34m,\u001b[0m \u001b[0mnumbers\u001b[0m\u001b[0;34m.\u001b[0m\u001b[0mNumber\u001b[0m\u001b[0;34m)\u001b[0m \u001b[0;32mor\u001b[0m \u001b[0mself\u001b[0m\u001b[0;34m.\u001b[0m\u001b[0mC\u001b[0m \u001b[0;34m<\u001b[0m \u001b[0;36m0\u001b[0m\u001b[0;34m:\u001b[0m\u001b[0;34m\u001b[0m\u001b[0;34m\u001b[0m\u001b[0m\n\u001b[1;32m   1491\u001b[0m             raise ValueError(\"Penalty term must be positive; got (C=%r)\"\n\u001b[0;32m-> 1492\u001b[0;31m                              % self.C)\n\u001b[0m\u001b[1;32m   1493\u001b[0m         \u001b[0;32mif\u001b[0m \u001b[0mself\u001b[0m\u001b[0;34m.\u001b[0m\u001b[0mpenalty\u001b[0m \u001b[0;34m==\u001b[0m \u001b[0;34m'elasticnet'\u001b[0m\u001b[0;34m:\u001b[0m\u001b[0;34m\u001b[0m\u001b[0;34m\u001b[0m\u001b[0m\n\u001b[1;32m   1494\u001b[0m             if (not isinstance(self.l1_ratio, numbers.Number) or\n",
            "\u001b[0;31mTypeError\u001b[0m: not all arguments converted during string formatting"
          ]
        }
      ],
      "source": [
        "lg=LogisticRegression(random_state=123,max_iter=10000,penalty='elasticnet',solver='saga',l1_ratio=l1_ratio,C=C)\n",
        "lg.fit(X_train,train['CATEGORY'])\n",
        "train_pred=score_lg(lg,X_train)\n",
        "valid_pred=score_lg(lg,X_valid)\n",
        "test_pred=score_lg(lg,X_test)\n",
        "\n",
        "train_accuracy=accuracy_score(train['CATEGORY'],train_pred[1])\n",
        "valid_accuracy=accuracy_score(valid['CATEGORY'],valid_pred[1])\n",
        "test_accuracy=accuracy_score(test['CATEGORY'],test_pred[1])\n",
        "\n",
        "print(f'train_accuracy : {train_accuracy}')\n",
        "print(f'valid_accuracy : {valid_accuracy}')\n",
        "print(f'test_accuracy : {test_accuracy}')\n"
      ]
    },
    {
      "cell_type": "markdown",
      "metadata": {
        "id": "31wj66v_XVqf"
      },
      "source": [
        ""
      ]
    },
    {
      "cell_type": "code",
      "execution_count": null,
      "metadata": {
        "colab": {
          "background_save": true
        },
        "id": "5czQYoP1YbQ5"
      },
      "outputs": [],
      "source": [
        "!pip install xgboost\n",
        "import xgboost as xgb"
      ]
    },
    {
      "cell_type": "code",
      "execution_count": null,
      "metadata": {
        "colab": {
          "background_save": true
        },
        "id": "XiRl3RSWYfwn"
      },
      "outputs": [],
      "source": [
        "params={\n",
        "    'objective':'multi:softmax',\n",
        "    'num_class':4,\n",
        "    'eval_metric':'mlogloss',\n",
        "    'colsample_bytree':1.0,\n",
        "    'colsample_bylevel':0.5,\n",
        "    'min_child_weight':1,\n",
        "    'sabsample':0.9,\n",
        "    'eta':0.1,\n",
        "    'max_depth':5,\n",
        "    'gamma':0.0,\n",
        "    'alpha':0.0,\n",
        "    'lambda':1.0,\n",
        "    'num_round':1000,\n",
        "    'early_stopping_rounds':50,\n",
        "    'verbosity':0\n",
        "}\n",
        "\n",
        "category_dict={'b':0,'e':1,'t':2,'m':3}\n",
        "y_train=train['CATEGORY'].map(lambda x:category_dict[x])\n",
        "y_valid=valid['CATEGORY'].map(lambda x:category_dict[x])\n",
        "y_test=test['CATEGORY'].map(lambda x:category_dict[x])\n",
        "dtrain=xgb.DMatrix(X_train,label=y_train)\n",
        "dvalid=xgb.DMatrix(X_valid,label=y_valid)\n",
        "dtest=xgb.DMatrix(X_test,label=y_test)\n",
        "\n",
        "num_round=params.pop('num_round')\n",
        "early_stopping_rounds=params.pop('early_stopping_rounds')\n",
        "watchlist=[[dtrain,'train'],[dvalid,'eval']]\n",
        "model=xgb.train(params,drain,num_round,evals=watchlist,early_stopping_rounds=early_stopping_rounds)"
      ]
    },
    {
      "cell_type": "code",
      "execution_count": null,
      "metadata": {
        "colab": {
          "background_save": true
        },
        "id": "EJ5MGQMYdXQm"
      },
      "outputs": [],
      "source": [
        "train_pred=model.predict(dtain,ntree_limit=model.best_ntree_limit)\n",
        "valid_pred=model.predict(dvalid,ntree_limit=model.best_ntree_limit)\n",
        "test_pred=model.predict(dtest,ntree_limit=model.best_ntree_limit)\n",
        "\n",
        "train_accuracy=accuracy_score(y_train,train_pred)\n",
        "valid_accuracy=accuracy_score(y_valid,valid_pred)\n",
        "test_accuracy=accuracy_score(y_test,test_pred)\n",
        "\n",
        "print(f'train_accuracy : {train_accuracy}')\n",
        "print(f'valid_accuracy : {valid_accuracy}')\n",
        "print(f'test_accuracy : {test_accuracy}')"
      ]
    },
    {
      "cell_type": "code",
      "execution_count": null,
      "metadata": {
        "colab": {
          "background_save": true
        },
        "id": "8ph6O3Y8extD"
      },
      "outputs": [],
      "source": [
        ""
      ]
    }
  ],
  "metadata": {
    "colab": {
      "collapsed_sections": [],
      "name": "nlp_100_chap6.ipynb",
      "provenance": [],
      "authorship_tag": "ABX9TyPdUh+o4DQtTzDXeoVOB1Z0",
      "include_colab_link": true
    },
    "kernelspec": {
      "display_name": "Python 3",
      "name": "python3"
    },
    "language_info": {
      "name": "python"
    }
  },
  "nbformat": 4,
  "nbformat_minor": 0
}