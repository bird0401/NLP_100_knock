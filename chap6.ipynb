{
  "cells": [
    {
      "cell_type": "markdown",
      "metadata": {
        "id": "view-in-github",
        "colab_type": "text"
      },
      "source": [
        "<a href=\"https://colab.research.google.com/github/mot1122/NLP_100_knock/blob/main/chap6.ipynb\" target=\"_parent\"><img src=\"https://colab.research.google.com/assets/colab-badge.svg\" alt=\"Open In Colab\"/></a>"
      ]
    },
    {
      "cell_type": "markdown",
      "metadata": {
        "id": "mf-1ig-pMhjF"
      },
      "source": [
        "第6章: 機械学習\n",
        "本章では，Fabio Gasparetti氏が公開しているNews Aggregator Data Setを用い，ニュース記事の見出しを「ビジネス」「科学技術」「エンターテイメント」「健康」のカテゴリに分類するタスク（カテゴリ分類）に取り組む．"
      ]
    },
    {
      "cell_type": "markdown",
      "metadata": {
        "id": "FETI__6AvMOz"
      },
      "source": [
        "50 News Aggregator Data Setをダウンロードし、以下の要領で学習データ（train.txt），検証データ（valid.txt），評価データ（test.txt）を作成せよ．\n",
        "\n",
        "ダウンロードしたzipファイルを解凍し，readme.txtの説明を読む．\n",
        "情報源（publisher）が”Reuters”, “Huffington Post”, “Businessweek”, “Contactmusic.com”, “Daily Mail”の事例（記事）のみを抽出する．\n",
        "抽出された事例をランダムに並び替える．\n",
        "抽出された事例の80%を学習データ，残りの10%ずつを検証データと評価データに分割し，それぞれtrain.txt，valid.txt，test.txtというファイル名で保存する．ファイルには，１行に１事例を書き出すこととし，カテゴリ名と記事見出しのタブ区切り形式とせよ（このファイルは後に問題70で再利用する）．\n",
        "学習データと評価データを作成したら，各カテゴリの事例数を確認せよ．"
      ]
    },
    {
      "cell_type": "code",
      "execution_count": 1,
      "metadata": {
        "colab": {
          "base_uri": "https://localhost:8080/"
        },
        "id": "3EnESbP9L9dj",
        "outputId": "1dc39f66-fcb5-44ff-de09-a5d2a832f343"
      },
      "outputs": [
        {
          "output_type": "stream",
          "name": "stdout",
          "text": [
            "--2022-01-23 10:27:05--  https://archive.ics.uci.edu/ml/machine-learning-databases/00359/NewsAggregatorDataset.zip\n",
            "Resolving archive.ics.uci.edu (archive.ics.uci.edu)... 128.195.10.252\n",
            "Connecting to archive.ics.uci.edu (archive.ics.uci.edu)|128.195.10.252|:443... connected.\n",
            "HTTP request sent, awaiting response... 200 OK\n",
            "Length: 29224203 (28M) [application/x-httpd-php]\n",
            "Saving to: ‘NewsAggregatorDataset.zip’\n",
            "\n",
            "NewsAggregatorDatas 100%[===================>]  27.87M  21.8MB/s    in 1.3s    \n",
            "\n",
            "2022-01-23 10:27:07 (21.8 MB/s) - ‘NewsAggregatorDataset.zip’ saved [29224203/29224203]\n",
            "\n"
          ]
        }
      ],
      "source": [
        "!wget https://archive.ics.uci.edu/ml/machine-learning-databases/00359/NewsAggregatorDataset.zip"
      ]
    },
    {
      "cell_type": "code",
      "execution_count": 2,
      "metadata": {
        "colab": {
          "base_uri": "https://localhost:8080/"
        },
        "id": "oLo85CGvMFU4",
        "outputId": "ad5feec0-fb36-4231-cda1-5af589d773a7"
      },
      "outputs": [
        {
          "output_type": "stream",
          "name": "stdout",
          "text": [
            "Archive:  NewsAggregatorDataset.zip\n",
            "  inflating: 2pageSessions.csv       \n",
            "   creating: __MACOSX/\n",
            "  inflating: __MACOSX/._2pageSessions.csv  \n",
            "  inflating: newsCorpora.csv         \n",
            "  inflating: __MACOSX/._newsCorpora.csv  \n",
            "  inflating: readme.txt              \n",
            "  inflating: __MACOSX/._readme.txt   \n"
          ]
        }
      ],
      "source": [
        "!unzip NewsAggregatorDataset.zip"
      ]
    },
    {
      "cell_type": "code",
      "execution_count": 3,
      "metadata": {
        "colab": {
          "base_uri": "https://localhost:8080/"
        },
        "id": "DENSskwZMLCL",
        "outputId": "5e055d2c-3ac9-4f48-8a61-967524c944b3"
      },
      "outputs": [
        {
          "output_type": "stream",
          "name": "stdout",
          "text": [
            "422937 ./newsCorpora.csv\n"
          ]
        }
      ],
      "source": [
        "# 行数の確認\n",
        "!wc -l ./newsCorpora.csv"
      ]
    },
    {
      "cell_type": "code",
      "execution_count": 4,
      "metadata": {
        "colab": {
          "base_uri": "https://localhost:8080/"
        },
        "id": "MtVyeTDJMpDe",
        "outputId": "ccb1f56a-c54d-4e11-81cf-04cb533c4bcd"
      },
      "outputs": [
        {
          "output_type": "stream",
          "name": "stdout",
          "text": [
            "1\tFed official says weak data caused by weather, should not slow taper\thttp://www.latimes.com/business/money/la-fi-mo-federal-reserve-plosser-stimulus-economy-20140310,0,1312750.story\\?track=rss\tLos Angeles Times\tb\tddUyU0VZz0BRneMioxUPQVP6sIxvM\twww.latimes.com\t1394470370698\n",
            "2\tFed's Charles Plosser sees high bar for change in pace of tapering\thttp://www.livemint.com/Politics/H2EvwJSK2VE6OF7iK1g3PP/Feds-Charles-Plosser-sees-high-bar-for-change-in-pace-of-ta.html\tLivemint\tb\tddUyU0VZz0BRneMioxUPQVP6sIxvM\twww.livemint.com\t1394470371207\n",
            "3\tUS open: Stocks fall after Fed official hints at accelerated tapering\thttp://www.ifamagazine.com/news/us-open-stocks-fall-after-fed-official-hints-at-accelerated-tapering-294436\tIFA Magazine\tb\tddUyU0VZz0BRneMioxUPQVP6sIxvM\twww.ifamagazine.com\t1394470371550\n",
            "4\tFed risks falling 'behind the curve', Charles Plosser says\thttp://www.ifamagazine.com/news/fed-risks-falling-behind-the-curve-charles-plosser-says-294430\tIFA Magazine\tb\tddUyU0VZz0BRneMioxUPQVP6sIxvM\twww.ifamagazine.com\t1394470371793\n",
            "5\tFed's Plosser: Nasty Weather Has Curbed Job Growth\thttp://www.moneynews.com/Economy/federal-reserve-charles-plosser-weather-job-growth/2014/03/10/id/557011\tMoneynews\tb\tddUyU0VZz0BRneMioxUPQVP6sIxvM\twww.moneynews.com\t1394470372027\n"
          ]
        }
      ],
      "source": [
        "!head -5 ./newsCorpora.csv"
      ]
    },
    {
      "cell_type": "code",
      "execution_count": 5,
      "metadata": {
        "id": "ffT2IAZfNA3H"
      },
      "outputs": [],
      "source": [
        "!sed -e 's/\"/'\\''/g' ./newsCorpora.csv > ./newsCorpora_re.csv"
      ]
    },
    {
      "cell_type": "code",
      "execution_count": 6,
      "metadata": {
        "id": "yRc6Eca6PcfF"
      },
      "outputs": [],
      "source": [
        "import pandas as pd\n",
        "from sklearn.model_selection import train_test_split\n",
        "\n",
        "df=pd.read_csv('./newsCorpora_re.csv',header=None,sep='\\t',names=['ID', 'TITLE', 'URL', 'PUBLISHER', 'CATEGORY', 'STORY', 'HOSTNAME', 'TIMESTAMP'])"
      ]
    },
    {
      "cell_type": "code",
      "execution_count": 7,
      "metadata": {
        "colab": {
          "base_uri": "https://localhost:8080/",
          "height": 226
        },
        "id": "inaoPmLZRWH3",
        "outputId": "6fa3aa74-d8b3-4260-8291-f8f1abbd10e4"
      },
      "outputs": [
        {
          "output_type": "execute_result",
          "data": {
            "text/html": [
              "\n",
              "  <div id=\"df-50d7dbdc-2bdf-4e7d-80a3-45e9f38332e5\">\n",
              "    <div class=\"colab-df-container\">\n",
              "      <div>\n",
              "<style scoped>\n",
              "    .dataframe tbody tr th:only-of-type {\n",
              "        vertical-align: middle;\n",
              "    }\n",
              "\n",
              "    .dataframe tbody tr th {\n",
              "        vertical-align: top;\n",
              "    }\n",
              "\n",
              "    .dataframe thead th {\n",
              "        text-align: right;\n",
              "    }\n",
              "</style>\n",
              "<table border=\"1\" class=\"dataframe\">\n",
              "  <thead>\n",
              "    <tr style=\"text-align: right;\">\n",
              "      <th></th>\n",
              "      <th>ID</th>\n",
              "      <th>TITLE</th>\n",
              "      <th>URL</th>\n",
              "      <th>PUBLISHER</th>\n",
              "      <th>CATEGORY</th>\n",
              "      <th>STORY</th>\n",
              "      <th>HOSTNAME</th>\n",
              "      <th>TIMESTAMP</th>\n",
              "    </tr>\n",
              "  </thead>\n",
              "  <tbody>\n",
              "    <tr>\n",
              "      <th>0</th>\n",
              "      <td>1</td>\n",
              "      <td>Fed official says weak data caused by weather,...</td>\n",
              "      <td>http://www.latimes.com/business/money/la-fi-mo...</td>\n",
              "      <td>Los Angeles Times</td>\n",
              "      <td>b</td>\n",
              "      <td>ddUyU0VZz0BRneMioxUPQVP6sIxvM</td>\n",
              "      <td>www.latimes.com</td>\n",
              "      <td>1394470370698</td>\n",
              "    </tr>\n",
              "    <tr>\n",
              "      <th>1</th>\n",
              "      <td>2</td>\n",
              "      <td>Fed's Charles Plosser sees high bar for change...</td>\n",
              "      <td>http://www.livemint.com/Politics/H2EvwJSK2VE6O...</td>\n",
              "      <td>Livemint</td>\n",
              "      <td>b</td>\n",
              "      <td>ddUyU0VZz0BRneMioxUPQVP6sIxvM</td>\n",
              "      <td>www.livemint.com</td>\n",
              "      <td>1394470371207</td>\n",
              "    </tr>\n",
              "  </tbody>\n",
              "</table>\n",
              "</div>\n",
              "      <button class=\"colab-df-convert\" onclick=\"convertToInteractive('df-50d7dbdc-2bdf-4e7d-80a3-45e9f38332e5')\"\n",
              "              title=\"Convert this dataframe to an interactive table.\"\n",
              "              style=\"display:none;\">\n",
              "        \n",
              "  <svg xmlns=\"http://www.w3.org/2000/svg\" height=\"24px\"viewBox=\"0 0 24 24\"\n",
              "       width=\"24px\">\n",
              "    <path d=\"M0 0h24v24H0V0z\" fill=\"none\"/>\n",
              "    <path d=\"M18.56 5.44l.94 2.06.94-2.06 2.06-.94-2.06-.94-.94-2.06-.94 2.06-2.06.94zm-11 1L8.5 8.5l.94-2.06 2.06-.94-2.06-.94L8.5 2.5l-.94 2.06-2.06.94zm10 10l.94 2.06.94-2.06 2.06-.94-2.06-.94-.94-2.06-.94 2.06-2.06.94z\"/><path d=\"M17.41 7.96l-1.37-1.37c-.4-.4-.92-.59-1.43-.59-.52 0-1.04.2-1.43.59L10.3 9.45l-7.72 7.72c-.78.78-.78 2.05 0 2.83L4 21.41c.39.39.9.59 1.41.59.51 0 1.02-.2 1.41-.59l7.78-7.78 2.81-2.81c.8-.78.8-2.07 0-2.86zM5.41 20L4 18.59l7.72-7.72 1.47 1.35L5.41 20z\"/>\n",
              "  </svg>\n",
              "      </button>\n",
              "      \n",
              "  <style>\n",
              "    .colab-df-container {\n",
              "      display:flex;\n",
              "      flex-wrap:wrap;\n",
              "      gap: 12px;\n",
              "    }\n",
              "\n",
              "    .colab-df-convert {\n",
              "      background-color: #E8F0FE;\n",
              "      border: none;\n",
              "      border-radius: 50%;\n",
              "      cursor: pointer;\n",
              "      display: none;\n",
              "      fill: #1967D2;\n",
              "      height: 32px;\n",
              "      padding: 0 0 0 0;\n",
              "      width: 32px;\n",
              "    }\n",
              "\n",
              "    .colab-df-convert:hover {\n",
              "      background-color: #E2EBFA;\n",
              "      box-shadow: 0px 1px 2px rgba(60, 64, 67, 0.3), 0px 1px 3px 1px rgba(60, 64, 67, 0.15);\n",
              "      fill: #174EA6;\n",
              "    }\n",
              "\n",
              "    [theme=dark] .colab-df-convert {\n",
              "      background-color: #3B4455;\n",
              "      fill: #D2E3FC;\n",
              "    }\n",
              "\n",
              "    [theme=dark] .colab-df-convert:hover {\n",
              "      background-color: #434B5C;\n",
              "      box-shadow: 0px 1px 3px 1px rgba(0, 0, 0, 0.15);\n",
              "      filter: drop-shadow(0px 1px 2px rgba(0, 0, 0, 0.3));\n",
              "      fill: #FFFFFF;\n",
              "    }\n",
              "  </style>\n",
              "\n",
              "      <script>\n",
              "        const buttonEl =\n",
              "          document.querySelector('#df-50d7dbdc-2bdf-4e7d-80a3-45e9f38332e5 button.colab-df-convert');\n",
              "        buttonEl.style.display =\n",
              "          google.colab.kernel.accessAllowed ? 'block' : 'none';\n",
              "\n",
              "        async function convertToInteractive(key) {\n",
              "          const element = document.querySelector('#df-50d7dbdc-2bdf-4e7d-80a3-45e9f38332e5');\n",
              "          const dataTable =\n",
              "            await google.colab.kernel.invokeFunction('convertToInteractive',\n",
              "                                                     [key], {});\n",
              "          if (!dataTable) return;\n",
              "\n",
              "          const docLinkHtml = 'Like what you see? Visit the ' +\n",
              "            '<a target=\"_blank\" href=https://colab.research.google.com/notebooks/data_table.ipynb>data table notebook</a>'\n",
              "            + ' to learn more about interactive tables.';\n",
              "          element.innerHTML = '';\n",
              "          dataTable['output_type'] = 'display_data';\n",
              "          await google.colab.output.renderOutput(dataTable, element);\n",
              "          const docLink = document.createElement('div');\n",
              "          docLink.innerHTML = docLinkHtml;\n",
              "          element.appendChild(docLink);\n",
              "        }\n",
              "      </script>\n",
              "    </div>\n",
              "  </div>\n",
              "  "
            ],
            "text/plain": [
              "   ID  ...      TIMESTAMP\n",
              "0   1  ...  1394470370698\n",
              "1   2  ...  1394470371207\n",
              "\n",
              "[2 rows x 8 columns]"
            ]
          },
          "metadata": {},
          "execution_count": 7
        }
      ],
      "source": [
        "df.head(2)"
      ]
    },
    {
      "cell_type": "code",
      "execution_count": 8,
      "metadata": {
        "id": "eI83BvnSRdvs"
      },
      "outputs": [],
      "source": [
        "pd.set_option(\"display.max_columns\",5)\n",
        "pd.set_option(\"display.max_rows\",5)"
      ]
    },
    {
      "cell_type": "code",
      "execution_count": 9,
      "metadata": {
        "id": "pb1ODUQQUh4h"
      },
      "outputs": [],
      "source": [
        "df=df.loc[df[\"PUBLISHER\"].isin([\"Reuters\", \"Huffington Post\", \"Businessweek\", \"Contactmusic.com\", \"Daily Mail\"]),[\"TITLE\",\"CATEGORY\"]]"
      ]
    },
    {
      "cell_type": "code",
      "execution_count": 10,
      "metadata": {
        "id": "BUt4cLGoU7Up"
      },
      "outputs": [],
      "source": [
        "train,valid_test=train_test_split(df,test_size=0.2,shuffle=True,random_state=123,stratify=df['CATEGORY'])\n",
        "valid,test=train_test_split(valid_test,test_size=0.5,shuffle=True,random_state=123,stratify=valid_test['CATEGORY'])"
      ]
    },
    {
      "cell_type": "code",
      "execution_count": 11,
      "metadata": {
        "id": "0ncKBgCTVsN4"
      },
      "outputs": [],
      "source": [
        "train.to_csv('./train.txt',sep='\\t',index=False)\n",
        "valid.to_csv('./valid.txt',sep='\\t',index=False)\n",
        "test.to_csv('./test.txt',sep='\\t',index=False)"
      ]
    },
    {
      "cell_type": "code",
      "execution_count": 12,
      "metadata": {
        "colab": {
          "base_uri": "https://localhost:8080/"
        },
        "id": "PJWTj66UspIz",
        "outputId": "92a2834c-a8ad-4b00-ba92-2cc3593fae1e"
      },
      "outputs": [
        {
          "output_type": "stream",
          "name": "stdout",
          "text": [
            "[train]\n",
            "b    4501\n",
            "e    4235\n",
            "t    1220\n",
            "m     728\n",
            "Name: CATEGORY, dtype: int64\n",
            "\n",
            "[valid]\n",
            "b    563\n",
            "e    529\n",
            "t    153\n",
            "m     91\n",
            "Name: CATEGORY, dtype: int64\n",
            "\n",
            "[test]\n",
            "b    563\n",
            "e    530\n",
            "t    152\n",
            "m     91\n",
            "Name: CATEGORY, dtype: int64\n",
            "\n"
          ]
        }
      ],
      "source": [
        "print(\"[train]\")\n",
        "print(train['CATEGORY'].value_counts())\n",
        "print()\n",
        "print('[valid]')\n",
        "print(valid['CATEGORY'].value_counts())\n",
        "print()\n",
        "print('[test]')\n",
        "print(test['CATEGORY'].value_counts())\n",
        "print()"
      ]
    },
    {
      "cell_type": "markdown",
      "metadata": {
        "id": "io6PKPBkvPSS"
      },
      "source": [
        "51 特徴量抽出"
      ]
    },
    {
      "cell_type": "code",
      "execution_count": 13,
      "metadata": {
        "id": "31gKQObXxOG-"
      },
      "outputs": [],
      "source": [
        "import string\n",
        "import re\n",
        "\n",
        "def preprocessing(text):\n",
        "  table=str.maketrans(string.punctuation,\" \"*len(string.punctuation))\n",
        "  text=text.translate(table)\n",
        "  text=text.lower()\n",
        "  text=re.sub(\"[0-9]+\",\"0\",text)\n",
        "  return text"
      ]
    },
    {
      "cell_type": "code",
      "execution_count": 14,
      "metadata": {
        "id": "JOSIiMXF1vnx"
      },
      "outputs": [],
      "source": [
        "df=pd.concat([train,valid,test],axis=0)\n",
        "df.reset_index(drop=True,inplace=True)\n",
        "df['TITLE']=df['TITLE'].map(lambda x:preprocessing(x))"
      ]
    },
    {
      "cell_type": "code",
      "execution_count": 15,
      "metadata": {
        "id": "XjG9CbTDYZZq"
      },
      "outputs": [],
      "source": [
        "from sklearn.feature_extraction.text import TfidfVectorizer\n",
        "\n",
        "train_valid=df[:len(train)+len(valid)]\n",
        "test=df[len(train)+len(valid):]\n",
        "\n",
        "vec_tfidf=TfidfVectorizer(min_df=10, ngram_range=(1,2))\n",
        "X_train_valid=vec_tfidf.fit_transform(train_valid[\"TITLE\"])\n",
        "X_test=vec_tfidf.transform(test[\"TITLE\"])"
      ]
    },
    {
      "cell_type": "code",
      "execution_count": 16,
      "metadata": {
        "colab": {
          "base_uri": "https://localhost:8080/"
        },
        "id": "SYOFEAMCaO7x",
        "outputId": "fdde691e-95a6-4266-be55-34d48754c854"
      },
      "outputs": [
        {
          "output_type": "stream",
          "name": "stderr",
          "text": [
            "/usr/local/lib/python3.7/dist-packages/sklearn/utils/deprecation.py:87: FutureWarning: Function get_feature_names is deprecated; get_feature_names is deprecated in 1.0 and will be removed in 1.2. Please use get_feature_names_out instead.\n",
            "  warnings.warn(msg, category=FutureWarning)\n"
          ]
        }
      ],
      "source": [
        "X_train_valid=pd.DataFrame(X_train_valid.toarray(),columns=vec_tfidf.get_feature_names())\n",
        "X_test=pd.DataFrame(X_test.toarray(),columns=vec_tfidf.get_feature_names())"
      ]
    },
    {
      "cell_type": "code",
      "execution_count": 17,
      "metadata": {
        "id": "1Ljllu5F7_-1"
      },
      "outputs": [],
      "source": [
        "X_train=X_train_valid[:len(train)]\n",
        "X_valid=X_train_valid[len(train):]\n",
        "\n",
        "X_train.to_csv('./X_train.txt',sep='\\t',index=False)\n",
        "X_valid.to_csv('./X_valid.txt',sep='\\t',index=False)\n",
        "X_test.to_csv('./X_test.txt',sep='t',index=False)"
      ]
    },
    {
      "cell_type": "markdown",
      "metadata": {
        "id": "_zyJaBgZFquL"
      },
      "source": [
        "52 51で構築した学習データを用いて，ロジスティック回帰モデルを学習せよ．"
      ]
    },
    {
      "cell_type": "code",
      "execution_count": 18,
      "metadata": {
        "colab": {
          "base_uri": "https://localhost:8080/"
        },
        "id": "n8opKE-0DbRh",
        "outputId": "f0739078-4965-4746-f111-56c43b2d345e"
      },
      "outputs": [
        {
          "output_type": "execute_result",
          "data": {
            "text/plain": [
              "LogisticRegression(max_iter=10000, random_state=123)"
            ]
          },
          "metadata": {},
          "execution_count": 18
        }
      ],
      "source": [
        "from sklearn.linear_model import LogisticRegression\n",
        "\n",
        "lg=LogisticRegression(random_state=123,max_iter=10000)\n",
        "lg.fit(X_train,train['CATEGORY'])"
      ]
    },
    {
      "cell_type": "markdown",
      "metadata": {
        "id": "6MFmXnMjGG0p"
      },
      "source": [
        "53 52で学習したロジスティック回帰モデルを用い，与えられた記事見出しからカテゴリとその予測確率を計算するプログラムを実装せよ．"
      ]
    },
    {
      "cell_type": "code",
      "execution_count": 19,
      "metadata": {
        "id": "jmE0vjWQF4QR"
      },
      "outputs": [],
      "source": [
        "import numpy as np\n",
        "\n",
        "def score_lg(lg, X):\n",
        "  return [np.max(lg.predict_proba(X),axis=1),lg.predict(X)]"
      ]
    },
    {
      "cell_type": "code",
      "execution_count": 20,
      "metadata": {
        "id": "Y20rDScTIAEt"
      },
      "outputs": [],
      "source": [
        "train_pred=score_lg(lg,X_train)\n",
        "test_pred=score_lg(lg,X_test)"
      ]
    },
    {
      "cell_type": "code",
      "execution_count": 21,
      "metadata": {
        "colab": {
          "base_uri": "https://localhost:8080/"
        },
        "id": "NtU9K8m_IENK",
        "outputId": "68d7ada4-a585-4446-9659-4ef87157c0c4"
      },
      "outputs": [
        {
          "output_type": "stream",
          "name": "stdout",
          "text": [
            "[array([0.84027948, 0.67904336, 0.55638881, ..., 0.86051   , 0.61359296,\n",
            "       0.90828249]), array(['b', 't', 'm', ..., 'b', 'm', 'e'], dtype=object)]\n"
          ]
        }
      ],
      "source": [
        "print(train_pred)"
      ]
    },
    {
      "cell_type": "markdown",
      "metadata": {
        "id": "3z2BRMTlCLxF"
      },
      "source": [
        "54 52で学習したロジスティック回帰モデルの正解率を，学習データおよび評価データ上で計測せよ．"
      ]
    },
    {
      "cell_type": "code",
      "execution_count": 22,
      "metadata": {
        "id": "PqYJj5P1Jcuv"
      },
      "outputs": [],
      "source": [
        "from sklearn.metrics import accuracy_score\n",
        "\n",
        "train_accuracy = accuracy_score(train['CATEGORY'],train_pred[1])\n",
        "test_accuracy = accuracy_score(test['CATEGORY'],test_pred[1])"
      ]
    },
    {
      "cell_type": "code",
      "execution_count": 23,
      "metadata": {
        "colab": {
          "base_uri": "https://localhost:8080/"
        },
        "id": "cKRfecwXfjv5",
        "outputId": "07d7d093-982a-4a22-f61e-438fdc1c6040"
      },
      "outputs": [
        {
          "output_type": "stream",
          "name": "stdout",
          "text": [
            "正解率(trainデータ)：0.927\n",
            "正解率(testデータ)：0.885\n"
          ]
        }
      ],
      "source": [
        "print(f\"正解率(trainデータ)：{train_accuracy:.3f}\")\n",
        "print(f\"正解率(testデータ)：{test_accuracy:.3f}\")"
      ]
    },
    {
      "cell_type": "markdown",
      "metadata": {
        "id": "_-14IKLXCM6g"
      },
      "source": [
        "55 52で学習したロジスティック回帰モデルの混同行列（confusion matrix）を，学習データおよび評価データ上で作成せよ．"
      ]
    },
    {
      "cell_type": "code",
      "execution_count": 24,
      "metadata": {
        "id": "WZXWWBoohTxn"
      },
      "outputs": [],
      "source": [
        "from sklearn.metrics import confusion_matrix\n",
        "import seaborn as sns\n",
        "import matplotlib.pyplot as plt"
      ]
    },
    {
      "cell_type": "code",
      "execution_count": 25,
      "metadata": {
        "id": "mXduFvRYhdSB"
      },
      "outputs": [],
      "source": [
        "train_cm=confusion_matrix(train[\"CATEGORY\"],train_pred[1])"
      ]
    },
    {
      "cell_type": "code",
      "execution_count": 26,
      "metadata": {
        "colab": {
          "base_uri": "https://localhost:8080/"
        },
        "id": "Qy86eHYihtwO",
        "outputId": "64fbbf34-575b-411f-cd3c-58504c1fd4ff"
      },
      "outputs": [
        {
          "output_type": "stream",
          "name": "stdout",
          "text": [
            "[[4344   93    8   56]\n",
            " [  52 4173    2    8]\n",
            " [  96  125  494   13]\n",
            " [ 192  133    7  888]]\n"
          ]
        }
      ],
      "source": [
        "print(train_cm)"
      ]
    },
    {
      "cell_type": "code",
      "execution_count": 27,
      "metadata": {
        "colab": {
          "base_uri": "https://localhost:8080/",
          "height": 265
        },
        "id": "9B6EJcmlhvld",
        "outputId": "e1aedaec-e2a9-4686-cb3e-ea2725a4ebf9"
      },
      "outputs": [
        {
          "output_type": "display_data",
          "data": {
            "image/png": "[encoded data removed]",
            "text/plain": [
              "<Figure size 432x288 with 2 Axes>"
            ]
          },
          "metadata": {
            "needs_background": "light"
          }
        }
      ],
      "source": [
        "sns.heatmap(train_cm,annot=True,cmap=\"Blues\")\n",
        "plt.show()"
      ]
    },
    {
      "cell_type": "markdown",
      "metadata": {
        "id": "qgPW83HOCU9c"
      },
      "source": [
        "56 52で学習したロジスティック回帰モデルの適合率，再現率，F1スコアを，評価データ上で計測せよ．カテゴリごとに適合率，再現率，F1スコアを求め，カテゴリごとの性能をマイクロ平均（micro-average）とマクロ平均（macro-average）で統合せよ．"
      ]
    },
    {
      "cell_type": "code",
      "execution_count": 28,
      "metadata": {
        "id": "O7Y4PGfRjClk"
      },
      "outputs": [],
      "source": [
        "from sklearn.metrics import precision_score,recall_score,f1_score"
      ]
    },
    {
      "cell_type": "code",
      "execution_count": 29,
      "metadata": {
        "id": "a3Yhx-DjjLjX"
      },
      "outputs": [],
      "source": [
        "def culculate_scores(y_true,y_pred):\n",
        "  precision=precision_score(y_true,y_pred,average=None,labels=[\"b\",\"e\",\"t\",\"m\"])\n",
        "  precision=np.append(precision,precision_score(y_true,y_pred,average=\"micro\"))\n",
        "  precision=np.append(precision,precision_score(y_true,y_pred,average=\"macro\"))\n",
        "\n",
        "  recall=recall_score(y_true,y_pred,average=None,labels=[\"b\",\"e\",\"t\",\"m\"])\n",
        "  recall=np.append(recall,recall_score(y_true,y_pred,average=\"micro\"))\n",
        "  recall=np.append(recall,recall_score(y_true,y_pred,average=\"macro\"))\n",
        "\n",
        "  f1=f1_score(y_true,y_pred,average=None,labels=[\"b\",\"e\",\"t\",\"m\"])\n",
        "  f1=np.append(f1,f1_score(y_true,y_pred,average=\"micro\"))\n",
        "  f1=np.append(f1,f1_score(y_true,y_pred,average=\"macro\"))\n",
        "\n",
        "  scores=pd.DataFrame({\"precision\":precision, \"recall\":recall, \"f1\":f1},index=['b', 'e', 't', 'm', 'micro', 'macro'])\n",
        "\n",
        "  return scores"
      ]
    },
    {
      "cell_type": "code",
      "execution_count": 30,
      "metadata": {
        "colab": {
          "base_uri": "https://localhost:8080/"
        },
        "id": "sUGdwgpvAY8M",
        "outputId": "5849745f-e33b-4d28-abc7-4a24339d05a6"
      },
      "outputs": [
        {
          "output_type": "stream",
          "name": "stdout",
          "text": [
            "       precision    recall        f1\n",
            "b       0.896435  0.937833  0.916667\n",
            "e       0.877551  0.973585  0.923077\n",
            "...          ...       ...       ...\n",
            "micro   0.885479  0.885479  0.885479\n",
            "macro   0.886804  0.763804  0.807395\n",
            "\n",
            "[6 rows x 3 columns]\n"
          ]
        }
      ],
      "source": [
        "print(culculate_scores(test['CATEGORY'],test_pred[1]))"
      ]
    },
    {
      "cell_type": "markdown",
      "metadata": {
        "id": "BLMO6tKLCfTE"
      },
      "source": [
        "57 52で学習したロジスティック回帰モデルの中で，重みの高い特徴量トップ10と，重みの低い特徴量トップ10を確認せよ．"
      ]
    },
    {
      "cell_type": "code",
      "execution_count": 31,
      "metadata": {
        "colab": {
          "base_uri": "https://localhost:8080/"
        },
        "id": "-brOXW_BmkZj",
        "outputId": "6d625b93-6a4d-41a1-b511-8005950fced8"
      },
      "outputs": [
        {
          "output_type": "stream",
          "name": "stdout",
          "text": [
            "['0m' '0million' '0nd' ... 'zac efron' 'zendaya' 'zone']\n"
          ]
        }
      ],
      "source": [
        "print(X_train.columns.values)"
      ]
    },
    {
      "cell_type": "code",
      "execution_count": 32,
      "metadata": {
        "colab": {
          "base_uri": "https://localhost:8080/",
          "height": 654
        },
        "id": "maQkVfy9nFW6",
        "outputId": "5c0a0998-2ca7-48a6-c4ed-adfa49c8df8d"
      },
      "outputs": [
        {
          "output_type": "stream",
          "name": "stdout",
          "text": [
            "カテゴリ：b\n"
          ]
        },
        {
          "output_type": "display_data",
          "data": {
            "text/html": [
              "\n",
              "  <div id=\"df-152578c4-e0ad-40ff-a3c4-347686f8b6ec\">\n",
              "    <div class=\"colab-df-container\">\n",
              "      <div>\n",
              "<style scoped>\n",
              "    .dataframe tbody tr th:only-of-type {\n",
              "        vertical-align: middle;\n",
              "    }\n",
              "\n",
              "    .dataframe tbody tr th {\n",
              "        vertical-align: top;\n",
              "    }\n",
              "\n",
              "    .dataframe thead th {\n",
              "        text-align: right;\n",
              "    }\n",
              "</style>\n",
              "<table border=\"1\" class=\"dataframe\">\n",
              "  <thead>\n",
              "    <tr style=\"text-align: right;\">\n",
              "      <th></th>\n",
              "      <th>1</th>\n",
              "      <th>2</th>\n",
              "      <th>...</th>\n",
              "      <th>9</th>\n",
              "      <th>10</th>\n",
              "    </tr>\n",
              "  </thead>\n",
              "  <tbody>\n",
              "    <tr>\n",
              "      <th>best</th>\n",
              "      <td>bank</td>\n",
              "      <td>fed</td>\n",
              "      <td>...</td>\n",
              "      <td>yellen</td>\n",
              "      <td>dollar</td>\n",
              "    </tr>\n",
              "    <tr>\n",
              "      <th>worst</th>\n",
              "      <td>video</td>\n",
              "      <td>ebola</td>\n",
              "      <td>...</td>\n",
              "      <td>star</td>\n",
              "      <td>microsoft</td>\n",
              "    </tr>\n",
              "  </tbody>\n",
              "</table>\n",
              "<p>2 rows × 10 columns</p>\n",
              "</div>\n",
              "      <button class=\"colab-df-convert\" onclick=\"convertToInteractive('df-152578c4-e0ad-40ff-a3c4-347686f8b6ec')\"\n",
              "              title=\"Convert this dataframe to an interactive table.\"\n",
              "              style=\"display:none;\">\n",
              "        \n",
              "  <svg xmlns=\"http://www.w3.org/2000/svg\" height=\"24px\"viewBox=\"0 0 24 24\"\n",
              "       width=\"24px\">\n",
              "    <path d=\"M0 0h24v24H0V0z\" fill=\"none\"/>\n",
              "    <path d=\"M18.56 5.44l.94 2.06.94-2.06 2.06-.94-2.06-.94-.94-2.06-.94 2.06-2.06.94zm-11 1L8.5 8.5l.94-2.06 2.06-.94-2.06-.94L8.5 2.5l-.94 2.06-2.06.94zm10 10l.94 2.06.94-2.06 2.06-.94-2.06-.94-.94-2.06-.94 2.06-2.06.94z\"/><path d=\"M17.41 7.96l-1.37-1.37c-.4-.4-.92-.59-1.43-.59-.52 0-1.04.2-1.43.59L10.3 9.45l-7.72 7.72c-.78.78-.78 2.05 0 2.83L4 21.41c.39.39.9.59 1.41.59.51 0 1.02-.2 1.41-.59l7.78-7.78 2.81-2.81c.8-.78.8-2.07 0-2.86zM5.41 20L4 18.59l7.72-7.72 1.47 1.35L5.41 20z\"/>\n",
              "  </svg>\n",
              "      </button>\n",
              "      \n",
              "  <style>\n",
              "    .colab-df-container {\n",
              "      display:flex;\n",
              "      flex-wrap:wrap;\n",
              "      gap: 12px;\n",
              "    }\n",
              "\n",
              "    .colab-df-convert {\n",
              "      background-color: #E8F0FE;\n",
              "      border: none;\n",
              "      border-radius: 50%;\n",
              "      cursor: pointer;\n",
              "      display: none;\n",
              "      fill: #1967D2;\n",
              "      height: 32px;\n",
              "      padding: 0 0 0 0;\n",
              "      width: 32px;\n",
              "    }\n",
              "\n",
              "    .colab-df-convert:hover {\n",
              "      background-color: #E2EBFA;\n",
              "      box-shadow: 0px 1px 2px rgba(60, 64, 67, 0.3), 0px 1px 3px 1px rgba(60, 64, 67, 0.15);\n",
              "      fill: #174EA6;\n",
              "    }\n",
              "\n",
              "    [theme=dark] .colab-df-convert {\n",
              "      background-color: #3B4455;\n",
              "      fill: #D2E3FC;\n",
              "    }\n",
              "\n",
              "    [theme=dark] .colab-df-convert:hover {\n",
              "      background-color: #434B5C;\n",
              "      box-shadow: 0px 1px 3px 1px rgba(0, 0, 0, 0.15);\n",
              "      filter: drop-shadow(0px 1px 2px rgba(0, 0, 0, 0.3));\n",
              "      fill: #FFFFFF;\n",
              "    }\n",
              "  </style>\n",
              "\n",
              "      <script>\n",
              "        const buttonEl =\n",
              "          document.querySelector('#df-152578c4-e0ad-40ff-a3c4-347686f8b6ec button.colab-df-convert');\n",
              "        buttonEl.style.display =\n",
              "          google.colab.kernel.accessAllowed ? 'block' : 'none';\n",
              "\n",
              "        async function convertToInteractive(key) {\n",
              "          const element = document.querySelector('#df-152578c4-e0ad-40ff-a3c4-347686f8b6ec');\n",
              "          const dataTable =\n",
              "            await google.colab.kernel.invokeFunction('convertToInteractive',\n",
              "                                                     [key], {});\n",
              "          if (!dataTable) return;\n",
              "\n",
              "          const docLinkHtml = 'Like what you see? Visit the ' +\n",
              "            '<a target=\"_blank\" href=https://colab.research.google.com/notebooks/data_table.ipynb>data table notebook</a>'\n",
              "            + ' to learn more about interactive tables.';\n",
              "          element.innerHTML = '';\n",
              "          dataTable['output_type'] = 'display_data';\n",
              "          await google.colab.output.renderOutput(dataTable, element);\n",
              "          const docLink = document.createElement('div');\n",
              "          docLink.innerHTML = docLinkHtml;\n",
              "          element.appendChild(docLink);\n",
              "        }\n",
              "      </script>\n",
              "    </div>\n",
              "  </div>\n",
              "  "
            ],
            "text/plain": [
              "          1      2   ...      9          10\n",
              "best    bank    fed  ...  yellen     dollar\n",
              "worst  video  ebola  ...    star  microsoft\n",
              "\n",
              "[2 rows x 10 columns]"
            ]
          },
          "metadata": {}
        },
        {
          "output_type": "stream",
          "name": "stdout",
          "text": [
            "\n",
            "カテゴリ：e\n"
          ]
        },
        {
          "output_type": "display_data",
          "data": {
            "text/html": [
              "\n",
              "  <div id=\"df-c5cf5d4e-b6a2-481a-8060-d19fd446f4d5\">\n",
              "    <div class=\"colab-df-container\">\n",
              "      <div>\n",
              "<style scoped>\n",
              "    .dataframe tbody tr th:only-of-type {\n",
              "        vertical-align: middle;\n",
              "    }\n",
              "\n",
              "    .dataframe tbody tr th {\n",
              "        vertical-align: top;\n",
              "    }\n",
              "\n",
              "    .dataframe thead th {\n",
              "        text-align: right;\n",
              "    }\n",
              "</style>\n",
              "<table border=\"1\" class=\"dataframe\">\n",
              "  <thead>\n",
              "    <tr style=\"text-align: right;\">\n",
              "      <th></th>\n",
              "      <th>1</th>\n",
              "      <th>2</th>\n",
              "      <th>...</th>\n",
              "      <th>9</th>\n",
              "      <th>10</th>\n",
              "    </tr>\n",
              "  </thead>\n",
              "  <tbody>\n",
              "    <tr>\n",
              "      <th>best</th>\n",
              "      <td>kardashian</td>\n",
              "      <td>chris</td>\n",
              "      <td>...</td>\n",
              "      <td>wedding</td>\n",
              "      <td>she</td>\n",
              "    </tr>\n",
              "    <tr>\n",
              "      <th>worst</th>\n",
              "      <td>us</td>\n",
              "      <td>update</td>\n",
              "      <td>...</td>\n",
              "      <td>apple</td>\n",
              "      <td>says</td>\n",
              "    </tr>\n",
              "  </tbody>\n",
              "</table>\n",
              "<p>2 rows × 10 columns</p>\n",
              "</div>\n",
              "      <button class=\"colab-df-convert\" onclick=\"convertToInteractive('df-c5cf5d4e-b6a2-481a-8060-d19fd446f4d5')\"\n",
              "              title=\"Convert this dataframe to an interactive table.\"\n",
              "              style=\"display:none;\">\n",
              "        \n",
              "  <svg xmlns=\"http://www.w3.org/2000/svg\" height=\"24px\"viewBox=\"0 0 24 24\"\n",
              "       width=\"24px\">\n",
              "    <path d=\"M0 0h24v24H0V0z\" fill=\"none\"/>\n",
              "    <path d=\"M18.56 5.44l.94 2.06.94-2.06 2.06-.94-2.06-.94-.94-2.06-.94 2.06-2.06.94zm-11 1L8.5 8.5l.94-2.06 2.06-.94-2.06-.94L8.5 2.5l-.94 2.06-2.06.94zm10 10l.94 2.06.94-2.06 2.06-.94-2.06-.94-.94-2.06-.94 2.06-2.06.94z\"/><path d=\"M17.41 7.96l-1.37-1.37c-.4-.4-.92-.59-1.43-.59-.52 0-1.04.2-1.43.59L10.3 9.45l-7.72 7.72c-.78.78-.78 2.05 0 2.83L4 21.41c.39.39.9.59 1.41.59.51 0 1.02-.2 1.41-.59l7.78-7.78 2.81-2.81c.8-.78.8-2.07 0-2.86zM5.41 20L4 18.59l7.72-7.72 1.47 1.35L5.41 20z\"/>\n",
              "  </svg>\n",
              "      </button>\n",
              "      \n",
              "  <style>\n",
              "    .colab-df-container {\n",
              "      display:flex;\n",
              "      flex-wrap:wrap;\n",
              "      gap: 12px;\n",
              "    }\n",
              "\n",
              "    .colab-df-convert {\n",
              "      background-color: #E8F0FE;\n",
              "      border: none;\n",
              "      border-radius: 50%;\n",
              "      cursor: pointer;\n",
              "      display: none;\n",
              "      fill: #1967D2;\n",
              "      height: 32px;\n",
              "      padding: 0 0 0 0;\n",
              "      width: 32px;\n",
              "    }\n",
              "\n",
              "    .colab-df-convert:hover {\n",
              "      background-color: #E2EBFA;\n",
              "      box-shadow: 0px 1px 2px rgba(60, 64, 67, 0.3), 0px 1px 3px 1px rgba(60, 64, 67, 0.15);\n",
              "      fill: #174EA6;\n",
              "    }\n",
              "\n",
              "    [theme=dark] .colab-df-convert {\n",
              "      background-color: #3B4455;\n",
              "      fill: #D2E3FC;\n",
              "    }\n",
              "\n",
              "    [theme=dark] .colab-df-convert:hover {\n",
              "      background-color: #434B5C;\n",
              "      box-shadow: 0px 1px 3px 1px rgba(0, 0, 0, 0.15);\n",
              "      filter: drop-shadow(0px 1px 2px rgba(0, 0, 0, 0.3));\n",
              "      fill: #FFFFFF;\n",
              "    }\n",
              "  </style>\n",
              "\n",
              "      <script>\n",
              "        const buttonEl =\n",
              "          document.querySelector('#df-c5cf5d4e-b6a2-481a-8060-d19fd446f4d5 button.colab-df-convert');\n",
              "        buttonEl.style.display =\n",
              "          google.colab.kernel.accessAllowed ? 'block' : 'none';\n",
              "\n",
              "        async function convertToInteractive(key) {\n",
              "          const element = document.querySelector('#df-c5cf5d4e-b6a2-481a-8060-d19fd446f4d5');\n",
              "          const dataTable =\n",
              "            await google.colab.kernel.invokeFunction('convertToInteractive',\n",
              "                                                     [key], {});\n",
              "          if (!dataTable) return;\n",
              "\n",
              "          const docLinkHtml = 'Like what you see? Visit the ' +\n",
              "            '<a target=\"_blank\" href=https://colab.research.google.com/notebooks/data_table.ipynb>data table notebook</a>'\n",
              "            + ' to learn more about interactive tables.';\n",
              "          element.innerHTML = '';\n",
              "          dataTable['output_type'] = 'display_data';\n",
              "          await google.colab.output.renderOutput(dataTable, element);\n",
              "          const docLink = document.createElement('div');\n",
              "          docLink.innerHTML = docLinkHtml;\n",
              "          element.appendChild(docLink);\n",
              "        }\n",
              "      </script>\n",
              "    </div>\n",
              "  </div>\n",
              "  "
            ],
            "text/plain": [
              "               1       2   ...       9     10\n",
              "best   kardashian   chris  ...  wedding   she\n",
              "worst          us  update  ...    apple  says\n",
              "\n",
              "[2 rows x 10 columns]"
            ]
          },
          "metadata": {}
        },
        {
          "output_type": "stream",
          "name": "stdout",
          "text": [
            "\n",
            "カテゴリ：m\n"
          ]
        },
        {
          "output_type": "display_data",
          "data": {
            "text/html": [
              "\n",
              "  <div id=\"df-4cfdc788-1ee9-4d1e-8175-eaaa5cf0c38b\">\n",
              "    <div class=\"colab-df-container\">\n",
              "      <div>\n",
              "<style scoped>\n",
              "    .dataframe tbody tr th:only-of-type {\n",
              "        vertical-align: middle;\n",
              "    }\n",
              "\n",
              "    .dataframe tbody tr th {\n",
              "        vertical-align: top;\n",
              "    }\n",
              "\n",
              "    .dataframe thead th {\n",
              "        text-align: right;\n",
              "    }\n",
              "</style>\n",
              "<table border=\"1\" class=\"dataframe\">\n",
              "  <thead>\n",
              "    <tr style=\"text-align: right;\">\n",
              "      <th></th>\n",
              "      <th>1</th>\n",
              "      <th>2</th>\n",
              "      <th>...</th>\n",
              "      <th>9</th>\n",
              "      <th>10</th>\n",
              "    </tr>\n",
              "  </thead>\n",
              "  <tbody>\n",
              "    <tr>\n",
              "      <th>best</th>\n",
              "      <td>ebola</td>\n",
              "      <td>study</td>\n",
              "      <td>...</td>\n",
              "      <td>could</td>\n",
              "      <td>cigarettes</td>\n",
              "    </tr>\n",
              "    <tr>\n",
              "      <th>worst</th>\n",
              "      <td>facebook</td>\n",
              "      <td>gm</td>\n",
              "      <td>...</td>\n",
              "      <td>climate</td>\n",
              "      <td>twitter</td>\n",
              "    </tr>\n",
              "  </tbody>\n",
              "</table>\n",
              "<p>2 rows × 10 columns</p>\n",
              "</div>\n",
              "      <button class=\"colab-df-convert\" onclick=\"convertToInteractive('df-4cfdc788-1ee9-4d1e-8175-eaaa5cf0c38b')\"\n",
              "              title=\"Convert this dataframe to an interactive table.\"\n",
              "              style=\"display:none;\">\n",
              "        \n",
              "  <svg xmlns=\"http://www.w3.org/2000/svg\" height=\"24px\"viewBox=\"0 0 24 24\"\n",
              "       width=\"24px\">\n",
              "    <path d=\"M0 0h24v24H0V0z\" fill=\"none\"/>\n",
              "    <path d=\"M18.56 5.44l.94 2.06.94-2.06 2.06-.94-2.06-.94-.94-2.06-.94 2.06-2.06.94zm-11 1L8.5 8.5l.94-2.06 2.06-.94-2.06-.94L8.5 2.5l-.94 2.06-2.06.94zm10 10l.94 2.06.94-2.06 2.06-.94-2.06-.94-.94-2.06-.94 2.06-2.06.94z\"/><path d=\"M17.41 7.96l-1.37-1.37c-.4-.4-.92-.59-1.43-.59-.52 0-1.04.2-1.43.59L10.3 9.45l-7.72 7.72c-.78.78-.78 2.05 0 2.83L4 21.41c.39.39.9.59 1.41.59.51 0 1.02-.2 1.41-.59l7.78-7.78 2.81-2.81c.8-.78.8-2.07 0-2.86zM5.41 20L4 18.59l7.72-7.72 1.47 1.35L5.41 20z\"/>\n",
              "  </svg>\n",
              "      </button>\n",
              "      \n",
              "  <style>\n",
              "    .colab-df-container {\n",
              "      display:flex;\n",
              "      flex-wrap:wrap;\n",
              "      gap: 12px;\n",
              "    }\n",
              "\n",
              "    .colab-df-convert {\n",
              "      background-color: #E8F0FE;\n",
              "      border: none;\n",
              "      border-radius: 50%;\n",
              "      cursor: pointer;\n",
              "      display: none;\n",
              "      fill: #1967D2;\n",
              "      height: 32px;\n",
              "      padding: 0 0 0 0;\n",
              "      width: 32px;\n",
              "    }\n",
              "\n",
              "    .colab-df-convert:hover {\n",
              "      background-color: #E2EBFA;\n",
              "      box-shadow: 0px 1px 2px rgba(60, 64, 67, 0.3), 0px 1px 3px 1px rgba(60, 64, 67, 0.15);\n",
              "      fill: #174EA6;\n",
              "    }\n",
              "\n",
              "    [theme=dark] .colab-df-convert {\n",
              "      background-color: #3B4455;\n",
              "      fill: #D2E3FC;\n",
              "    }\n",
              "\n",
              "    [theme=dark] .colab-df-convert:hover {\n",
              "      background-color: #434B5C;\n",
              "      box-shadow: 0px 1px 3px 1px rgba(0, 0, 0, 0.15);\n",
              "      filter: drop-shadow(0px 1px 2px rgba(0, 0, 0, 0.3));\n",
              "      fill: #FFFFFF;\n",
              "    }\n",
              "  </style>\n",
              "\n",
              "      <script>\n",
              "        const buttonEl =\n",
              "          document.querySelector('#df-4cfdc788-1ee9-4d1e-8175-eaaa5cf0c38b button.colab-df-convert');\n",
              "        buttonEl.style.display =\n",
              "          google.colab.kernel.accessAllowed ? 'block' : 'none';\n",
              "\n",
              "        async function convertToInteractive(key) {\n",
              "          const element = document.querySelector('#df-4cfdc788-1ee9-4d1e-8175-eaaa5cf0c38b');\n",
              "          const dataTable =\n",
              "            await google.colab.kernel.invokeFunction('convertToInteractive',\n",
              "                                                     [key], {});\n",
              "          if (!dataTable) return;\n",
              "\n",
              "          const docLinkHtml = 'Like what you see? Visit the ' +\n",
              "            '<a target=\"_blank\" href=https://colab.research.google.com/notebooks/data_table.ipynb>data table notebook</a>'\n",
              "            + ' to learn more about interactive tables.';\n",
              "          element.innerHTML = '';\n",
              "          dataTable['output_type'] = 'display_data';\n",
              "          await google.colab.output.renderOutput(dataTable, element);\n",
              "          const docLink = document.createElement('div');\n",
              "          docLink.innerHTML = docLinkHtml;\n",
              "          element.appendChild(docLink);\n",
              "        }\n",
              "      </script>\n",
              "    </div>\n",
              "  </div>\n",
              "  "
            ],
            "text/plain": [
              "             1      2   ...       9           10\n",
              "best      ebola  study  ...    could  cigarettes\n",
              "worst  facebook     gm  ...  climate     twitter\n",
              "\n",
              "[2 rows x 10 columns]"
            ]
          },
          "metadata": {}
        },
        {
          "output_type": "stream",
          "name": "stdout",
          "text": [
            "\n",
            "カテゴリ：t\n"
          ]
        },
        {
          "output_type": "display_data",
          "data": {
            "text/html": [
              "\n",
              "  <div id=\"df-a51b9db8-9257-4098-8a7c-3f0b56f45f7c\">\n",
              "    <div class=\"colab-df-container\">\n",
              "      <div>\n",
              "<style scoped>\n",
              "    .dataframe tbody tr th:only-of-type {\n",
              "        vertical-align: middle;\n",
              "    }\n",
              "\n",
              "    .dataframe tbody tr th {\n",
              "        vertical-align: top;\n",
              "    }\n",
              "\n",
              "    .dataframe thead th {\n",
              "        text-align: right;\n",
              "    }\n",
              "</style>\n",
              "<table border=\"1\" class=\"dataframe\">\n",
              "  <thead>\n",
              "    <tr style=\"text-align: right;\">\n",
              "      <th></th>\n",
              "      <th>1</th>\n",
              "      <th>2</th>\n",
              "      <th>...</th>\n",
              "      <th>9</th>\n",
              "      <th>10</th>\n",
              "    </tr>\n",
              "  </thead>\n",
              "  <tbody>\n",
              "    <tr>\n",
              "      <th>best</th>\n",
              "      <td>google</td>\n",
              "      <td>facebook</td>\n",
              "      <td>...</td>\n",
              "      <td>comcast</td>\n",
              "      <td>heartbleed</td>\n",
              "    </tr>\n",
              "    <tr>\n",
              "      <th>worst</th>\n",
              "      <td>stocks</td>\n",
              "      <td>fed</td>\n",
              "      <td>...</td>\n",
              "      <td>still</td>\n",
              "      <td>shares</td>\n",
              "    </tr>\n",
              "  </tbody>\n",
              "</table>\n",
              "<p>2 rows × 10 columns</p>\n",
              "</div>\n",
              "      <button class=\"colab-df-convert\" onclick=\"convertToInteractive('df-a51b9db8-9257-4098-8a7c-3f0b56f45f7c')\"\n",
              "              title=\"Convert this dataframe to an interactive table.\"\n",
              "              style=\"display:none;\">\n",
              "        \n",
              "  <svg xmlns=\"http://www.w3.org/2000/svg\" height=\"24px\"viewBox=\"0 0 24 24\"\n",
              "       width=\"24px\">\n",
              "    <path d=\"M0 0h24v24H0V0z\" fill=\"none\"/>\n",
              "    <path d=\"M18.56 5.44l.94 2.06.94-2.06 2.06-.94-2.06-.94-.94-2.06-.94 2.06-2.06.94zm-11 1L8.5 8.5l.94-2.06 2.06-.94-2.06-.94L8.5 2.5l-.94 2.06-2.06.94zm10 10l.94 2.06.94-2.06 2.06-.94-2.06-.94-.94-2.06-.94 2.06-2.06.94z\"/><path d=\"M17.41 7.96l-1.37-1.37c-.4-.4-.92-.59-1.43-.59-.52 0-1.04.2-1.43.59L10.3 9.45l-7.72 7.72c-.78.78-.78 2.05 0 2.83L4 21.41c.39.39.9.59 1.41.59.51 0 1.02-.2 1.41-.59l7.78-7.78 2.81-2.81c.8-.78.8-2.07 0-2.86zM5.41 20L4 18.59l7.72-7.72 1.47 1.35L5.41 20z\"/>\n",
              "  </svg>\n",
              "      </button>\n",
              "      \n",
              "  <style>\n",
              "    .colab-df-container {\n",
              "      display:flex;\n",
              "      flex-wrap:wrap;\n",
              "      gap: 12px;\n",
              "    }\n",
              "\n",
              "    .colab-df-convert {\n",
              "      background-color: #E8F0FE;\n",
              "      border: none;\n",
              "      border-radius: 50%;\n",
              "      cursor: pointer;\n",
              "      display: none;\n",
              "      fill: #1967D2;\n",
              "      height: 32px;\n",
              "      padding: 0 0 0 0;\n",
              "      width: 32px;\n",
              "    }\n",
              "\n",
              "    .colab-df-convert:hover {\n",
              "      background-color: #E2EBFA;\n",
              "      box-shadow: 0px 1px 2px rgba(60, 64, 67, 0.3), 0px 1px 3px 1px rgba(60, 64, 67, 0.15);\n",
              "      fill: #174EA6;\n",
              "    }\n",
              "\n",
              "    [theme=dark] .colab-df-convert {\n",
              "      background-color: #3B4455;\n",
              "      fill: #D2E3FC;\n",
              "    }\n",
              "\n",
              "    [theme=dark] .colab-df-convert:hover {\n",
              "      background-color: #434B5C;\n",
              "      box-shadow: 0px 1px 3px 1px rgba(0, 0, 0, 0.15);\n",
              "      filter: drop-shadow(0px 1px 2px rgba(0, 0, 0, 0.3));\n",
              "      fill: #FFFFFF;\n",
              "    }\n",
              "  </style>\n",
              "\n",
              "      <script>\n",
              "        const buttonEl =\n",
              "          document.querySelector('#df-a51b9db8-9257-4098-8a7c-3f0b56f45f7c button.colab-df-convert');\n",
              "        buttonEl.style.display =\n",
              "          google.colab.kernel.accessAllowed ? 'block' : 'none';\n",
              "\n",
              "        async function convertToInteractive(key) {\n",
              "          const element = document.querySelector('#df-a51b9db8-9257-4098-8a7c-3f0b56f45f7c');\n",
              "          const dataTable =\n",
              "            await google.colab.kernel.invokeFunction('convertToInteractive',\n",
              "                                                     [key], {});\n",
              "          if (!dataTable) return;\n",
              "\n",
              "          const docLinkHtml = 'Like what you see? Visit the ' +\n",
              "            '<a target=\"_blank\" href=https://colab.research.google.com/notebooks/data_table.ipynb>data table notebook</a>'\n",
              "            + ' to learn more about interactive tables.';\n",
              "          element.innerHTML = '';\n",
              "          dataTable['output_type'] = 'display_data';\n",
              "          await google.colab.output.renderOutput(dataTable, element);\n",
              "          const docLink = document.createElement('div');\n",
              "          docLink.innerHTML = docLinkHtml;\n",
              "          element.appendChild(docLink);\n",
              "        }\n",
              "      </script>\n",
              "    </div>\n",
              "  </div>\n",
              "  "
            ],
            "text/plain": [
              "           1         2   ...       9           10\n",
              "best   google  facebook  ...  comcast  heartbleed\n",
              "worst  stocks       fed  ...    still      shares\n",
              "\n",
              "[2 rows x 10 columns]"
            ]
          },
          "metadata": {}
        },
        {
          "output_type": "stream",
          "name": "stdout",
          "text": [
            "\n"
          ]
        }
      ],
      "source": [
        "features=X_train.columns.values\n",
        "index=range(1,11)\n",
        "for c,coef in zip(lg.classes_,lg.coef_):\n",
        "  print(f\"カテゴリ：{c}\")\n",
        "  best10=pd.DataFrame(features[np.argsort(coef)[::-1][:10]],columns=[\"best\"],index=index).T\n",
        "  worst10=pd.DataFrame(features[np.argsort(coef)[:10]],columns=[\"worst\"],index=index).T  \n",
        "  display(pd.concat([best10,worst10],axis=0))\n",
        "  print()"
      ]
    },
    {
      "cell_type": "markdown",
      "metadata": {
        "id": "Klx4InCNClKD"
      },
      "source": [
        "58 ロジスティック回帰モデルを学習するとき，正則化パラメータを調整することで，学習時の過学習（overfitting）の度合いを制御できる．異なる正則化パラメータでロジスティック回帰モデルを学習し，学習データ，検証データ，および評価データ上の正解率を求めよ．実験の結果は，正則化パラメータを横軸，正解率を縦軸としたグラフにまとめよ．"
      ]
    },
    {
      "cell_type": "markdown",
      "metadata": {
        "id": "-GOiCppvEpy0"
      },
      "source": [
        ""
      ]
    },
    {
      "cell_type": "code",
      "execution_count": 33,
      "metadata": {
        "id": "Zm3Km7GIChWA",
        "colab": {
          "base_uri": "https://localhost:8080/"
        },
        "outputId": "cddcf581-6bb7-43c9-f981-39fdf1022a47"
      },
      "outputs": [
        {
          "output_type": "stream",
          "name": "stderr",
          "text": [
            "100%|██████████| 10/10 [11:58<00:00, 71.89s/it] \n"
          ]
        }
      ],
      "source": [
        "from tqdm import tqdm\n",
        "result=[]\n",
        "for C in tqdm(np.logspace(-5,4,10,base=10)):\n",
        "  lg=LogisticRegression(random_state=123,max_iter=10000,C=C)\n",
        "  lg.fit(X_train,train['CATEGORY'])\n",
        "  train_pred=score_lg(lg,X_train)\n",
        "  valid_pred=score_lg(lg,X_valid)\n",
        "  test_pred=score_lg(lg,X_test)\n",
        "  train_accuracy=accuracy_score(train['CATEGORY'],train_pred[1])\n",
        "  valid_accuracy=accuracy_score(valid['CATEGORY'],valid_pred[1])\n",
        "  test_accuracy=accuracy_score(test['CATEGORY'],test_pred[1])\n",
        "  result.append([C,train_accuracy,valid_accuracy,test_accuracy])"
      ]
    },
    {
      "cell_type": "code",
      "execution_count": 34,
      "metadata": {
        "id": "vdFrgF21F1U8",
        "colab": {
          "base_uri": "https://localhost:8080/",
          "height": 283
        },
        "outputId": "22ebf47b-beba-4043-dca9-2827ab9211cb"
      },
      "outputs": [
        {
          "output_type": "display_data",
          "data": {
            "image/png": "[encoded data removed]",
            "text/plain": [
              "<Figure size 432x288 with 1 Axes>"
            ]
          },
          "metadata": {
            "needs_background": "light"
          }
        }
      ],
      "source": [
        "result=np.array(result).T\n",
        "plt.plot(result[0],result[1],label='train')\n",
        "plt.plot(result[0],result[2],label='valid')\n",
        "plt.plot(result[0],result[3],label='test')\n",
        "plt.ylim(0,1.1)\n",
        "plt.xlabel('C')\n",
        "plt.xscale('log')\n",
        "plt.ylabel('Accuracy')\n",
        "plt.legend()\n",
        "plt.show()"
      ]
    },
    {
      "cell_type": "markdown",
      "metadata": {
        "id": "sWS-gHt_JQGZ"
      },
      "source": [
        "59 学習アルゴリズムや学習パラメータを変えながら，カテゴリ分類モデルを学習せよ．検証データ上の正解率が最も高くなる学習アルゴリズム・パラメータを求めよ．また，その学習アルゴリズム・パラメータを用いたときの評価データ上の正解率を求めよ．"
      ]
    },
    {
      "cell_type": "code",
      "execution_count": 35,
      "metadata": {
        "colab": {
          "base_uri": "https://localhost:8080/"
        },
        "id": "pJ1cwlwmJJS6",
        "outputId": "cdd3e47c-9d7c-4e8f-9321-cad55864f2d3"
      },
      "outputs": [
        {
          "output_type": "stream",
          "name": "stdout",
          "text": [
            "Collecting optuna\n",
            "  Downloading optuna-2.10.0-py3-none-any.whl (308 kB)\n",
            "\u001b[?25l\r\u001b[K     |█                               | 10 kB 40.4 MB/s eta 0:00:01\r\u001b[K     |██▏                             | 20 kB 46.7 MB/s eta 0:00:01\r\u001b[K     |███▏                            | 30 kB 36.7 MB/s eta 0:00:01\r\u001b[K     |████▎                           | 40 kB 40.5 MB/s eta 0:00:01\r\u001b[K     |█████▎                          | 51 kB 32.2 MB/s eta 0:00:01\r\u001b[K     |██████▍                         | 61 kB 35.4 MB/s eta 0:00:01\r\u001b[K     |███████▍                        | 71 kB 24.2 MB/s eta 0:00:01\r\u001b[K     |████████▌                       | 81 kB 25.6 MB/s eta 0:00:01\r\u001b[K     |█████████▋                      | 92 kB 27.2 MB/s eta 0:00:01\r\u001b[K     |██████████▋                     | 102 kB 28.8 MB/s eta 0:00:01\r\u001b[K     |███████████▊                    | 112 kB 28.8 MB/s eta 0:00:01\r\u001b[K     |████████████▊                   | 122 kB 28.8 MB/s eta 0:00:01\r\u001b[K     |█████████████▉                  | 133 kB 28.8 MB/s eta 0:00:01\r\u001b[K     |██████████████▉                 | 143 kB 28.8 MB/s eta 0:00:01\r\u001b[K     |████████████████                | 153 kB 28.8 MB/s eta 0:00:01\r\u001b[K     |█████████████████               | 163 kB 28.8 MB/s eta 0:00:01\r\u001b[K     |██████████████████              | 174 kB 28.8 MB/s eta 0:00:01\r\u001b[K     |███████████████████▏            | 184 kB 28.8 MB/s eta 0:00:01\r\u001b[K     |████████████████████▏           | 194 kB 28.8 MB/s eta 0:00:01\r\u001b[K     |█████████████████████▎          | 204 kB 28.8 MB/s eta 0:00:01\r\u001b[K     |██████████████████████▎         | 215 kB 28.8 MB/s eta 0:00:01\r\u001b[K     |███████████████████████▍        | 225 kB 28.8 MB/s eta 0:00:01\r\u001b[K     |████████████████████████▌       | 235 kB 28.8 MB/s eta 0:00:01\r\u001b[K     |█████████████████████████▌      | 245 kB 28.8 MB/s eta 0:00:01\r\u001b[K     |██████████████████████████▋     | 256 kB 28.8 MB/s eta 0:00:01\r\u001b[K     |███████████████████████████▋    | 266 kB 28.8 MB/s eta 0:00:01\r\u001b[K     |████████████████████████████▊   | 276 kB 28.8 MB/s eta 0:00:01\r\u001b[K     |█████████████████████████████▊  | 286 kB 28.8 MB/s eta 0:00:01\r\u001b[K     |██████████████████████████████▉ | 296 kB 28.8 MB/s eta 0:00:01\r\u001b[K     |████████████████████████████████| 307 kB 28.8 MB/s eta 0:00:01\r\u001b[K     |████████████████████████████████| 308 kB 28.8 MB/s \n",
            "\u001b[?25hRequirement already satisfied: PyYAML in /usr/local/lib/python3.7/dist-packages (from optuna) (3.13)\n",
            "Requirement already satisfied: packaging>=20.0 in /usr/local/lib/python3.7/dist-packages (from optuna) (21.3)\n",
            "Requirement already satisfied: tqdm in /usr/local/lib/python3.7/dist-packages (from optuna) (4.62.3)\n",
            "Collecting colorlog\n",
            "  Downloading colorlog-6.6.0-py2.py3-none-any.whl (11 kB)\n",
            "Collecting alembic\n",
            "  Downloading alembic-1.7.5-py3-none-any.whl (209 kB)\n",
            "\u001b[K     |████████████████████████████████| 209 kB 60.0 MB/s \n",
            "\u001b[?25hCollecting cmaes>=0.8.2\n",
            "  Downloading cmaes-0.8.2-py3-none-any.whl (15 kB)\n",
            "Requirement already satisfied: sqlalchemy>=1.1.0 in /usr/local/lib/python3.7/dist-packages (from optuna) (1.4.29)\n",
            "Requirement already satisfied: scipy!=1.4.0 in /usr/local/lib/python3.7/dist-packages (from optuna) (1.4.1)\n",
            "Collecting cliff\n",
            "  Downloading cliff-3.10.0-py3-none-any.whl (80 kB)\n",
            "\u001b[K     |████████████████████████████████| 80 kB 12.5 MB/s \n",
            "\u001b[?25hRequirement already satisfied: numpy in /usr/local/lib/python3.7/dist-packages (from optuna) (1.19.5)\n",
            "Requirement already satisfied: pyparsing!=3.0.5,>=2.0.2 in /usr/local/lib/python3.7/dist-packages (from packaging>=20.0->optuna) (3.0.6)\n",
            "Requirement already satisfied: greenlet!=0.4.17 in /usr/local/lib/python3.7/dist-packages (from sqlalchemy>=1.1.0->optuna) (1.1.2)\n",
            "Requirement already satisfied: importlib-metadata in /usr/local/lib/python3.7/dist-packages (from sqlalchemy>=1.1.0->optuna) (4.10.0)\n",
            "Requirement already satisfied: importlib-resources in /usr/local/lib/python3.7/dist-packages (from alembic->optuna) (5.4.0)\n",
            "Collecting Mako\n",
            "  Downloading Mako-1.1.6-py2.py3-none-any.whl (75 kB)\n",
            "\u001b[K     |████████████████████████████████| 75 kB 6.3 MB/s \n",
            "\u001b[?25hCollecting pbr!=2.1.0,>=2.0.0\n",
            "  Downloading pbr-5.8.0-py2.py3-none-any.whl (112 kB)\n",
            "\u001b[K     |████████████████████████████████| 112 kB 75.8 MB/s \n",
            "\u001b[?25hCollecting stevedore>=2.0.1\n",
            "  Downloading stevedore-3.5.0-py3-none-any.whl (49 kB)\n",
            "\u001b[K     |████████████████████████████████| 49 kB 8.2 MB/s \n",
            "\u001b[?25hCollecting autopage>=0.4.0\n",
            "  Downloading autopage-0.5.0-py3-none-any.whl (29 kB)\n",
            "Requirement already satisfied: PrettyTable>=0.7.2 in /usr/local/lib/python3.7/dist-packages (from cliff->optuna) (3.0.0)\n",
            "Collecting cmd2>=1.0.0\n",
            "  Downloading cmd2-2.3.3-py3-none-any.whl (149 kB)\n",
            "\u001b[K     |████████████████████████████████| 149 kB 71.9 MB/s \n",
            "\u001b[?25hRequirement already satisfied: wcwidth>=0.1.7 in /usr/local/lib/python3.7/dist-packages (from cmd2>=1.0.0->cliff->optuna) (0.2.5)\n",
            "Requirement already satisfied: typing-extensions in /usr/local/lib/python3.7/dist-packages (from cmd2>=1.0.0->cliff->optuna) (3.10.0.2)\n",
            "Collecting pyperclip>=1.6\n",
            "  Downloading pyperclip-1.8.2.tar.gz (20 kB)\n",
            "Requirement already satisfied: attrs>=16.3.0 in /usr/local/lib/python3.7/dist-packages (from cmd2>=1.0.0->cliff->optuna) (21.4.0)\n",
            "Requirement already satisfied: zipp>=0.5 in /usr/local/lib/python3.7/dist-packages (from importlib-metadata->sqlalchemy>=1.1.0->optuna) (3.7.0)\n",
            "Requirement already satisfied: MarkupSafe>=0.9.2 in /usr/local/lib/python3.7/dist-packages (from Mako->alembic->optuna) (2.0.1)\n",
            "Building wheels for collected packages: pyperclip\n",
            "  Building wheel for pyperclip (setup.py) ... \u001b[?25l\u001b[?25hdone\n",
            "  Created wheel for pyperclip: filename=pyperclip-1.8.2-py3-none-any.whl size=11137 sha256=3987f824857113b0cde56d44d7b71de9cae78a3a81af31e028a9890246e2d0c7\n",
            "  Stored in directory: /root/.cache/pip/wheels/9f/18/84/8f69f8b08169c7bae2dde6bd7daf0c19fca8c8e500ee620a28\n",
            "Successfully built pyperclip\n",
            "Installing collected packages: pyperclip, pbr, stevedore, Mako, cmd2, autopage, colorlog, cmaes, cliff, alembic, optuna\n",
            "Successfully installed Mako-1.1.6 alembic-1.7.5 autopage-0.5.0 cliff-3.10.0 cmaes-0.8.2 cmd2-2.3.3 colorlog-6.6.0 optuna-2.10.0 pbr-5.8.0 pyperclip-1.8.2 stevedore-3.5.0\n"
          ]
        }
      ],
      "source": [
        "!pip install optuna"
      ]
    },
    {
      "cell_type": "code",
      "execution_count": 36,
      "metadata": {
        "id": "5ARtUHl68qCX"
      },
      "outputs": [],
      "source": [
        "import optuna"
      ]
    },
    {
      "cell_type": "code",
      "execution_count": 37,
      "metadata": {
        "id": "zMHj8R_Q1Kif"
      },
      "outputs": [],
      "source": [
        "# 最適化対象を関数で指定\n",
        "def objective_lg(trial):\n",
        "  # チューニング対象パラメータのセット\n",
        "  l1_ratio = trial.suggest_uniform('l1_ratio', 0, 1)\n",
        "  C = trial.suggest_loguniform('C', 1e-4, 1e4)\n",
        "\n",
        "  # モデルの学習\n",
        "  lg = LogisticRegression(random_state=123, \n",
        "                          max_iter=10000, \n",
        "                          penalty='elasticnet', \n",
        "                          solver='saga', \n",
        "                          l1_ratio=l1_ratio, \n",
        "                          C=C)\n",
        "  lg.fit(X_train, train['CATEGORY'])\n",
        "\n",
        "  # 予測値の取得\n",
        "  valid_pred = score_lg(lg, X_valid)\n",
        "\n",
        "  # 正解率の算出\n",
        "  valid_accuracy = accuracy_score(valid['CATEGORY'], valid_pred[1])    \n",
        "\n",
        "  return valid_accuracy "
      ]
    },
    {
      "cell_type": "code",
      "execution_count": 38,
      "metadata": {
        "colab": {
          "base_uri": "https://localhost:8080/"
        },
        "id": "ITssXnK-7ZFs",
        "outputId": "3d02032a-be58-4874-d1d6-228c8b449ffd"
      },
      "outputs": [
        {
          "output_type": "stream",
          "name": "stderr",
          "text": [
            "\u001b[32m[I 2022-01-23 10:40:08,438]\u001b[0m A new study created in memory with name: no-name-9164d739-aae1-4b29-8eaa-93ba7cb49560\u001b[0m\n"
          ]
        }
      ],
      "source": [
        "# 最適化\n",
        "study = optuna.create_study(direction='maximize')"
      ]
    },
    {
      "cell_type": "code",
      "execution_count": 39,
      "metadata": {
        "colab": {
          "base_uri": "https://localhost:8080/"
        },
        "id": "n_azNxcithsK",
        "outputId": "f31bd870-0444-425f-8263-623bcb0bfc7a"
      },
      "outputs": [
        {
          "output_type": "stream",
          "name": "stderr",
          "text": [
            "\u001b[32m[I 2022-01-23 10:40:47,530]\u001b[0m Trial 0 finished with value: 0.8884730538922155 and parameters: {'l1_ratio': 0.04275654233849768, 'C': 1.6272753486864038}. Best is trial 0 with value: 0.8884730538922155.\u001b[0m\n"
          ]
        }
      ],
      "source": [
        "study.optimize(objective_lg, timeout=10)"
      ]
    },
    {
      "cell_type": "code",
      "execution_count": 40,
      "metadata": {
        "colab": {
          "base_uri": "https://localhost:8080/"
        },
        "id": "Ob59ZaxvtkNz",
        "outputId": "74bfdddb-75e2-4821-a41d-9b6d2d09a9b8"
      },
      "outputs": [
        {
          "output_type": "stream",
          "name": "stdout",
          "text": [
            "Best trial:\n",
            "  Value: 0.888\n",
            "  Params: \n",
            "    l1_ratio: 0.04275654233849768\n",
            "    C: 1.6272753486864038\n"
          ]
        }
      ],
      "source": [
        "# 結果の表示\n",
        "print('Best trial:')\n",
        "trial = study.best_trial\n",
        "print('  Value: {:.3f}'.format(trial.value))\n",
        "print('  Params: ')\n",
        "for key, value in trial.params.items():\n",
        "  print('    {}: {}'.format(key, value))"
      ]
    },
    {
      "cell_type": "code",
      "execution_count": 41,
      "metadata": {
        "colab": {
          "base_uri": "https://localhost:8080/"
        },
        "id": "0ceujCFd9f8M",
        "outputId": "497d0bcb-38e0-4f77-b09e-497f55bbeee3"
      },
      "outputs": [
        {
          "output_type": "stream",
          "name": "stdout",
          "text": [
            "train accuracy=0.9393485585922875\n",
            "valid accuracy=0.8884730538922155\n",
            "test accuracy=0.8929640718562875\n"
          ]
        }
      ],
      "source": [
        "l1_ratio=trial.params[\"l1_ratio\"]\n",
        "C=trial.params[\"C\"]\n",
        "lg=LogisticRegression(random_state=123,max_iter=10000, penalty=\"elasticnet\",solver=\"saga\",l1_ratio=l1_ratio,C=C)\n",
        "lg.fit(X_train,train[\"CATEGORY\"])\n",
        "train_pred=score_lg(lg,X_train)\n",
        "valid_pred=score_lg(lg,X_valid)\n",
        "test_pred=score_lg(lg,X_test)\n",
        "train_accuracy=accuracy_score(train[\"CATEGORY\"],train_pred[1])\n",
        "valid_accuracy=accuracy_score(valid[\"CATEGORY\"],valid_pred[1])\n",
        "test_accuracy=accuracy_score(test[\"CATEGORY\"],test_pred[1])\n",
        "print(f\"train accuracy={train_accuracy}\")\n",
        "print(f\"valid accuracy={valid_accuracy}\")\n",
        "print(f\"test accuracy={test_accuracy}\")"
      ]
    },
    {
      "cell_type": "code",
      "execution_count": 42,
      "metadata": {
        "colab": {
          "base_uri": "https://localhost:8080/"
        },
        "id": "5czQYoP1YbQ5",
        "outputId": "b65236c6-2ec0-4c60-a8ef-2ccce6035ffa"
      },
      "outputs": [
        {
          "output_type": "stream",
          "name": "stdout",
          "text": [
            "Requirement already satisfied: xgboost in /usr/local/lib/python3.7/dist-packages (0.90)\n",
            "Requirement already satisfied: scipy in /usr/local/lib/python3.7/dist-packages (from xgboost) (1.4.1)\n",
            "Requirement already satisfied: numpy in /usr/local/lib/python3.7/dist-packages (from xgboost) (1.19.5)\n"
          ]
        }
      ],
      "source": [
        "!pip install xgboost\n",
        "import xgboost as xgb"
      ]
    },
    {
      "cell_type": "code",
      "execution_count": 43,
      "metadata": {
        "colab": {
          "base_uri": "https://localhost:8080/"
        },
        "id": "uiO6bgpG_hsH",
        "outputId": "dae03a85-b01b-4bea-9867-cbe8f72e9bcd"
      },
      "outputs": [
        {
          "output_type": "stream",
          "name": "stdout",
          "text": [
            "[0]\ttrain-mlogloss:1.32642\teval-mlogloss:1.32611\n",
            "Multiple eval metrics have been passed: 'eval-mlogloss' will be used for early stopping.\n",
            "\n",
            "Will train until eval-mlogloss hasn't improved in 10 rounds.\n",
            "[1]\ttrain-mlogloss:1.27436\teval-mlogloss:1.2738\n",
            "[2]\ttrain-mlogloss:1.22922\teval-mlogloss:1.22762\n",
            "[3]\ttrain-mlogloss:1.19009\teval-mlogloss:1.1898\n",
            "[4]\ttrain-mlogloss:1.15516\teval-mlogloss:1.15453\n",
            "[5]\ttrain-mlogloss:1.12434\teval-mlogloss:1.12429\n",
            "[6]\ttrain-mlogloss:1.09631\teval-mlogloss:1.09627\n",
            "[7]\ttrain-mlogloss:1.07105\teval-mlogloss:1.07068\n",
            "[8]\ttrain-mlogloss:1.04736\teval-mlogloss:1.04648\n",
            "[9]\ttrain-mlogloss:1.02662\teval-mlogloss:1.02609\n",
            "[10]\ttrain-mlogloss:1.00736\teval-mlogloss:1.00619\n",
            "[11]\ttrain-mlogloss:0.989489\teval-mlogloss:0.988119\n",
            "[12]\ttrain-mlogloss:0.973524\teval-mlogloss:0.973355\n",
            "[13]\ttrain-mlogloss:0.95863\teval-mlogloss:0.957826\n",
            "[14]\ttrain-mlogloss:0.944839\teval-mlogloss:0.943324\n",
            "[15]\ttrain-mlogloss:0.931885\teval-mlogloss:0.930973\n",
            "[16]\ttrain-mlogloss:0.919665\teval-mlogloss:0.919673\n",
            "[17]\ttrain-mlogloss:0.908451\teval-mlogloss:0.909472\n",
            "[18]\ttrain-mlogloss:0.89772\teval-mlogloss:0.899457\n",
            "[19]\ttrain-mlogloss:0.887843\teval-mlogloss:0.890453\n",
            "[20]\ttrain-mlogloss:0.878435\teval-mlogloss:0.881255\n",
            "[21]\ttrain-mlogloss:0.86964\teval-mlogloss:0.873079\n",
            "[22]\ttrain-mlogloss:0.861332\teval-mlogloss:0.86457\n",
            "[23]\ttrain-mlogloss:0.852579\teval-mlogloss:0.85662\n",
            "[24]\ttrain-mlogloss:0.844917\teval-mlogloss:0.850317\n",
            "[25]\ttrain-mlogloss:0.837624\teval-mlogloss:0.844034\n",
            "[26]\ttrain-mlogloss:0.830771\teval-mlogloss:0.837455\n",
            "[27]\ttrain-mlogloss:0.824186\teval-mlogloss:0.832007\n",
            "[28]\ttrain-mlogloss:0.8176\teval-mlogloss:0.826057\n",
            "[29]\ttrain-mlogloss:0.811571\teval-mlogloss:0.821064\n",
            "[30]\ttrain-mlogloss:0.805754\teval-mlogloss:0.816418\n",
            "[31]\ttrain-mlogloss:0.80032\teval-mlogloss:0.811237\n",
            "[32]\ttrain-mlogloss:0.794755\teval-mlogloss:0.806332\n",
            "[33]\ttrain-mlogloss:0.789461\teval-mlogloss:0.801565\n",
            "[34]\ttrain-mlogloss:0.784528\teval-mlogloss:0.79715\n",
            "[35]\ttrain-mlogloss:0.779451\teval-mlogloss:0.793478\n",
            "[36]\ttrain-mlogloss:0.774806\teval-mlogloss:0.78919\n",
            "[37]\ttrain-mlogloss:0.770065\teval-mlogloss:0.784703\n",
            "[38]\ttrain-mlogloss:0.765549\teval-mlogloss:0.780718\n",
            "[39]\ttrain-mlogloss:0.761131\teval-mlogloss:0.777237\n",
            "[40]\ttrain-mlogloss:0.756847\teval-mlogloss:0.773938\n",
            "[41]\ttrain-mlogloss:0.752756\teval-mlogloss:0.770069\n",
            "[42]\ttrain-mlogloss:0.748704\teval-mlogloss:0.766944\n",
            "[43]\ttrain-mlogloss:0.744665\teval-mlogloss:0.763705\n",
            "[44]\ttrain-mlogloss:0.740793\teval-mlogloss:0.759528\n",
            "[45]\ttrain-mlogloss:0.73686\teval-mlogloss:0.756576\n",
            "[46]\ttrain-mlogloss:0.733068\teval-mlogloss:0.753549\n",
            "[47]\ttrain-mlogloss:0.729298\teval-mlogloss:0.750897\n",
            "[48]\ttrain-mlogloss:0.725653\teval-mlogloss:0.747712\n",
            "[49]\ttrain-mlogloss:0.722082\teval-mlogloss:0.744673\n",
            "[50]\ttrain-mlogloss:0.71856\teval-mlogloss:0.74196\n",
            "[51]\ttrain-mlogloss:0.714718\teval-mlogloss:0.739525\n",
            "[52]\ttrain-mlogloss:0.711404\teval-mlogloss:0.736941\n",
            "[53]\ttrain-mlogloss:0.708121\teval-mlogloss:0.734878\n",
            "[54]\ttrain-mlogloss:0.70453\teval-mlogloss:0.732369\n",
            "[55]\ttrain-mlogloss:0.701355\teval-mlogloss:0.730106\n",
            "[56]\ttrain-mlogloss:0.698158\teval-mlogloss:0.727559\n",
            "[57]\ttrain-mlogloss:0.695125\teval-mlogloss:0.725139\n",
            "[58]\ttrain-mlogloss:0.692079\teval-mlogloss:0.722771\n",
            "[59]\ttrain-mlogloss:0.689145\teval-mlogloss:0.720735\n",
            "[60]\ttrain-mlogloss:0.686285\teval-mlogloss:0.718232\n",
            "[61]\ttrain-mlogloss:0.683355\teval-mlogloss:0.716205\n",
            "[62]\ttrain-mlogloss:0.6806\teval-mlogloss:0.71368\n",
            "[63]\ttrain-mlogloss:0.677522\teval-mlogloss:0.71187\n",
            "[64]\ttrain-mlogloss:0.674812\teval-mlogloss:0.709874\n",
            "[65]\ttrain-mlogloss:0.67218\teval-mlogloss:0.708013\n",
            "[66]\ttrain-mlogloss:0.669554\teval-mlogloss:0.705417\n",
            "[67]\ttrain-mlogloss:0.666935\teval-mlogloss:0.703405\n",
            "[68]\ttrain-mlogloss:0.664145\teval-mlogloss:0.701737\n",
            "[69]\ttrain-mlogloss:0.66163\teval-mlogloss:0.70006\n",
            "[70]\ttrain-mlogloss:0.659116\teval-mlogloss:0.697965\n",
            "[71]\ttrain-mlogloss:0.656566\teval-mlogloss:0.696019\n",
            "[72]\ttrain-mlogloss:0.653879\teval-mlogloss:0.693798\n",
            "[73]\ttrain-mlogloss:0.651473\teval-mlogloss:0.691508\n",
            "[74]\ttrain-mlogloss:0.649007\teval-mlogloss:0.68974\n",
            "[75]\ttrain-mlogloss:0.646609\teval-mlogloss:0.68822\n",
            "[76]\ttrain-mlogloss:0.644402\teval-mlogloss:0.686789\n",
            "[77]\ttrain-mlogloss:0.642155\teval-mlogloss:0.685427\n",
            "[78]\ttrain-mlogloss:0.639858\teval-mlogloss:0.683991\n",
            "[79]\ttrain-mlogloss:0.637373\teval-mlogloss:0.682133\n",
            "[80]\ttrain-mlogloss:0.635114\teval-mlogloss:0.680179\n",
            "[81]\ttrain-mlogloss:0.632876\teval-mlogloss:0.678408\n",
            "[82]\ttrain-mlogloss:0.630814\teval-mlogloss:0.677368\n",
            "[83]\ttrain-mlogloss:0.62872\teval-mlogloss:0.675591\n",
            "[84]\ttrain-mlogloss:0.626564\teval-mlogloss:0.673732\n",
            "[85]\ttrain-mlogloss:0.624517\teval-mlogloss:0.672343\n",
            "[86]\ttrain-mlogloss:0.622446\teval-mlogloss:0.670496\n",
            "[87]\ttrain-mlogloss:0.620249\teval-mlogloss:0.668664\n",
            "[88]\ttrain-mlogloss:0.618294\teval-mlogloss:0.667372\n",
            "[89]\ttrain-mlogloss:0.616329\teval-mlogloss:0.66556\n",
            "[90]\ttrain-mlogloss:0.614462\teval-mlogloss:0.664251\n",
            "[91]\ttrain-mlogloss:0.612513\teval-mlogloss:0.663424\n",
            "[92]\ttrain-mlogloss:0.610568\teval-mlogloss:0.661604\n",
            "[93]\ttrain-mlogloss:0.608592\teval-mlogloss:0.660068\n",
            "[94]\ttrain-mlogloss:0.606466\teval-mlogloss:0.659057\n",
            "[95]\ttrain-mlogloss:0.604673\teval-mlogloss:0.657757\n",
            "[96]\ttrain-mlogloss:0.602831\teval-mlogloss:0.655938\n",
            "[97]\ttrain-mlogloss:0.600912\teval-mlogloss:0.655359\n",
            "[98]\ttrain-mlogloss:0.599072\teval-mlogloss:0.653914\n",
            "[99]\ttrain-mlogloss:0.597134\teval-mlogloss:0.652024\n",
            "[100]\ttrain-mlogloss:0.59539\teval-mlogloss:0.650681\n",
            "[101]\ttrain-mlogloss:0.593392\teval-mlogloss:0.64938\n",
            "[102]\ttrain-mlogloss:0.591659\teval-mlogloss:0.647797\n",
            "[103]\ttrain-mlogloss:0.589979\teval-mlogloss:0.646581\n",
            "[104]\ttrain-mlogloss:0.588138\teval-mlogloss:0.645432\n",
            "[105]\ttrain-mlogloss:0.586421\teval-mlogloss:0.644229\n",
            "[106]\ttrain-mlogloss:0.58481\teval-mlogloss:0.642737\n",
            "[107]\ttrain-mlogloss:0.583162\teval-mlogloss:0.641908\n",
            "[108]\ttrain-mlogloss:0.581489\teval-mlogloss:0.640479\n",
            "[109]\ttrain-mlogloss:0.579877\teval-mlogloss:0.638999\n",
            "[110]\ttrain-mlogloss:0.578212\teval-mlogloss:0.63753\n",
            "[111]\ttrain-mlogloss:0.576591\teval-mlogloss:0.636379\n",
            "[112]\ttrain-mlogloss:0.575067\teval-mlogloss:0.635447\n",
            "[113]\ttrain-mlogloss:0.573281\teval-mlogloss:0.633976\n",
            "[114]\ttrain-mlogloss:0.571674\teval-mlogloss:0.632966\n",
            "[115]\ttrain-mlogloss:0.570158\teval-mlogloss:0.631925\n",
            "[116]\ttrain-mlogloss:0.568544\teval-mlogloss:0.631031\n",
            "[117]\ttrain-mlogloss:0.567009\teval-mlogloss:0.62978\n",
            "[118]\ttrain-mlogloss:0.565469\teval-mlogloss:0.628824\n",
            "[119]\ttrain-mlogloss:0.563996\teval-mlogloss:0.62786\n",
            "[120]\ttrain-mlogloss:0.562564\teval-mlogloss:0.626964\n",
            "[121]\ttrain-mlogloss:0.561128\teval-mlogloss:0.625617\n",
            "[122]\ttrain-mlogloss:0.559585\teval-mlogloss:0.624245\n",
            "[123]\ttrain-mlogloss:0.558151\teval-mlogloss:0.623223\n",
            "[124]\ttrain-mlogloss:0.556677\teval-mlogloss:0.62225\n",
            "[125]\ttrain-mlogloss:0.555209\teval-mlogloss:0.621233\n",
            "[126]\ttrain-mlogloss:0.553865\teval-mlogloss:0.620148\n",
            "[127]\ttrain-mlogloss:0.552442\teval-mlogloss:0.618883\n",
            "[128]\ttrain-mlogloss:0.551097\teval-mlogloss:0.617828\n",
            "[129]\ttrain-mlogloss:0.549631\teval-mlogloss:0.61713\n",
            "[130]\ttrain-mlogloss:0.54822\teval-mlogloss:0.615981\n",
            "[131]\ttrain-mlogloss:0.546723\teval-mlogloss:0.615005\n",
            "[132]\ttrain-mlogloss:0.545389\teval-mlogloss:0.614138\n",
            "[133]\ttrain-mlogloss:0.544064\teval-mlogloss:0.613436\n",
            "[134]\ttrain-mlogloss:0.542795\teval-mlogloss:0.612343\n",
            "[135]\ttrain-mlogloss:0.541466\teval-mlogloss:0.61157\n",
            "[136]\ttrain-mlogloss:0.540061\teval-mlogloss:0.610518\n",
            "[137]\ttrain-mlogloss:0.538683\teval-mlogloss:0.609385\n",
            "[138]\ttrain-mlogloss:0.537391\teval-mlogloss:0.607998\n",
            "[139]\ttrain-mlogloss:0.53604\teval-mlogloss:0.606882\n",
            "[140]\ttrain-mlogloss:0.534769\teval-mlogloss:0.606025\n",
            "[141]\ttrain-mlogloss:0.533566\teval-mlogloss:0.605471\n",
            "[142]\ttrain-mlogloss:0.532286\teval-mlogloss:0.604368\n",
            "[143]\ttrain-mlogloss:0.531059\teval-mlogloss:0.603418\n",
            "[144]\ttrain-mlogloss:0.529828\teval-mlogloss:0.60247\n",
            "[145]\ttrain-mlogloss:0.528572\teval-mlogloss:0.601788\n",
            "[146]\ttrain-mlogloss:0.527306\teval-mlogloss:0.600565\n",
            "[147]\ttrain-mlogloss:0.52605\teval-mlogloss:0.599549\n",
            "[148]\ttrain-mlogloss:0.524884\teval-mlogloss:0.598659\n",
            "[149]\ttrain-mlogloss:0.523646\teval-mlogloss:0.597866\n",
            "[150]\ttrain-mlogloss:0.522503\teval-mlogloss:0.597141\n",
            "[151]\ttrain-mlogloss:0.521289\teval-mlogloss:0.596222\n",
            "[152]\ttrain-mlogloss:0.520096\teval-mlogloss:0.595335\n",
            "[153]\ttrain-mlogloss:0.518758\teval-mlogloss:0.594674\n",
            "[154]\ttrain-mlogloss:0.517639\teval-mlogloss:0.594076\n",
            "[155]\ttrain-mlogloss:0.516518\teval-mlogloss:0.593208\n",
            "[156]\ttrain-mlogloss:0.5153\teval-mlogloss:0.592615\n",
            "[157]\ttrain-mlogloss:0.514213\teval-mlogloss:0.591985\n",
            "[158]\ttrain-mlogloss:0.513102\teval-mlogloss:0.591301\n",
            "[159]\ttrain-mlogloss:0.511989\teval-mlogloss:0.590457\n",
            "[160]\ttrain-mlogloss:0.510897\teval-mlogloss:0.589752\n",
            "[161]\ttrain-mlogloss:0.509849\teval-mlogloss:0.588843\n",
            "[162]\ttrain-mlogloss:0.508773\teval-mlogloss:0.587596\n",
            "[163]\ttrain-mlogloss:0.507669\teval-mlogloss:0.587032\n",
            "[164]\ttrain-mlogloss:0.506591\teval-mlogloss:0.58646\n",
            "[165]\ttrain-mlogloss:0.505437\teval-mlogloss:0.585952\n",
            "[166]\ttrain-mlogloss:0.504378\teval-mlogloss:0.585262\n",
            "[167]\ttrain-mlogloss:0.503257\teval-mlogloss:0.584623\n",
            "[168]\ttrain-mlogloss:0.502231\teval-mlogloss:0.583755\n",
            "[169]\ttrain-mlogloss:0.501117\teval-mlogloss:0.582888\n",
            "[170]\ttrain-mlogloss:0.500025\teval-mlogloss:0.582306\n",
            "[171]\ttrain-mlogloss:0.499046\teval-mlogloss:0.58157\n",
            "[172]\ttrain-mlogloss:0.498032\teval-mlogloss:0.580708\n",
            "[173]\ttrain-mlogloss:0.496899\teval-mlogloss:0.579919\n",
            "[174]\ttrain-mlogloss:0.495891\teval-mlogloss:0.579237\n",
            "[175]\ttrain-mlogloss:0.494879\teval-mlogloss:0.578634\n",
            "[176]\ttrain-mlogloss:0.493846\teval-mlogloss:0.577833\n",
            "[177]\ttrain-mlogloss:0.492823\teval-mlogloss:0.577337\n",
            "[178]\ttrain-mlogloss:0.491858\teval-mlogloss:0.576537\n",
            "[179]\ttrain-mlogloss:0.490854\teval-mlogloss:0.576232\n",
            "[180]\ttrain-mlogloss:0.48983\teval-mlogloss:0.575231\n",
            "[181]\ttrain-mlogloss:0.488849\teval-mlogloss:0.574402\n",
            "[182]\ttrain-mlogloss:0.487857\teval-mlogloss:0.573626\n",
            "[183]\ttrain-mlogloss:0.486854\teval-mlogloss:0.572722\n",
            "[184]\ttrain-mlogloss:0.485881\teval-mlogloss:0.572264\n",
            "[185]\ttrain-mlogloss:0.484927\teval-mlogloss:0.57158\n",
            "[186]\ttrain-mlogloss:0.483978\teval-mlogloss:0.57126\n",
            "[187]\ttrain-mlogloss:0.483037\teval-mlogloss:0.57034\n",
            "[188]\ttrain-mlogloss:0.48197\teval-mlogloss:0.569687\n",
            "[189]\ttrain-mlogloss:0.481078\teval-mlogloss:0.568856\n",
            "[190]\ttrain-mlogloss:0.480134\teval-mlogloss:0.568258\n",
            "[191]\ttrain-mlogloss:0.479168\teval-mlogloss:0.567487\n",
            "[192]\ttrain-mlogloss:0.478266\teval-mlogloss:0.566831\n",
            "[193]\ttrain-mlogloss:0.477334\teval-mlogloss:0.566529\n",
            "[194]\ttrain-mlogloss:0.47647\teval-mlogloss:0.565731\n",
            "[195]\ttrain-mlogloss:0.475574\teval-mlogloss:0.565251\n",
            "[196]\ttrain-mlogloss:0.474537\teval-mlogloss:0.564517\n",
            "[197]\ttrain-mlogloss:0.473664\teval-mlogloss:0.563708\n",
            "[198]\ttrain-mlogloss:0.472752\teval-mlogloss:0.563084\n",
            "[199]\ttrain-mlogloss:0.471897\teval-mlogloss:0.562493\n"
          ]
        }
      ],
      "source": [
        "params={\n",
        "    \"obfective\":\"multi:softmax\",\n",
        "    \"num_class\":4,\n",
        "    \"eval_metric\":\"mlogloss\",\n",
        "    \"colsample_bytree\":1.0,\n",
        "    \"colsample_bylevel\":0.5,\n",
        "    \"min_chile_weight\":1.0,\n",
        "    \"sabsample\":0.9,\n",
        "    \"eta\":0.1,\n",
        "    \"max_depth\":5,\n",
        "    \"gamma\":0,\n",
        "    \"alpha\":0,\n",
        "    \"lambda\":1.0,\n",
        "    \"num_round\":200,\n",
        "    \"early_stopping_rounds\":10,\n",
        "    \"verbosity\":0\n",
        "    }\n",
        "category_dict={\"b\":0,\"e\":1,\"t\":2,\"m\":3}\n",
        "y_train=train[\"CATEGORY\"].map(lambda x:category_dict[x])\n",
        "y_valid=valid[\"CATEGORY\"].map(lambda x:category_dict[x])\n",
        "y_test=test[\"CATEGORY\"].map(lambda x:category_dict[x])\n",
        "dtrain=xgb.DMatrix(X_train,y_train)\n",
        "dvalid=xgb.DMatrix(X_valid,y_valid)\n",
        "dtest=xgb.DMatrix(X_test,y_test)\n",
        "num_round=params.pop(\"num_round\")\n",
        "early_stopping_rounds=params.pop(\"early_stopping_rounds\")\n",
        "watchlist=[[dtrain,\"train\"],[dvalid,\"eval\"]]\n",
        "model=xgb.train(params,dtrain,num_round,evals=watchlist,early_stopping_rounds=early_stopping_rounds)"
      ]
    },
    {
      "cell_type": "code",
      "execution_count": 44,
      "metadata": {
        "id": "KVrh9zmSAIIN"
      },
      "outputs": [],
      "source": [
        "train_pred=model.predict(dtrain,ntree_limit=model.best_ntree_limit)\n",
        "valid_pred=model.predict(dvalid,ntree_limit=model.best_ntree_limit)\n",
        "test_pred=model.predict(dtest,ntree_limit=model.best_ntree_limit)\n",
        "train_accuracy=accuracy_score(y_train,train_pred)\n",
        "valid_accuracy=accuracy_score(y_valid,valid_pred)\n",
        "test_accuracy=accuracy_score(y_test,test_pred)"
      ]
    },
    {
      "cell_type": "code",
      "execution_count": 45,
      "metadata": {
        "id": "yTY6eYrRBM5R",
        "colab": {
          "base_uri": "https://localhost:8080/"
        },
        "outputId": "fc50573e-7828-439a-ee72-267b5ec3504f"
      },
      "outputs": [
        {
          "output_type": "stream",
          "name": "stdout",
          "text": [
            "train_accuracy:0.8653126169973793\n",
            "valid_accuracy:0.8353293413173652\n",
            "test_accuracy:0.8345808383233533\n"
          ]
        }
      ],
      "source": [
        "print(f\"train_accuracy:{train_accuracy}\")\n",
        "print(f\"valid_accuracy:{valid_accuracy}\")\n",
        "print(f\"test_accuracy:{test_accuracy}\")"
      ]
    }
  ],
  "metadata": {
    "accelerator": "GPU",
    "colab": {
      "collapsed_sections": [],
      "name": "chap6.ipynb",
      "provenance": [],
      "authorship_tag": "ABX9TyPzNtdapTD7P1PE/CIHy88Y",
      "include_colab_link": true
    },
    "kernelspec": {
      "display_name": "Python 3",
      "name": "python3"
    },
    "language_info": {
      "name": "python"
    }
  },
  "nbformat": 4,
  "nbformat_minor": 0
}